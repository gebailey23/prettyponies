{
 "cells": [
  {
   "cell_type": "markdown",
   "metadata": {},
   "source": [
    "# Working on a Baseline"
   ]
  },
  {
   "cell_type": "code",
   "execution_count": null,
   "metadata": {
    "collapsed": true
   },
   "outputs": [],
   "source": [
    "#############################################################################\n",
    "## READ IN THE CSVs WITH ALL THE DATA AND REDO THE DATETYPE TRANSFORMATION ## \n",
    "#############################################################################\n",
    "# traindf = pd.read_csv('/Users/George/DropBox/CS 109/traindf.csv', index_col=0);\n",
    "traindf = pd.read_csv('/Users/morganfbreitmeyer/Desktop/traindf.csv', index_col=0);\n",
    "traindf.date = pd.to_datetime(traindf.date)\n",
    "traindf['name'] = traindf['name'].astype(str)\n",
    "traindf['name'] = map(lambda x: x.upper(), traindf['name'])\n",
    "# traindf.loc[traindf['win']=='NaN'] = 0.0\n",
    "# traindf.loc[traindf['place']=='NaN'] = 0.0\n",
    "# traindf.loc[traindf['show']=='NaN'] = 0.0\n",
    "# traindf['win'].fillna(0, inplace=True)\n",
    "\n",
    "# testdf = pd.read_csv('tempdata/testdf.csv', index_col=0);\n",
    "testdf = pd.read_csv('/Users/morganfbreitmeyer/Desktop/testdf.csv', index_col=0);\n",
    "testdf.date = pd.to_datetime(testdf.date)\n",
    "# testdf['name'] = testdf['name'].astype(str)\n",
    "# testdf['name'] = map(lambda x: x.upper(), testdf['name'])\n",
    "# testdf[['win', 'place', 'show']].fillna(0, inplace=True)"
   ]
  },
  {
   "cell_type": "code",
   "execution_count": null,
   "metadata": {
    "collapsed": true
   },
   "outputs": [],
   "source": [
    "traindf = traindf[traindf.name != 'NAN']\n",
    "traindf.reset_index().drop('index', axis=1, inplace=True);"
   ]
  },
  {
   "cell_type": "code",
   "execution_count": null,
   "metadata": {
    "collapsed": true
   },
   "outputs": [],
   "source": []
  },
  {
   "cell_type": "code",
   "execution_count": null,
   "metadata": {
    "collapsed": true
   },
   "outputs": [],
   "source": [
    "def find_races(horses_name, traindf=traindf):\n",
    "    return traindf[traindf['name']==horses_name]\n",
    "\n",
    "def find_avg_payouts(df, race_date=datetime.date.today()):\n",
    "    out = {}\n",
    "    df = df[df.date < race_date]\n",
    "    out['win'] = np.mean(df.win[df.win != 0.0])\n",
    "    out['place'] = np.mean(df.place[df.place != 0.0])\n",
    "    out['show'] = np.mean(df.show[df.show != 0.0])\n",
    "    return out\n",
    "\n",
    "find_avg_payouts(find_races('SMARTY JONES', traindf=testdf), race_date=datetime.datetime(1998, 12, 12))"
   ]
  },
  {
   "cell_type": "markdown",
   "metadata": {},
   "source": [
    "The payouts are already standardized to $2 bets, so we luckily don't have to deal with that problem"
   ]
  },
  {
   "cell_type": "code",
   "execution_count": null,
   "metadata": {
    "collapsed": true
   },
   "outputs": [],
   "source": [
    "unique_test_dates = testdf['date'].unique()\n",
    "\n",
    "def find_horses(date):\n",
    "    return testdf['name'].loc[testdf['date'] == date]\n",
    "\n",
    "def find_track(date):\n",
    "    return testdf['track'].loc[testdf['date'] == date][0]\n",
    "\n",
    "#find_horses(datetime.datetime(1998, 5, 15))\n",
    "#type(testdf['date'][0])"
   ]
  },
  {
   "cell_type": "markdown",
   "metadata": {},
   "source": [
    "We run a simple regression (aka Average) to get a dict where the keys are a tuple `(date, track, horse)` and the values are themselves dictionaries with keys `win`, `place`, `show` and values as the corresponding averages leading into raceday (excluding information we couldn't have on raceday). "
   ]
  },
  {
   "cell_type": "code",
   "execution_count": null,
   "metadata": {
    "collapsed": true
   },
   "outputs": [],
   "source": [
    "avg_payouts = {}\n",
    "for i in testdf['date'].unique():\n",
    "    race = testdf.loc[testdf.date == i]\n",
    "    for j in range(len(race)):\n",
    "        date = race.date.iloc[j]\n",
    "        track = race.track.iloc[j]\n",
    "        horse = race.name.iloc[j]\n",
    "        avg_payouts[(date, track, horse)] = find_avg_payouts(\n",
    "            find_races(race['name'].iloc[j], traindf=traindf), race_date=date)"
   ]
  },
  {
   "cell_type": "code",
   "execution_count": null,
   "metadata": {
    "collapsed": true
   },
   "outputs": [],
   "source": [
    "## this function takes a payout and returns the first odds digit, assuming a comparison to 1, i.e. x-1 \n",
    "## of that horse to win when betting occured assuming original bet of $2 and assumed take by race track of 15% \n",
    "def payoff_to_odds(payoff, bet_amount=2.0, take = .15):\n",
    "    return round(((payoff/(1-take) - bet_amount)/bet_amount),4)\n",
    "\n",
    "def odds_to_percent(odds): \n",
    "    return (float(str(odds)[2]))/(float(str(odds)[0])+float((str(odds)[2])))\n",
    "\n",
    "def normalize_odds(odds): \n",
    "    x = odds.split(\"-\")\n",
    "    if len(x) > 1: \n",
    "        return float(x[0])/float(x[1])\n",
    "    else: \n",
    "        return float(x[0])\n",
    "    \n",
    "def make_favorite(string): \n",
    "    if \"favorite\" in string: \n",
    "        return True \n",
    "    else:\n",
    "        return False "
   ]
  },
  {
   "cell_type": "code",
   "execution_count": null,
   "metadata": {
    "collapsed": true
   },
   "outputs": [],
   "source": [
    "def baseline(indict):\n",
    "    profit = []\n",
    "    cost = []\n",
    "    count = []\n",
    "    count2 = []\n",
    "    for key in indict.keys():\n",
    "        count2.append(1)\n",
    "        date = key[0]\n",
    "        track = key[1]\n",
    "        horse = key[2]\n",
    "        \n",
    "        exp_win = indict[key]['win']\n",
    "        exp_place = indict[key]['place']\n",
    "        exp_show = indict[key]['show']\n",
    "        \n",
    "        # get the morning line odds for that day to compare\n",
    "        odds = testdf.loc[(testdf.name == horse) & (testdf.track == track) & (testdf.date == date)]['Odds'].iloc[0]\n",
    "\n",
    "        if odds > payoff_to_odds(exp_win):\n",
    "            cost.append(2)\n",
    "            \n",
    "            if math.isnan(testdf.loc[(testdf.name == horse) & \n",
    "                                     (testdf.track == track) & \n",
    "                                     (testdf.date == date)]['win'].iloc[0]):\n",
    "                count.append(1)\n",
    "                pass\n",
    "            \n",
    "            else:\n",
    "                profit.append(testdf.loc[(testdf.name == horse) & \n",
    "                                     (testdf.track == track) & \n",
    "                                     (testdf.date == date)]['win'].iloc[0])\n",
    "        else:\n",
    "            count.append(1)\n",
    "            pass\n",
    "        \n",
    "    return ['baseline', no_bets_placed, race, year, profit_wins, profit_places, profit_shows, total_profit, cost]\n",
    "            \n",
    "baseline(avg_payouts)"
   ]
  },
  {
   "cell_type": "markdown",
   "metadata": {},
   "source": [
    "Dataframe of race, year, profit/loss on win baseline, profit/loss on place baseline, profit/loss on show baseline"
   ]
  },
  {
   "cell_type": "code",
   "execution_count": null,
   "metadata": {
    "collapsed": true
   },
   "outputs": [],
   "source": [
    "def make_bets_baseline(indict, unique_test_dates=unique_test_dates): \n",
    "    outdict = {}\n",
    "    outdict['method'] = []\n",
    "    outdict['no_bets_placed'] = []\n",
    "    outdict['race'] = []\n",
    "    outdict['year'] = []\n",
    "    outdict['profit_wins'] = []\n",
    "    outdict['profit_places'] = []\n",
    "    outdict['profit_shows'] = []\n",
    "    outdict['total_profit'] = []\n",
    "    outdict['cost'] = []\n",
    "    for unique_date in unique_test_dates:\n",
    "        newdict = {}\n",
    "        for key in indict.keys():\n",
    "            date = key[0]\n",
    "            track = key[1]\n",
    "            horse = key[2]\n",
    "            \n",
    "            \n",
    "            if date == unique_date:\n",
    "                newdict[key] = indict[key]\n",
    "                  \n",
    "        # now we have newdict, subsetting based on race (by unique date)\n",
    "        \n",
    "        spread_tup = []\n",
    "        for key in newdict.keys():\n",
    "            date = key[0]\n",
    "            track = key[1]\n",
    "            horse = key[2]\n",
    "\n",
    "            exp_win = newdict[key]['win']\n",
    "            exp_place = newdict[key]['place']\n",
    "            exp_show = newdict[key]['show']\n",
    "\n",
    "            # get the morning line odds for that day to compare\n",
    "            odds = testdf.loc[(testdf.name == horse) & \n",
    "                              (testdf.track == track) & \n",
    "                              (testdf.date == date)]['Odds'].iloc[0]\n",
    "            \n",
    "            spread = odds - payoff_to_odds(exp_win)\n",
    "            spread_tup.append((horse, spread))\n",
    "            \n",
    "        sorted_list = sorted(spread_tup,key=lambda x: x[1], reverse=True)\n",
    "        \n",
    "        print sorted_list[0:3]\n",
    "            \n",
    "#         outdict['method'] = []\n",
    "#         outdict['no_bets_placed'] = []\n",
    "#         outdict['race'] = []\n",
    "#         outdict['year'] = []\n",
    "#         outdict['profit_wins'] = []\n",
    "#         outdict['profit_places'] = []\n",
    "#         outdict['profit_shows'] = []\n",
    "#         outdict['total_profit'] = []\n",
    "#         outdict['cost'] = []\n",
    "\n",
    "make_bets_baseline(avg_payouts)"
   ]
  },
  {
   "cell_type": "code",
   "execution_count": null,
   "metadata": {
    "collapsed": true
   },
   "outputs": [],
   "source": []
  },
  {
   "cell_type": "code",
   "execution_count": null,
   "metadata": {
    "collapsed": true
   },
   "outputs": [],
   "source": []
  },
  {
   "cell_type": "code",
   "execution_count": null,
   "metadata": {
    "collapsed": true
   },
   "outputs": [],
   "source": []
  },
  {
   "cell_type": "code",
   "execution_count": null,
   "metadata": {
    "collapsed": true
   },
   "outputs": [],
   "source": []
  }
 ],
 "metadata": {
  "kernelspec": {
   "display_name": "Python 2",
   "language": "python",
   "name": "python2"
  },
  "language_info": {
   "codemirror_mode": {
    "name": "ipython",
    "version": 2
   },
   "file_extension": ".py",
   "mimetype": "text/x-python",
   "name": "python",
   "nbconvert_exporter": "python",
   "pygments_lexer": "ipython2",
   "version": "2.7.10"
  }
 },
 "nbformat": 4,
 "nbformat_minor": 0
}
