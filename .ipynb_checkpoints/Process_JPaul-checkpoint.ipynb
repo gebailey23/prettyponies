{
 "cells": [
  {
   "cell_type": "code",
   "execution_count": 2,
   "metadata": {
    "collapsed": true
   },
   "outputs": [],
   "source": [
    "# JPAULS IPYTHON NOTEBOOK"
   ]
  },
  {
   "cell_type": "code",
   "execution_count": 109,
   "metadata": {
    "collapsed": true
   },
   "outputs": [],
   "source": [
    "# Does the necessary imports!\n",
    "from bs4 import BeautifulSoup\n",
    "import requests\n",
    "import pandas as pd\n",
    "import numpy as np\n",
    "import time"
   ]
  },
  {
   "cell_type": "code",
   "execution_count": 110,
   "metadata": {
    "collapsed": false
   },
   "outputs": [],
   "source": [
    "# Gets main page's HTML\n",
    "mainpagelink = 'http://racingchannel.com/results_archive.php'\n",
    "mainpagehtml = requests.get(mainpagelink).text"
   ]
  },
  {
   "cell_type": "code",
   "execution_count": 111,
   "metadata": {
    "collapsed": false
   },
   "outputs": [
    {
     "data": {
      "text/html": [
       "<div>\n",
       "<table border=\"1\" class=\"dataframe\">\n",
       "  <thead>\n",
       "    <tr style=\"text-align: right;\">\n",
       "      <th></th>\n",
       "      <th>code</th>\n",
       "      <th>link</th>\n",
       "    </tr>\n",
       "  </thead>\n",
       "  <tbody>\n",
       "    <tr>\n",
       "      <th>Aqueduct</th>\n",
       "      <td>AQU</td>\n",
       "      <td>http://racingchannel.com//archives/AQU/default...</td>\n",
       "    </tr>\n",
       "    <tr>\n",
       "      <th>Arlington Park</th>\n",
       "      <td>ARL</td>\n",
       "      <td>http://racingchannel.com//archives/ARL/default...</td>\n",
       "    </tr>\n",
       "    <tr>\n",
       "      <th>Australian Racing</th>\n",
       "      <td>AU1</td>\n",
       "      <td>http://racingchannel.com//archives/AU1/default...</td>\n",
       "    </tr>\n",
       "    <tr>\n",
       "      <th>Australian Racing - B</th>\n",
       "      <td>AU2</td>\n",
       "      <td>http://racingchannel.com//archives/AU2/default...</td>\n",
       "    </tr>\n",
       "    <tr>\n",
       "      <th>Australian Racing - C</th>\n",
       "      <td>AU3</td>\n",
       "      <td>http://racingchannel.com//archives/AU3/default...</td>\n",
       "    </tr>\n",
       "  </tbody>\n",
       "</table>\n",
       "</div>"
      ],
      "text/plain": [
       "                      code                                               link\n",
       "Aqueduct               AQU  http://racingchannel.com//archives/AQU/default...\n",
       "Arlington Park         ARL  http://racingchannel.com//archives/ARL/default...\n",
       "Australian Racing      AU1  http://racingchannel.com//archives/AU1/default...\n",
       "Australian Racing - B  AU2  http://racingchannel.com//archives/AU2/default...\n",
       "Australian Racing - C  AU3  http://racingchannel.com//archives/AU3/default..."
      ]
     },
     "execution_count": 111,
     "metadata": {},
     "output_type": "execute_result"
    }
   ],
   "source": [
    "# Gets list of racetracks, racetrackcodes, and creates a dict of the two (can flip the order if necessary)\n",
    "racetrackshtmllst = BeautifulSoup(mainpagehtml, 'html.parser').body.table.findAll('tr')[4].findAll('td')\n",
    "tracks = []\n",
    "trackcodes = []\n",
    "trackdatalinks = []\n",
    "for tracklst in racetrackshtmllst:\n",
    "    tracklinks = tracklst.findAll('a')\n",
    "    for link in tracklinks:\n",
    "        #print link.get('href').encode('ascii')\n",
    "        trackdatalinks.append('http://racingchannel.com/'  + link.get('href').encode('ascii'))\n",
    "        trackcodes.append(link.get('href')[10:13].encode('ascii'))\n",
    "        tracks.append(link.text.encode('ascii'))\n",
    "tracks[1] = 'Arlington Park'\n",
    "# print tracks\n",
    "# print '\\n\\n'\n",
    "# print trackcodes\n",
    "# print '\\n\\n'\n",
    "trackcodedict = dict(zip(tracks, trackcodes))\n",
    "tracklinkdict = dict(zip(tracks, trackdatalinks))\n",
    "# print '\\n\\n'\n",
    "trackinfodf = pd.DataFrame(index=tracks)\n",
    "trackinfodf['code'] = trackcodes\n",
    "trackinfodf['link'] = trackdatalinks\n",
    "trackinfodf.head(5)"
   ]
  },
  {
   "cell_type": "code",
   "execution_count": 122,
   "metadata": {
    "collapsed": false,
    "scrolled": true
   },
   "outputs": [
    {
     "name": "stdout",
     "output_type": "stream",
     "text": [
      "http://racingchannel.com//archives/AQU/default.html\n",
      "http://racingchannel.com//archives/ARL/default.html\n",
      "http://racingchannel.com//archives/AU1/default.html\n",
      "http://racingchannel.com//archives/AU2/default.html\n",
      "http://racingchannel.com//archives/AU3/default.html\n",
      "http://racingchannel.com//archives/BAY/default.html\n",
      "http://racingchannel.com//archives/BEL/default.html\n",
      "http://racingchannel.com//archives/BEU/default.html\n",
      "http://racingchannel.com//archives/CAL/default.html\n",
      "http://racingchannel.com//archives/CAM/default.html\n",
      "http://racingchannel.com//archives/CAN/default.html\n",
      "http://racingchannel.com//archives/CTN/default.html\n",
      "http://racingchannel.com//archives/CHU/default.html\n",
      "http://racingchannel.com//archives/COL/default.html\n",
      "http://racingchannel.com//archives/DDN/default.html\n",
      "http://racingchannel.com//archives/DEL/default.html\n",
      "http://racingchannel.com//archives/DPK/default.html\n",
      "http://racingchannel.com//archives/ELL/default.html\n",
      "http://racingchannel.com//archives/EMD/default.html\n",
      "http://racingchannel.com//archives/EVN/default.html\n",
      "http://racingchannel.com//archives/FGD/default.html\n",
      "http://racingchannel.com//archives/FMT/default.html\n",
      "http://racingchannel.com//archives/FLX/default.html\n",
      "http://racingchannel.com//archives/FLK/default.html\n",
      "http://racingchannel.com//archives/FTE/default.html\n",
      "http://racingchannel.com//archives/GOL/default.html\n",
      "http://racingchannel.com//archives/GB1/default.html\n",
      "http://racingchannel.com//archives/GB2/default.html\n",
      "http://racingchannel.com//archives/GLD/default.html\n",
      "http://racingchannel.com//archives/GUL/default.html\n",
      "http://racingchannel.com//archives/HAS/default.html\n",
      "http://racingchannel.com//archives/HAW/default.html\n",
      "http://racingchannel.com//archives/HPX/default.html\n",
      "http://racingchannel.com//archives/HOO/default.html\n",
      "http://racingchannel.com//archives/IND/default.html\n",
      "http://racingchannel.com//archives/KND/default.html\n",
      "http://racingchannel.com//archives/KEN/default.html\n",
      "http://racingchannel.com//archives/LAU/default.html\n",
      "http://racingchannel.com//archives/LDN/default.html\n",
      "http://racingchannel.com//archives/LON/default.html\n",
      "http://racingchannel.com//archives/LOS/default.html\n",
      "http://racingchannel.com//archives/MDL/default.html\n",
      "http://racingchannel.com//archives/MON/default.html\n",
      "http://racingchannel.com//archives/MTR/default.html\n",
      "http://racingchannel.com//archives/NCF/default.html\n",
      "http://racingchannel.com//archives/OAK/default.html\n",
      "http://racingchannel.com//archives/PEN/default.html\n",
      "http://racingchannel.com//archives/PHI/default.html\n",
      "http://racingchannel.com//archives/PIM/default.html\n",
      "http://racingchannel.com//archives/POR/default.html\n",
      "http://racingchannel.com//archives/PRM/default.html\n",
      "http://racingchannel.com//archives/REM/default.html\n",
      "http://racingchannel.com//archives/RET/default.html\n",
      "http://racingchannel.com//archives/RIV/default.html\n",
      "http://racingchannel.com//archives/SAM/default.html\n",
      "http://racingchannel.com//archives/SAN/default.html\n",
      "http://racingchannel.com//archives/SGA/default.html\n",
      "http://racingchannel.com//archives/ZA1/default.html\n",
      "http://racingchannel.com//archives/ZA2/default.html\n",
      "http://racingchannel.com//archives/SPT/default.html\n",
      "http://racingchannel.com//archives/SUF/default.html\n",
      "http://racingchannel.com//archives/TAM/default.html\n",
      "http://racingchannel.com//archives/THI/default.html\n",
      "http://racingchannel.com//archives/TIM/default.html\n",
      "http://racingchannel.com//archives/PAR/default.html\n",
      "http://racingchannel.com//archives/TUR/default.html\n",
      "http://racingchannel.com//archives/WOB/default.html\n"
     ]
    },
    {
     "data": {
      "text/html": [
       "<div>\n",
       "<table border=\"1\" class=\"dataframe\">\n",
       "  <thead>\n",
       "    <tr style=\"text-align: right;\">\n",
       "      <th></th>\n",
       "      <th>code</th>\n",
       "      <th>link</th>\n",
       "      <th>track_html</th>\n",
       "    </tr>\n",
       "  </thead>\n",
       "  <tbody>\n",
       "    <tr>\n",
       "      <th>Aqueduct</th>\n",
       "      <td>AQU</td>\n",
       "      <td>http://racingchannel.com//archives/AQU/default...</td>\n",
       "      <td>&lt;html&gt;\n",
       "&lt;head&gt;&lt;title&gt;Aqueduct Results Archive&lt;/...</td>\n",
       "    </tr>\n",
       "    <tr>\n",
       "      <th>Arlington Park</th>\n",
       "      <td>ARL</td>\n",
       "      <td>http://racingchannel.com//archives/ARL/default...</td>\n",
       "      <td>&lt;html&gt;\n",
       "&lt;head&gt;&lt;title&gt;Arlington Results Archive&lt;...</td>\n",
       "    </tr>\n",
       "    <tr>\n",
       "      <th>Australian Racing</th>\n",
       "      <td>AU1</td>\n",
       "      <td>http://racingchannel.com//archives/AU1/default...</td>\n",
       "      <td>&lt;html&gt;\n",
       "&lt;head&gt;&lt;title&gt;Australia - A Results Arch...</td>\n",
       "    </tr>\n",
       "    <tr>\n",
       "      <th>Australian Racing - B</th>\n",
       "      <td>AU2</td>\n",
       "      <td>http://racingchannel.com//archives/AU2/default...</td>\n",
       "      <td>&lt;html&gt;\n",
       "&lt;head&gt;&lt;title&gt;Australia - B Results Arch...</td>\n",
       "    </tr>\n",
       "    <tr>\n",
       "      <th>Australian Racing - C</th>\n",
       "      <td>AU3</td>\n",
       "      <td>http://racingchannel.com//archives/AU3/default...</td>\n",
       "      <td>&lt;html&gt;\n",
       "&lt;head&gt;&lt;title&gt; Results Archive&lt;/title&gt;&lt;/...</td>\n",
       "    </tr>\n",
       "    <tr>\n",
       "      <th>Bay Meadows</th>\n",
       "      <td>BAY</td>\n",
       "      <td>http://racingchannel.com//archives/BAY/default...</td>\n",
       "      <td>&lt;html&gt;\n",
       "&lt;head&gt;&lt;title&gt;Bay Meadows Results Archiv...</td>\n",
       "    </tr>\n",
       "    <tr>\n",
       "      <th>Belmont Park</th>\n",
       "      <td>BEL</td>\n",
       "      <td>http://racingchannel.com//archives/BEL/default...</td>\n",
       "      <td>&lt;html&gt;\n",
       "&lt;head&gt;&lt;title&gt;Belmont Results Archive&lt;/t...</td>\n",
       "    </tr>\n",
       "    <tr>\n",
       "      <th>Beulah Park</th>\n",
       "      <td>BEU</td>\n",
       "      <td>http://racingchannel.com//archives/BEU/default...</td>\n",
       "      <td>&lt;html&gt;\n",
       "&lt;head&gt;&lt;title&gt;Beulah Results Archive&lt;/ti...</td>\n",
       "    </tr>\n",
       "    <tr>\n",
       "      <th>Calder Race Course</th>\n",
       "      <td>CAL</td>\n",
       "      <td>http://racingchannel.com//archives/CAL/default...</td>\n",
       "      <td>&lt;html&gt;\n",
       "&lt;head&gt;&lt;title&gt;Calder Results Archive&lt;/ti...</td>\n",
       "    </tr>\n",
       "    <tr>\n",
       "      <th>Camarero</th>\n",
       "      <td>CAM</td>\n",
       "      <td>http://racingchannel.com//archives/CAM/default...</td>\n",
       "      <td>&lt;html&gt;\n",
       "&lt;head&gt;&lt;title&gt; Results Archive&lt;/title&gt;&lt;/...</td>\n",
       "    </tr>\n",
       "  </tbody>\n",
       "</table>\n",
       "</div>"
      ],
      "text/plain": [
       "                      code                                               link  \\\n",
       "Aqueduct               AQU  http://racingchannel.com//archives/AQU/default...   \n",
       "Arlington Park         ARL  http://racingchannel.com//archives/ARL/default...   \n",
       "Australian Racing      AU1  http://racingchannel.com//archives/AU1/default...   \n",
       "Australian Racing - B  AU2  http://racingchannel.com//archives/AU2/default...   \n",
       "Australian Racing - C  AU3  http://racingchannel.com//archives/AU3/default...   \n",
       "Bay Meadows            BAY  http://racingchannel.com//archives/BAY/default...   \n",
       "Belmont Park           BEL  http://racingchannel.com//archives/BEL/default...   \n",
       "Beulah Park            BEU  http://racingchannel.com//archives/BEU/default...   \n",
       "Calder Race Course     CAL  http://racingchannel.com//archives/CAL/default...   \n",
       "Camarero               CAM  http://racingchannel.com//archives/CAM/default...   \n",
       "\n",
       "                                                              track_html  \n",
       "Aqueduct               <html>\n",
       "<head><title>Aqueduct Results Archive</...  \n",
       "Arlington Park         <html>\n",
       "<head><title>Arlington Results Archive<...  \n",
       "Australian Racing      <html>\n",
       "<head><title>Australia - A Results Arch...  \n",
       "Australian Racing - B  <html>\n",
       "<head><title>Australia - B Results Arch...  \n",
       "Australian Racing - C  <html>\n",
       "<head><title> Results Archive</title></...  \n",
       "Bay Meadows            <html>\n",
       "<head><title>Bay Meadows Results Archiv...  \n",
       "Belmont Park           <html>\n",
       "<head><title>Belmont Results Archive</t...  \n",
       "Beulah Park            <html>\n",
       "<head><title>Beulah Results Archive</ti...  \n",
       "Calder Race Course     <html>\n",
       "<head><title>Calder Results Archive</ti...  \n",
       "Camarero               <html>\n",
       "<head><title> Results Archive</title></...  "
      ]
     },
     "execution_count": 122,
     "metadata": {},
     "output_type": "execute_result"
    }
   ],
   "source": [
    "# Stores the html of all track info pages\n",
    "\n",
    "#############################################################\n",
    "## SKIP THIS IF TEMPDATA ALREADY HAS TRACKINFODF IN IT!!!! ##\n",
    "#############################################################\n",
    "\n",
    "\n",
    "htmloftracks = []\n",
    "for link in trackdatalinks:\n",
    "    htmloftracks.append(BeautifulSoup(requests.get(link).text))\n",
    "    print link\n",
    "    time.sleep(5)\n",
    "\n",
    "trackinfodf['track_html'] = htmloftracks\n",
    "trackinfodf.head(10)\n",
    "\n",
    "# Stores track codes and links in csv\n",
    "trackinfodf.to_csv('tempdata/trackinfo.csv', index_label='name')"
   ]
  },
  {
   "cell_type": "code",
   "execution_count": 129,
   "metadata": {
    "collapsed": false
   },
   "outputs": [
    {
     "data": {
      "text/html": [
       "<div>\n",
       "<table border=\"1\" class=\"dataframe\">\n",
       "  <thead>\n",
       "    <tr style=\"text-align: right;\">\n",
       "      <th></th>\n",
       "      <th>code</th>\n",
       "      <th>link</th>\n",
       "      <th>track_html</th>\n",
       "    </tr>\n",
       "    <tr>\n",
       "      <th>name</th>\n",
       "      <th></th>\n",
       "      <th></th>\n",
       "      <th></th>\n",
       "    </tr>\n",
       "  </thead>\n",
       "  <tbody>\n",
       "    <tr>\n",
       "      <th>Aqueduct</th>\n",
       "      <td>AQU</td>\n",
       "      <td>http://racingchannel.com//archives/AQU/default...</td>\n",
       "      <td>&lt;html&gt;\n",
       "&lt;head&gt;&lt;title&gt;Aqueduct Results Archive&lt;/...</td>\n",
       "    </tr>\n",
       "    <tr>\n",
       "      <th>Arlington Park</th>\n",
       "      <td>ARL</td>\n",
       "      <td>http://racingchannel.com//archives/ARL/default...</td>\n",
       "      <td>&lt;html&gt;\n",
       "&lt;head&gt;&lt;title&gt;Arlington Results Archive&lt;...</td>\n",
       "    </tr>\n",
       "    <tr>\n",
       "      <th>Australian Racing</th>\n",
       "      <td>AU1</td>\n",
       "      <td>http://racingchannel.com//archives/AU1/default...</td>\n",
       "      <td>&lt;html&gt;\n",
       "&lt;head&gt;&lt;title&gt;Australia - A Results Arch...</td>\n",
       "    </tr>\n",
       "    <tr>\n",
       "      <th>Australian Racing - B</th>\n",
       "      <td>AU2</td>\n",
       "      <td>http://racingchannel.com//archives/AU2/default...</td>\n",
       "      <td>&lt;html&gt;\n",
       "&lt;head&gt;&lt;title&gt;Australia - B Results Arch...</td>\n",
       "    </tr>\n",
       "    <tr>\n",
       "      <th>Australian Racing - C</th>\n",
       "      <td>AU3</td>\n",
       "      <td>http://racingchannel.com//archives/AU3/default...</td>\n",
       "      <td>&lt;html&gt;\n",
       "&lt;head&gt;&lt;title&gt; Results Archive&lt;/title&gt;&lt;/...</td>\n",
       "    </tr>\n",
       "  </tbody>\n",
       "</table>\n",
       "</div>"
      ],
      "text/plain": [
       "                      code                                               link  \\\n",
       "name                                                                            \n",
       "Aqueduct               AQU  http://racingchannel.com//archives/AQU/default...   \n",
       "Arlington Park         ARL  http://racingchannel.com//archives/ARL/default...   \n",
       "Australian Racing      AU1  http://racingchannel.com//archives/AU1/default...   \n",
       "Australian Racing - B  AU2  http://racingchannel.com//archives/AU2/default...   \n",
       "Australian Racing - C  AU3  http://racingchannel.com//archives/AU3/default...   \n",
       "\n",
       "                                                              track_html  \n",
       "name                                                                      \n",
       "Aqueduct               <html>\n",
       "<head><title>Aqueduct Results Archive</...  \n",
       "Arlington Park         <html>\n",
       "<head><title>Arlington Results Archive<...  \n",
       "Australian Racing      <html>\n",
       "<head><title>Australia - A Results Arch...  \n",
       "Australian Racing - B  <html>\n",
       "<head><title>Australia - B Results Arch...  \n",
       "Australian Racing - C  <html>\n",
       "<head><title> Results Archive</title></...  "
      ]
     },
     "execution_count": 129,
     "metadata": {},
     "output_type": "execute_result"
    }
   ],
   "source": [
    "# Loads trackinfodf from the csv in tempdata\n",
    "del trackinfodf\n",
    "trackinfodf = pd.read_csv('tempdata/trackinfo.csv', index_col='name')\n",
    "trackinfodf['track_html'] = trackinfodf['track_html'].apply(lambda h:BeautifulSoup(h, 'html.parser'))\n",
    "trackinfodf.head(5)"
   ]
  },
  {
   "cell_type": "code",
   "execution_count": null,
   "metadata": {
    "collapsed": true
   },
   "outputs": [],
   "source": [
    "for elem in"
   ]
  },
  {
   "cell_type": "code",
   "execution_count": 4,
   "metadata": {
    "collapsed": false
   },
   "outputs": [],
   "source": [
    "lsttouse = ['AQU','1998','10','28']\n",
    "linktouse = 'https://www.racingchannel.com/archives/{}/{}/{}/{}{}{}{}.HTM'\\\n",
    "    .format(inlst[0],inlst[1],inlst[2],inlst[0],inlst[1][2:],inlst[2],inlst[3])\n",
    "\n",
    "racetest = requests.get(linktouse).text\n",
    "\n",
    "soup = BeautifulSoup(racetest, 'html.parser').html.body"
   ]
  },
  {
   "cell_type": "code",
   "execution_count": 17,
   "metadata": {
    "collapsed": false
   },
   "outputs": [
    {
     "name": "stdout",
     "output_type": "stream",
     "text": [
      "73\n",
      "<tr>\n",
      "<td colspan=\"2\"><b><u>Race:</u></b></td>\n",
      "<td width=\"20\"><b><u>1</u></b></td>\n",
      "<td align=\"RIGHT\" width=\"60\"><b><u>Win</u></b></td>\n",
      "<td align=\"RIGHT\" width=\"60\"><b><u>Place</u></b></td>\n",
      "<td align=\"RIGHT\" width=\"60\"><b><u>Show</u></b></td>\n",
      "<td width=\"60\"></td>\n",
      "</tr>\n",
      "<tr>\n",
      "<td width=\"30\"><b>1st</b></td>\n",
      "<td width=\"20\"><b>3</b></td>\n",
      "<td align=\"LEFT\" width=\"200\"><b>CURVY IMAGE</b></td>\n",
      "<td align=\"RIGHT\" width=\"60\">6.30</td>\n",
      "<td align=\"RIGHT\" width=\"60\">3.80</td>\n",
      "<td align=\"RIGHT\" width=\"60\">3.00</td>\n",
      "</tr>\n",
      "<tr>\n",
      "<td><b>2nd</b></td>\n",
      "<td><b>6</b></td>\n",
      "<td><b>DYNABILITY</b></td>\n",
      "<td align=\"RIGHT\"></td>\n",
      "<td align=\"RIGHT\">5.90</td>\n",
      "<td align=\"RIGHT\">4.30</td>\n",
      "</tr>\n",
      "<tr>\n",
      "<td><b>3rd</b></td>\n",
      "<td><b>2</b></td>\n",
      "<td><b>ALYDAR'S JET</b></td>\n",
      "<td align=\"RIGHT\"></td>\n",
      "<td align=\"RIGHT\"></td>\n",
      "<td align=\"RIGHT\">5.00</td>\n",
      "</tr>\n",
      "<tr>\n",
      "<td colspan=\"3\"><b>$2 Exacta</b></td>\n",
      "<td align=\"CENTER\" colspan=\"2\" colstart=\"4\"><b>3-6</b></td>\n",
      "<td align=\"RIGHT\">34.60</td>\n",
      "</tr>\n",
      "<tr>\n",
      "<td colspan=\"2\" colstart=\"3\"><b>Refunds: </b></td>\n",
      "<td colspan=\"2\"><b>None</b></td>\n",
      "</tr>\n"
     ]
    }
   ],
   "source": [
    "tables = soup.findAll('tr')\n",
    "print len(tables)\n",
    "for elem in tables[:6]:\n",
    "    print elem"
   ]
  },
  {
   "cell_type": "code",
   "execution_count": null,
   "metadata": {
    "collapsed": false
   },
   "outputs": [],
   "source": [
    "# 1) first populate \"inlsts\" with all the trackkeys, years, months, and days\n",
    "# 2) scrape each page for its html\n",
    "# 3) rip through the html for the info we want\n",
    "# 4) format the info into what we're feeling"
   ]
  },
  {
   "cell_type": "code",
   "execution_count": null,
   "metadata": {
    "collapsed": true
   },
   "outputs": [],
   "source": []
  },
  {
   "cell_type": "code",
   "execution_count": null,
   "metadata": {
    "collapsed": true
   },
   "outputs": [],
   "source": []
  },
  {
   "cell_type": "code",
   "execution_count": null,
   "metadata": {
    "collapsed": true
   },
   "outputs": [],
   "source": []
  },
  {
   "cell_type": "code",
   "execution_count": null,
   "metadata": {
    "collapsed": true
   },
   "outputs": [],
   "source": [
    "for stadium in stadiums:\n",
    "    for year in years:\n",
    "        "
   ]
  },
  {
   "cell_type": "code",
   "execution_count": null,
   "metadata": {
    "collapsed": true
   },
   "outputs": [],
   "source": []
  },
  {
   "cell_type": "code",
   "execution_count": null,
   "metadata": {
    "collapsed": true
   },
   "outputs": [],
   "source": []
  },
  {
   "cell_type": "code",
   "execution_count": null,
   "metadata": {
    "collapsed": true
   },
   "outputs": [],
   "source": []
  },
  {
   "cell_type": "code",
   "execution_count": null,
   "metadata": {
    "collapsed": true
   },
   "outputs": [],
   "source": []
  }
 ],
 "metadata": {
  "kernelspec": {
   "display_name": "Python 2",
   "language": "python",
   "name": "python2"
  },
  "language_info": {
   "codemirror_mode": {
    "name": "ipython",
    "version": 2
   },
   "file_extension": ".py",
   "mimetype": "text/x-python",
   "name": "python",
   "nbconvert_exporter": "python",
   "pygments_lexer": "ipython2",
   "version": "2.7.10"
  }
 },
 "nbformat": 4,
 "nbformat_minor": 0
}
