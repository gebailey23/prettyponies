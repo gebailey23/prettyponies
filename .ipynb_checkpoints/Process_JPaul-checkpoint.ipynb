{
 "cells": [
  {
   "cell_type": "code",
   "execution_count": 2,
   "metadata": {
    "collapsed": true
   },
   "outputs": [],
   "source": [
    "# JPAULS IPYTHON NOTEBOOK"
   ]
  },
  {
   "cell_type": "code",
   "execution_count": 1,
   "metadata": {
    "collapsed": true
   },
   "outputs": [],
   "source": [
    "# Does the necessary imports!\n",
    "from bs4 import BeautifulSoup\n",
    "import requests\n",
    "import pandas as pd\n",
    "import numpy as np\n",
    "import time"
   ]
  },
  {
   "cell_type": "code",
   "execution_count": 2,
   "metadata": {
    "collapsed": false
   },
   "outputs": [],
   "source": [
    "# Gets main page's HTML\n",
    "mainpagelink = 'http://racingchannel.com/results_archive.php'\n",
    "mainpagehtml = requests.get(mainpagelink).text"
   ]
  },
  {
   "cell_type": "code",
   "execution_count": 3,
   "metadata": {
    "collapsed": false
   },
   "outputs": [
    {
     "data": {
      "text/html": [
       "<div>\n",
       "<table border=\"1\" class=\"dataframe\">\n",
       "  <thead>\n",
       "    <tr style=\"text-align: right;\">\n",
       "      <th></th>\n",
       "      <th>code</th>\n",
       "      <th>link</th>\n",
       "    </tr>\n",
       "  </thead>\n",
       "  <tbody>\n",
       "    <tr>\n",
       "      <th>Aqueduct</th>\n",
       "      <td>AQU</td>\n",
       "      <td>http://racingchannel.com//archives/AQU/default...</td>\n",
       "    </tr>\n",
       "    <tr>\n",
       "      <th>Arlington Park</th>\n",
       "      <td>ARL</td>\n",
       "      <td>http://racingchannel.com//archives/ARL/default...</td>\n",
       "    </tr>\n",
       "    <tr>\n",
       "      <th>Australian Racing</th>\n",
       "      <td>AU1</td>\n",
       "      <td>http://racingchannel.com//archives/AU1/default...</td>\n",
       "    </tr>\n",
       "    <tr>\n",
       "      <th>Australian Racing - B</th>\n",
       "      <td>AU2</td>\n",
       "      <td>http://racingchannel.com//archives/AU2/default...</td>\n",
       "    </tr>\n",
       "    <tr>\n",
       "      <th>Australian Racing - C</th>\n",
       "      <td>AU3</td>\n",
       "      <td>http://racingchannel.com//archives/AU3/default...</td>\n",
       "    </tr>\n",
       "  </tbody>\n",
       "</table>\n",
       "</div>"
      ],
      "text/plain": [
       "                      code                                               link\n",
       "Aqueduct               AQU  http://racingchannel.com//archives/AQU/default...\n",
       "Arlington Park         ARL  http://racingchannel.com//archives/ARL/default...\n",
       "Australian Racing      AU1  http://racingchannel.com//archives/AU1/default...\n",
       "Australian Racing - B  AU2  http://racingchannel.com//archives/AU2/default...\n",
       "Australian Racing - C  AU3  http://racingchannel.com//archives/AU3/default..."
      ]
     },
     "execution_count": 3,
     "metadata": {},
     "output_type": "execute_result"
    }
   ],
   "source": [
    "# Gets list of racetracks, racetrackcodes, and creates a dict of the two (can flip the order if necessary)\n",
    "racetrackshtmllst = BeautifulSoup(mainpagehtml, 'html.parser').body.table.findAll('tr')[4].findAll('td')\n",
    "tracks = []\n",
    "trackcodes = []\n",
    "trackdatalinks = []\n",
    "for tracklst in racetrackshtmllst:\n",
    "    tracklinks = tracklst.findAll('a')\n",
    "    for link in tracklinks:\n",
    "        #print link.get('href').encode('ascii')\n",
    "        trackdatalinks.append('http://racingchannel.com/'  + link.get('href').encode('ascii'))\n",
    "        trackcodes.append(link.get('href')[10:13].encode('ascii'))\n",
    "        tracks.append(link.text.encode('ascii'))\n",
    "tracks[1] = 'Arlington Park'\n",
    "# print tracks\n",
    "# print '\\n\\n'\n",
    "# print trackcodes\n",
    "# print '\\n\\n'\n",
    "trackcodedict = dict(zip(tracks, trackcodes))\n",
    "tracklinkdict = dict(zip(tracks, trackdatalinks))\n",
    "# print '\\n\\n'\n",
    "trackinfodf = pd.DataFrame(index=tracks)\n",
    "trackinfodf['code'] = trackcodes\n",
    "trackinfodf['link'] = trackdatalinks\n",
    "trackinfodf.head(5)"
   ]
  },
  {
   "cell_type": "code",
   "execution_count": 122,
   "metadata": {
    "collapsed": false,
    "scrolled": true
   },
   "outputs": [
    {
     "name": "stdout",
     "output_type": "stream",
     "text": [
      "http://racingchannel.com//archives/AQU/default.html\n",
      "http://racingchannel.com//archives/ARL/default.html\n",
      "http://racingchannel.com//archives/AU1/default.html\n",
      "http://racingchannel.com//archives/AU2/default.html\n",
      "http://racingchannel.com//archives/AU3/default.html\n",
      "http://racingchannel.com//archives/BAY/default.html\n",
      "http://racingchannel.com//archives/BEL/default.html\n",
      "http://racingchannel.com//archives/BEU/default.html\n",
      "http://racingchannel.com//archives/CAL/default.html\n",
      "http://racingchannel.com//archives/CAM/default.html\n",
      "http://racingchannel.com//archives/CAN/default.html\n",
      "http://racingchannel.com//archives/CTN/default.html\n",
      "http://racingchannel.com//archives/CHU/default.html\n",
      "http://racingchannel.com//archives/COL/default.html\n",
      "http://racingchannel.com//archives/DDN/default.html\n",
      "http://racingchannel.com//archives/DEL/default.html\n",
      "http://racingchannel.com//archives/DPK/default.html\n",
      "http://racingchannel.com//archives/ELL/default.html\n",
      "http://racingchannel.com//archives/EMD/default.html\n",
      "http://racingchannel.com//archives/EVN/default.html\n",
      "http://racingchannel.com//archives/FGD/default.html\n",
      "http://racingchannel.com//archives/FMT/default.html\n",
      "http://racingchannel.com//archives/FLX/default.html\n",
      "http://racingchannel.com//archives/FLK/default.html\n",
      "http://racingchannel.com//archives/FTE/default.html\n",
      "http://racingchannel.com//archives/GOL/default.html\n",
      "http://racingchannel.com//archives/GB1/default.html\n",
      "http://racingchannel.com//archives/GB2/default.html\n",
      "http://racingchannel.com//archives/GLD/default.html\n",
      "http://racingchannel.com//archives/GUL/default.html\n",
      "http://racingchannel.com//archives/HAS/default.html\n",
      "http://racingchannel.com//archives/HAW/default.html\n",
      "http://racingchannel.com//archives/HPX/default.html\n",
      "http://racingchannel.com//archives/HOO/default.html\n",
      "http://racingchannel.com//archives/IND/default.html\n",
      "http://racingchannel.com//archives/KND/default.html\n",
      "http://racingchannel.com//archives/KEN/default.html\n",
      "http://racingchannel.com//archives/LAU/default.html\n",
      "http://racingchannel.com//archives/LDN/default.html\n",
      "http://racingchannel.com//archives/LON/default.html\n",
      "http://racingchannel.com//archives/LOS/default.html\n",
      "http://racingchannel.com//archives/MDL/default.html\n",
      "http://racingchannel.com//archives/MON/default.html\n",
      "http://racingchannel.com//archives/MTR/default.html\n",
      "http://racingchannel.com//archives/NCF/default.html\n",
      "http://racingchannel.com//archives/OAK/default.html\n",
      "http://racingchannel.com//archives/PEN/default.html\n",
      "http://racingchannel.com//archives/PHI/default.html\n",
      "http://racingchannel.com//archives/PIM/default.html\n",
      "http://racingchannel.com//archives/POR/default.html\n",
      "http://racingchannel.com//archives/PRM/default.html\n",
      "http://racingchannel.com//archives/REM/default.html\n",
      "http://racingchannel.com//archives/RET/default.html\n",
      "http://racingchannel.com//archives/RIV/default.html\n",
      "http://racingchannel.com//archives/SAM/default.html\n",
      "http://racingchannel.com//archives/SAN/default.html\n",
      "http://racingchannel.com//archives/SGA/default.html\n",
      "http://racingchannel.com//archives/ZA1/default.html\n",
      "http://racingchannel.com//archives/ZA2/default.html\n",
      "http://racingchannel.com//archives/SPT/default.html\n",
      "http://racingchannel.com//archives/SUF/default.html\n",
      "http://racingchannel.com//archives/TAM/default.html\n",
      "http://racingchannel.com//archives/THI/default.html\n",
      "http://racingchannel.com//archives/TIM/default.html\n",
      "http://racingchannel.com//archives/PAR/default.html\n",
      "http://racingchannel.com//archives/TUR/default.html\n",
      "http://racingchannel.com//archives/WOB/default.html\n"
     ]
    },
    {
     "data": {
      "text/html": [
       "<div>\n",
       "<table border=\"1\" class=\"dataframe\">\n",
       "  <thead>\n",
       "    <tr style=\"text-align: right;\">\n",
       "      <th></th>\n",
       "      <th>code</th>\n",
       "      <th>link</th>\n",
       "      <th>track_html</th>\n",
       "    </tr>\n",
       "  </thead>\n",
       "  <tbody>\n",
       "    <tr>\n",
       "      <th>Aqueduct</th>\n",
       "      <td>AQU</td>\n",
       "      <td>http://racingchannel.com//archives/AQU/default...</td>\n",
       "      <td>&lt;html&gt;\n",
       "&lt;head&gt;&lt;title&gt;Aqueduct Results Archive&lt;/...</td>\n",
       "    </tr>\n",
       "    <tr>\n",
       "      <th>Arlington Park</th>\n",
       "      <td>ARL</td>\n",
       "      <td>http://racingchannel.com//archives/ARL/default...</td>\n",
       "      <td>&lt;html&gt;\n",
       "&lt;head&gt;&lt;title&gt;Arlington Results Archive&lt;...</td>\n",
       "    </tr>\n",
       "    <tr>\n",
       "      <th>Australian Racing</th>\n",
       "      <td>AU1</td>\n",
       "      <td>http://racingchannel.com//archives/AU1/default...</td>\n",
       "      <td>&lt;html&gt;\n",
       "&lt;head&gt;&lt;title&gt;Australia - A Results Arch...</td>\n",
       "    </tr>\n",
       "    <tr>\n",
       "      <th>Australian Racing - B</th>\n",
       "      <td>AU2</td>\n",
       "      <td>http://racingchannel.com//archives/AU2/default...</td>\n",
       "      <td>&lt;html&gt;\n",
       "&lt;head&gt;&lt;title&gt;Australia - B Results Arch...</td>\n",
       "    </tr>\n",
       "    <tr>\n",
       "      <th>Australian Racing - C</th>\n",
       "      <td>AU3</td>\n",
       "      <td>http://racingchannel.com//archives/AU3/default...</td>\n",
       "      <td>&lt;html&gt;\n",
       "&lt;head&gt;&lt;title&gt; Results Archive&lt;/title&gt;&lt;/...</td>\n",
       "    </tr>\n",
       "    <tr>\n",
       "      <th>Bay Meadows</th>\n",
       "      <td>BAY</td>\n",
       "      <td>http://racingchannel.com//archives/BAY/default...</td>\n",
       "      <td>&lt;html&gt;\n",
       "&lt;head&gt;&lt;title&gt;Bay Meadows Results Archiv...</td>\n",
       "    </tr>\n",
       "    <tr>\n",
       "      <th>Belmont Park</th>\n",
       "      <td>BEL</td>\n",
       "      <td>http://racingchannel.com//archives/BEL/default...</td>\n",
       "      <td>&lt;html&gt;\n",
       "&lt;head&gt;&lt;title&gt;Belmont Results Archive&lt;/t...</td>\n",
       "    </tr>\n",
       "    <tr>\n",
       "      <th>Beulah Park</th>\n",
       "      <td>BEU</td>\n",
       "      <td>http://racingchannel.com//archives/BEU/default...</td>\n",
       "      <td>&lt;html&gt;\n",
       "&lt;head&gt;&lt;title&gt;Beulah Results Archive&lt;/ti...</td>\n",
       "    </tr>\n",
       "    <tr>\n",
       "      <th>Calder Race Course</th>\n",
       "      <td>CAL</td>\n",
       "      <td>http://racingchannel.com//archives/CAL/default...</td>\n",
       "      <td>&lt;html&gt;\n",
       "&lt;head&gt;&lt;title&gt;Calder Results Archive&lt;/ti...</td>\n",
       "    </tr>\n",
       "    <tr>\n",
       "      <th>Camarero</th>\n",
       "      <td>CAM</td>\n",
       "      <td>http://racingchannel.com//archives/CAM/default...</td>\n",
       "      <td>&lt;html&gt;\n",
       "&lt;head&gt;&lt;title&gt; Results Archive&lt;/title&gt;&lt;/...</td>\n",
       "    </tr>\n",
       "  </tbody>\n",
       "</table>\n",
       "</div>"
      ],
      "text/plain": [
       "                      code                                               link  \\\n",
       "Aqueduct               AQU  http://racingchannel.com//archives/AQU/default...   \n",
       "Arlington Park         ARL  http://racingchannel.com//archives/ARL/default...   \n",
       "Australian Racing      AU1  http://racingchannel.com//archives/AU1/default...   \n",
       "Australian Racing - B  AU2  http://racingchannel.com//archives/AU2/default...   \n",
       "Australian Racing - C  AU3  http://racingchannel.com//archives/AU3/default...   \n",
       "Bay Meadows            BAY  http://racingchannel.com//archives/BAY/default...   \n",
       "Belmont Park           BEL  http://racingchannel.com//archives/BEL/default...   \n",
       "Beulah Park            BEU  http://racingchannel.com//archives/BEU/default...   \n",
       "Calder Race Course     CAL  http://racingchannel.com//archives/CAL/default...   \n",
       "Camarero               CAM  http://racingchannel.com//archives/CAM/default...   \n",
       "\n",
       "                                                              track_html  \n",
       "Aqueduct               <html>\n",
       "<head><title>Aqueduct Results Archive</...  \n",
       "Arlington Park         <html>\n",
       "<head><title>Arlington Results Archive<...  \n",
       "Australian Racing      <html>\n",
       "<head><title>Australia - A Results Arch...  \n",
       "Australian Racing - B  <html>\n",
       "<head><title>Australia - B Results Arch...  \n",
       "Australian Racing - C  <html>\n",
       "<head><title> Results Archive</title></...  \n",
       "Bay Meadows            <html>\n",
       "<head><title>Bay Meadows Results Archiv...  \n",
       "Belmont Park           <html>\n",
       "<head><title>Belmont Results Archive</t...  \n",
       "Beulah Park            <html>\n",
       "<head><title>Beulah Results Archive</ti...  \n",
       "Calder Race Course     <html>\n",
       "<head><title>Calder Results Archive</ti...  \n",
       "Camarero               <html>\n",
       "<head><title> Results Archive</title></...  "
      ]
     },
     "execution_count": 122,
     "metadata": {},
     "output_type": "execute_result"
    }
   ],
   "source": [
    "# Stores the html of all track info pages\n",
    "\n",
    "#############################################################\n",
    "## SKIP THIS IF TEMPDATA ALREADY HAS TRACKINFODF IN IT!!!! ##\n",
    "#############################################################\n",
    "\n",
    "\n",
    "htmloftracks = []\n",
    "for link in trackdatalinks:\n",
    "    htmloftracks.append(BeautifulSoup(requests.get(link).text))\n",
    "    print link\n",
    "    time.sleep(5)\n",
    "\n",
    "trackinfodf['track_html'] = htmloftracks\n",
    "trackinfodf.head(10)\n",
    "\n",
    "# Stores track codes and links in csv\n",
    "trackinfodf.to_csv('tempdata/trackinfo.csv', index_label='name')"
   ]
  },
  {
   "cell_type": "code",
   "execution_count": 4,
   "metadata": {
    "collapsed": false
   },
   "outputs": [
    {
     "data": {
      "text/html": [
       "<div>\n",
       "<table border=\"1\" class=\"dataframe\">\n",
       "  <thead>\n",
       "    <tr style=\"text-align: right;\">\n",
       "      <th></th>\n",
       "      <th>code</th>\n",
       "      <th>link</th>\n",
       "      <th>track_html</th>\n",
       "    </tr>\n",
       "    <tr>\n",
       "      <th>name</th>\n",
       "      <th></th>\n",
       "      <th></th>\n",
       "      <th></th>\n",
       "    </tr>\n",
       "  </thead>\n",
       "  <tbody>\n",
       "    <tr>\n",
       "      <th>Aqueduct</th>\n",
       "      <td>AQU</td>\n",
       "      <td>http://racingchannel.com//archives/AQU/default...</td>\n",
       "      <td>&lt;html&gt;\n",
       "&lt;head&gt;&lt;title&gt;Aqueduct Results Archive&lt;/...</td>\n",
       "    </tr>\n",
       "    <tr>\n",
       "      <th>Arlington Park</th>\n",
       "      <td>ARL</td>\n",
       "      <td>http://racingchannel.com//archives/ARL/default...</td>\n",
       "      <td>&lt;html&gt;\n",
       "&lt;head&gt;&lt;title&gt;Arlington Results Archive&lt;...</td>\n",
       "    </tr>\n",
       "    <tr>\n",
       "      <th>Australian Racing</th>\n",
       "      <td>AU1</td>\n",
       "      <td>http://racingchannel.com//archives/AU1/default...</td>\n",
       "      <td>&lt;html&gt;\n",
       "&lt;head&gt;&lt;title&gt;Australia - A Results Arch...</td>\n",
       "    </tr>\n",
       "    <tr>\n",
       "      <th>Australian Racing - B</th>\n",
       "      <td>AU2</td>\n",
       "      <td>http://racingchannel.com//archives/AU2/default...</td>\n",
       "      <td>&lt;html&gt;\n",
       "&lt;head&gt;&lt;title&gt;Australia - B Results Arch...</td>\n",
       "    </tr>\n",
       "    <tr>\n",
       "      <th>Australian Racing - C</th>\n",
       "      <td>AU3</td>\n",
       "      <td>http://racingchannel.com//archives/AU3/default...</td>\n",
       "      <td>&lt;html&gt;\n",
       "&lt;head&gt;&lt;title&gt; Results Archive&lt;/title&gt;&lt;/...</td>\n",
       "    </tr>\n",
       "  </tbody>\n",
       "</table>\n",
       "</div>"
      ],
      "text/plain": [
       "                      code                                               link  \\\n",
       "name                                                                            \n",
       "Aqueduct               AQU  http://racingchannel.com//archives/AQU/default...   \n",
       "Arlington Park         ARL  http://racingchannel.com//archives/ARL/default...   \n",
       "Australian Racing      AU1  http://racingchannel.com//archives/AU1/default...   \n",
       "Australian Racing - B  AU2  http://racingchannel.com//archives/AU2/default...   \n",
       "Australian Racing - C  AU3  http://racingchannel.com//archives/AU3/default...   \n",
       "\n",
       "                                                              track_html  \n",
       "name                                                                      \n",
       "Aqueduct               <html>\n",
       "<head><title>Aqueduct Results Archive</...  \n",
       "Arlington Park         <html>\n",
       "<head><title>Arlington Results Archive<...  \n",
       "Australian Racing      <html>\n",
       "<head><title>Australia - A Results Arch...  \n",
       "Australian Racing - B  <html>\n",
       "<head><title>Australia - B Results Arch...  \n",
       "Australian Racing - C  <html>\n",
       "<head><title> Results Archive</title></...  "
      ]
     },
     "execution_count": 4,
     "metadata": {},
     "output_type": "execute_result"
    }
   ],
   "source": [
    "# Loads trackinfodf from the csv in tempdata\n",
    "del trackinfodf\n",
    "trackinfodf = pd.read_csv('tempdata/trackinfo.csv', index_col='name')\n",
    "trackinfodf['track_html'] = trackinfodf['track_html'].apply(lambda h:BeautifulSoup(h, 'html.parser'))\n",
    "trackinfodf.head(5)"
   ]
  },
  {
   "cell_type": "code",
   "execution_count": 51,
   "metadata": {
    "collapsed": false,
    "scrolled": false
   },
   "outputs": [
    {
     "name": "stdout",
     "output_type": "stream",
     "text": [
      "{'EMD': [{'1998': ['08', '09']}, {'1999': ['04', '05', '06', '07', '08', '09']}, {'2000': ['04', '05', '06', '07', '08', '09']}, {'2001': ['04', '05', '06', '07', '08', '09']}, {'2002': ['04', '05', '06', '07', '08', '09']}, {'2003': ['04', '05', '06', '07', '08', '09']}, {'2004': ['04', '05', '06', '07', '08', '09']}, {'2005': ['04', '05', '06', '07', '08', '09', '10']}, {'2006': ['04', '05', '06', '07', '08', '09', '10']}, {'2007': ['04', '05', '06', '07', '08', '09']}, {'2008': ['04', '05', '06', '07', '08', '09']}, {'2009': ['04', '05', '06', '07', '08', '09']}, {'2010': ['04', '05', '06', '07', '08', '09']}, {'2011': ['04', '05', '06', '07', '08', '09']}, {'2012': ['04', '05', '06', '07', '08', '09']}, {'2013': ['04', '05', '06', '07', '08', '09']}, {'2014': ['04', '05', '06', '07', '08', '09']}, {'2015': ['04', '05', '06', '07', '08', '09']}], 'SAN': [{'1998': ['09', '10', '11', '12']}, {'1999': ['04', '09', '10', '11', '12']}, {'2000': ['04', '10', '11', '12']}, {'2001': ['01', '02', '03', '04', '09', '10', '11', '12']}, {'2002': ['01', '02', '03', '04', '10', '11', '12']}, {'2003': ['01', '02', '03', '04', '09', '10', '11', '12']}, {'2004': ['01', '02', '03', '04', '09', '10', '12']}, {'2005': ['01', '02', '03', '04', '09', '10', '11', '12']}, {'2006': ['01', '02', '03', '04', '09', '10', '12']}, {'2007': ['01', '02', '03', '04', '09', '10', '11', '12']}, {'2008': ['01', '02', '03', '04', '09', '10', '12']}, {'2009': ['01', '02', '03', '04', '09', '10', '11']}, {'2010': ['01', '02', '03', '04', '12']}, {'2011': ['01', '02', '03', '04', '09', '10', '11', '12']}, {'2012': ['01', '02', '03', '04', '09', '10', '11', '12']}, {'2013': ['01', '02', '03', '04', '09', '10', '11', '12']}, {'2014': ['01', '02', '03', '04', '05', '06', '09', '10', '11']}, {'2015': ['03', '04', '05', '06', '09', '10']}], 'BEL': [{'1998': ['09', '10']}, {'1999': ['05', '06', '07', '09', '10']}, {'2000': ['05', '06', '07', '09', '10']}, {'2001': ['05', '06', '07', '09', '10']}, {'2002': ['05', '06', '07', '09', '10']}, {'2003': ['05', '06', '07', '09', '10']}, {'2004': ['05', '06', '07', '09', '10']}, {'2005': ['05', '06', '07', '09', '10']}, {'2006': ['05', '06', '07', '09', '10']}, {'2007': ['05', '06', '07', '09', '10']}, {'2008': ['04', '05', '06', '07', '09', '10']}, {'2009': ['04', '05', '06', '07', '09', '10']}, {'2010': ['04', '05', '06', '07', '09', '10']}, {'2011': ['04', '05', '06', '07', '09', '10']}, {'2012': ['04', '05', '06', '07', '09', '10']}, {'2013': ['04', '05', '06', '07', '09', '10']}, {'2014': ['05', '06', '07', '09', '10']}, {'2015': ['04', '05', '06', '07', '09', '10', '11']}], 'FLX': [{'1998': ['09']}, {'1999': ['09']}, {'2000': ['09', '10']}, {'2001': ['09']}, {'2002': ['09']}, {'2003': ['09']}, {'2004': ['09']}, {'2005': ['09']}, {'2006': ['09']}, {'2007': ['09']}, {'2008': ['09']}, {'2009': ['09']}, {'2010': ['09']}, {'2011': ['09']}, {'2012': ['09']}, {'2013': ['09']}], 'SPT': [{'1999': ['04', '05', '06']}, {'2000': ['04', '05']}, {'2001': ['03', '04']}, {'2002': ['03', '04']}], 'REM': [{'1998': ['08', '09', '10', '11']}, {'2000': ['08', '09', '10', '11']}, {'2001': ['01', '02', '08', '09', '10', '11']}, {'2002': ['08', '09', '10', '11', '12']}, {'2003': ['09', '10', '11']}, {'2004': ['08', '09', '10', '11', '12']}, {'2005': ['08', '09', '10', '11']}, {'2006': ['08', '09', '10', '11']}, {'2007': ['04', '08', '09', '10', '11', '12']}, {'2008': ['08', '09', '10', '11', '12']}, {'2009': ['08', '09', '10', '11', '12']}, {'2010': ['08', '09', '10', '11', '12']}, {'2011': ['03', '04', '05', '08', '09', '10', '11', '12']}, {'2012': ['03', '04', '05', '08', '09', '10', '11', '12']}, {'2013': ['03', '04', '05', '06', '08', '09', '10', '11', '12']}, {'2014': ['03', '04', '05', '06', '08', '09', '10', '11', '12']}, {'2015': ['03', '04', '05', '08', '09', '10', '11']}], 'GLD': [{'1999': ['04', '05', '06', '07', '08', '09', '10', '11']}, {'2000': ['05', '06', '07', '08', '09', '10', '11']}, {'2001': ['04', '05', '06', '07', '08', '09', '10']}, {'2002': ['05', '06', '07', '08', '09', '10']}, {'2003': ['04', '05', '06', '07', '08', '09', '10']}, {'2004': ['04', '05', '06', '07', '08', '09', '10']}, {'2005': ['05', '06', '07', '08', '09', '10', '11']}, {'2006': ['05', '06', '07', '08', '09', '10', '11']}, {'2007': ['05', '06', '07', '08', '09', '10', '11']}], 'PIM': [{'1999': ['04', '05', '06']}, {'2000': ['04', '05', '06']}, {'2001': ['03', '04', '05', '06', '07', '08', '09', '10']}, {'2002': ['04', '05', '06', '09', '10']}, {'2003': ['04', '05', '06', '09', '10']}, {'2004': ['03', '04', '05', '06', '07', '08', '09', '10', '11', '12']}, {'2005': ['01', '04', '05', '06', '08']}, {'2006': ['04', '05', '06']}, {'2007': ['04', '05', '06']}, {'2008': ['04', '05', '06']}, {'2009': ['04', '05']}, {'2010': ['04', '05']}, {'2011': ['04', '05']}, {'2012': ['03', '04', '05']}, {'2013': ['04', '05', '06']}, {'2014': ['04', '05', '06']}, {'2015': ['04', '05', '06']}], 'RET': [{'1998': ['08', '09', '10']}, {'1999': ['07', '08', '09', '10']}, {'2000': ['08', '09', '10']}, {'2001': ['05', '06', '08', '09', '10']}, {'2002': ['08', '09', '10']}, {'2003': ['08', '09', '10']}, {'2004': ['07', '08', '09']}, {'2005': ['04', '05', '06', '08', '09', '10']}, {'2006': ['04', '05', '06', '08', '09', '10', '11']}, {'2007': ['05', '06', '09', '10', '11']}, {'2008': ['04', '08', '09', '10', '11', '12']}, {'2009': ['01', '02', '08', '09', '10', '11']}, {'2010': ['09', '10']}, {'2011': ['07', '08', '09', '10', '11']}, {'2012': ['06', '07', '08', '10', '11', '12']}, {'2013': ['06', '07', '08', '10', '11', '12']}, {'2014': ['06', '07', '08', '09', '10', '11']}, {'2015': ['06', '07', '08', '09', '10']}], 'BAY': [{'1998': ['09', '10', '11']}, {'1999': ['09', '10', '11']}, {'2000': ['09', '10', '11']}, {'2001': ['04', '05', '06', '08', '09', '10', '11']}, {'2002': ['04', '05', '06', '08', '09', '10', '11']}, {'2003': ['04', '05', '06', '08', '09', '10', '11']}, {'2004': ['04', '05', '06', '09', '10', '11']}, {'2005': ['02', '03', '04', '05', '08', '09', '10', '12']}, {'2006': ['01', '02', '05', '06', '10', '11', '12']}, {'2007': ['02', '03', '04', '08', '09', '10', '11']}, {'2008': ['02', '03', '04', '05']}], 'LOS': [{'1998': ['08', '09', '10', '11', '12']}, {'1999': ['04', '05', '06', '07', '08', '09', '10', '11', '12']}, {'2000': ['04', '05', '06', '07', '08', '09', '10', '11', '12']}, {'2001': ['01', '02', '03', '04', '05', '06', '07', '08', '09', '10', '11', '12']}, {'2002': ['01', '02', '03', '04', '05', '06', '07', '08', '09', '10']}, {'2007': ['01', '02', '03', '04', '05', '06', '07', '08', '09', '10', '11', '12']}, {'2008': ['01', '02', '03', '04', '05', '06', '07', '08', '09', '10', '11', '12']}, {'2009': ['01', '02', '03', '04', '05', '06', '07', '08', '09', '10', '11', '12']}, {'2010': ['01', '02', '03', '04', '05', '06', '07', '08', '09', '10', '11', '12']}, {'2011': ['01', '02', '03', '04', '05', '06', '07', '08', '09', '10', '11', '12']}, {'2012': ['01', '02', '03', '04', '05', '06', '07', '08', '09', '10', '11', '12']}, {'2013': ['01', '02', '03', '04', '05', '06', '07', '08', '09', '10', '11', '12']}, {'2014': ['01', '02', '03', '04', '05', '06', '07', '08', '09', '10', '11', '12']}, {'2015': ['01', '02', '03', '04', '05', '06', '07', '08', '09', '10', '11']}], 'FLK': [{'1998': ['08', '09', '10', '11', '12']}, {'1999': ['04', '05', '06', '07', '08', '09', '10', '11', '12']}, {'2000': ['04', '05', '06', '07', '08', '09', '10', '11', '12']}, {'2001': ['04', '05', '06', '07', '08', '09', '10', '11', '12']}, {'2002': ['04', '05', '06', '07', '08', '09', '10', '11']}, {'2003': ['04', '05', '06', '07', '08', '09', '10', '11']}, {'2004': ['04', '05', '06', '07', '08', '09', '10', '11']}, {'2005': ['04', '05', '06', '07', '08', '09', '10', '11', '12']}, {'2006': ['04', '05', '06', '07', '08', '09', '10', '11', '12']}, {'2007': ['04', '05', '06', '07', '08', '09', '10', '11', '12']}, {'2008': ['04', '05', '06', '07', '08', '09', '10', '11', '12']}, {'2009': ['04', '05', '06', '07', '08', '09', '10', '11', '12']}, {'2010': ['04', '05', '06', '07', '08', '09', '10', '11', '12']}, {'2011': ['04', '05', '06', '07', '08', '09', '10', '11', '12']}, {'2012': ['04', '05', '06', '07', '08', '09', '10', '11', '12']}, {'2013': ['04', '05', '06', '07', '08', '09', '10', '11', '12']}, {'2014': ['04', '05', '06', '07', '08', '09', '10', '11', '12']}, {'2015': ['05', '06', '07', '08', '09', '10', '11']}], 'DEL': [{'1998': ['08', '09']}, {'1999': ['07', '08', '09']}, {'2000': ['07', '08', '09']}, {'2001': ['07', '08', '09']}, {'2002': ['07', '08', '09']}, {'2003': ['07', '08', '09']}, {'2004': ['07', '08', '09']}, {'2005': ['07', '08', '09']}, {'2006': ['07', '08', '09']}, {'2007': ['07', '08', '09']}, {'2008': ['07', '08', '09']}, {'2009': ['07', '08', '09']}, {'2010': ['07', '08', '09']}, {'2011': ['07', '08', '09']}, {'2012': ['07', '08', '09']}, {'2013': ['07', '08', '09']}, {'2014': ['07', '08', '09', '11']}, {'2015': ['07', '08', '09', '10', '11']}], 'CAN': [{'1999': ['05', '06', '07', '08']}, {'2000': ['05', '06', '07', '08']}, {'2001': ['05', '06', '07', '08', '09']}, {'2002': ['05', '06', '07', '08', '09']}, {'2003': ['05', '06', '07', '08', '09']}, {'2004': ['05', '06', '07', '08', '09']}, {'2005': ['05', '06', '07', '08', '09']}, {'2006': ['05', '06', '07', '08', '09']}, {'2007': ['05', '06', '07', '08', '09']}, {'2008': ['05', '06', '07', '08', '09']}, {'2009': ['05', '06', '07', '08']}, {'2010': ['05', '06', '07', '08']}, {'2011': ['05', '06', '07', '08', '09']}, {'2012': ['05', '06', '07', '08', '09']}, {'2013': ['05', '06', '07', '08', '09']}, {'2014': ['05', '06', '07', '08', '09']}, {'2015': ['05', '06', '07', '08', '09']}], 'CAM': [{'2009': ['05', '06', '07', '08', '09', '10', '11', '12']}, {'2010': ['01', '02', '03', '04', '05', '06', '07', '08', '09', '10', '11', '12']}, {'2011': ['01', '02', '03', '04', '05', '06', '07', '08', '09', '10', '11', '12']}, {'2012': ['01', '02', '03', '04', '05', '06', '07', '08', '09', '10', '11', '12']}, {'2013': ['01', '02', '03', '04', '05', '06']}], 'CAL': [{'1998': ['08', '09', '10', '11', '12']}, {'1999': ['05', '06', '07', '08', '09', '10', '11', '12']}, {'2000': ['05', '06', '07', '08', '09', '10', '11', '12']}, {'2001': ['01', '05', '06', '07', '08', '09', '10', '11', '12']}, {'2002': ['01', '04', '05', '06', '07', '08', '09', '10', '11', '12']}, {'2003': ['01', '04', '05', '06', '07', '08', '09', '10', '11', '12']}, {'2004': ['01', '04', '05', '06', '07', '08', '09', '10', '11', '12']}, {'2005': ['01', '04', '05', '06', '07', '08', '09', '10', '11', '12']}, {'2006': ['01', '04', '05', '06', '07', '08', '09', '10', '11', '12']}, {'2007': ['01', '04', '05', '06', '07', '08', '09', '10', '11', '12']}, {'2008': ['01', '07', '08', '09', '10', '11', '12']}, {'2009': ['01', '04', '05', '06', '07', '08', '09', '10', '11', '12']}, {'2010': ['01', '04', '05', '06', '07', '08', '09', '10', '11', '12']}, {'2011': ['01', '04', '05', '06', '07', '08', '09', '10', '11', '12']}, {'2012': ['04', '05', '06', '07', '08', '09', '10', '11']}, {'2013': ['04', '05', '06', '07', '08', '09', '10', '11', '12']}, {'2014': ['01', '02', '03', '04', '05', '06']}], 'CTN': [{'1999': ['06', '07', '08', '09', '10', '11', '12']}, {'2000': ['04', '05', '06', '07', '08', '09', '10', '11', '12']}, {'2001': ['01', '02', '03', '04', '05', '06', '07', '08', '09', '10', '11', '12']}, {'2002': ['01', '02', '03', '04', '05', '06', '07', '08', '09', '10', '11', '12']}, {'2003': ['01', '02', '03', '04', '05', '06', '07', '08', '09', '10', '11', '12']}, {'2004': ['01', '02', '03', '04', '05', '06', '07', '08', '09', '10', '11', '12']}, {'2005': ['01', '02', '03', '04', '05', '06', '07', '08', '09', '10', '11', '12']}, {'2006': ['01', '02', '03', '04', '05', '06', '07', '08', '09', '10', '11', '12']}, {'2007': ['01', '02', '03', '04', '05', '06', '07', '08', '09', '10', '11', '12']}, {'2008': ['01', '02', '03', '04', '05', '06', '07', '08', '09', '10', '11', '12']}, {'2009': ['01', '02', '03', '04', '05', '06', '07', '08', '09', '10', '11', '12']}, {'2010': ['01', '02', '03', '04', '05', '06', '07', '08', '09', '10', '11', '12']}, {'2011': ['01', '02', '03', '04', '05', '06', '07', '08', '09', '10', '11', '12']}, {'2012': ['01', '02', '03', '04', '05', '06', '07', '08', '09', '10', '11', '12']}, {'2013': ['01', '02', '03', '04', '05', '06', '07', '08', '09', '10', '11', '12']}, {'2014': ['01', '02', '03', '04', '05', '06', '07', '08', '09', '10', '11', '12']}, {'2015': ['01', '02', '03', '04', '05', '06', '07', '08', '09', '10', '11']}], 'DPK': [{'1998': ['08', '09', '10', '11']}, {'1999': ['04', '05', '06', '07', '08', '09', '10', '11']}, {'2000': ['04', '05', '06', '07', '08', '09', '10', '11']}, {'2001': ['04', '05', '06', '07', '08', '09', '10', '11']}, {'2002': ['04', '05', '06', '07', '08', '09', '10', '11']}, {'2003': ['04', '05', '06', '07', '08', '09', '10', '11']}, {'2004': ['04', '05', '06', '07', '08', '09', '10', '11']}, {'2005': ['04', '05', '06', '07', '08', '09', '10', '11']}, {'2006': ['04', '05', '06', '07', '08', '09', '10', '11']}, {'2007': ['04', '05', '06', '07', '08', '09', '10', '11']}, {'2008': ['04', '05', '06', '07', '08', '09', '10', '11']}, {'2009': ['04', '05', '06', '07', '08', '09', '10']}, {'2010': ['05', '06', '07', '08', '09', '10', '11']}, {'2011': ['04', '05', '06', '07', '08', '09', '10', '11']}, {'2012': ['05', '06', '07', '08', '09', '10', '11']}, {'2013': ['05', '06', '07', '08', '09', '10']}, {'2014': ['05', '06', '07', '08', '09', '10']}, {'2015': ['05', '06', '07', '08', '09', '10']}], 'COL': [{'1998': ['09', '10', '11']}, {'1999': ['05', '06', '07', '08', '09', '10']}, {'2000': ['09', '10', '11', '12']}, {'2001': ['07', '08', '10']}, {'2002': ['06', '07', '10', '11']}, {'2003': ['06', '07', '10', '11']}, {'2004': ['06', '07', '10', '11']}, {'2005': ['06', '07', '08', '09', '10', '11']}, {'2006': ['06', '07', '08', '09', '10', '11']}, {'2007': ['06', '07', '08', '09', '10', '11']}, {'2008': ['06', '07', '08', '09', '10', '11']}, {'2009': ['06', '07', '09', '10', '11']}, {'2010': ['05', '06', '07', '09', '10', '11']}, {'2011': ['06', '07', '09', '10', '11']}, {'2012': ['06', '07', '09', '10']}, {'2013': ['06', '07', '09', '10']}, {'2014': ['09', '10']}], 'OAK': [{'2000': ['04']}, {'2001': ['02', '03', '04']}, {'2002': ['01', '02', '03', '04']}, {'2003': ['01', '02', '03', '04']}, {'2004': ['01', '02', '03', '04']}, {'2005': ['01', '02', '03', '04']}, {'2006': ['01', '02', '03', '04']}, {'2007': ['01', '02', '03', '04']}, {'2008': ['01', '02', '03', '04']}, {'2009': ['01', '02', '03', '04']}, {'2010': ['01', '02', '03', '04']}, {'2011': ['01', '02', '03', '04']}, {'2012': ['01', '02', '03', '04']}, {'2013': ['01', '02', '03', '04']}, {'2014': ['01', '02', '03', '04']}, {'2015': ['01', '02', '03', '04']}], 'BEU': [{'1998': ['12']}, {'1999': ['04']}, {'2003': ['04', '05']}, {'2004': ['01', '02', '03', '04', '05', '09', '10', '11', '12']}, {'2005': ['01', '02', '03', '04', '05', '10', '11', '12']}, {'2006': ['01', '02', '03', '04', '05', '10', '11', '12']}, {'2007': ['01', '02', '03', '04', '05', '10', '11', '12']}, {'2008': ['01', '02', '03', '04', '05', '10', '11', '12']}, {'2009': ['01', '02', '03', '04', '05', '10', '11', '12']}, {'2010': ['01', '02', '03', '04', '05', '10', '11', '12']}, {'2011': ['01', '02', '03', '04', '05', '10', '11', '12']}, {'2012': ['01', '02', '03', '04', '05', '10', '11', '12']}, {'2013': ['01', '02', '03', '04', '05', '11', '12']}, {'2014': ['01', '02', '03', '04', '05']}], 'AQU': [{'1998': ['10', '11', '12']}, {'1999': ['04', '05', '10', '11', '12']}, {'2000': ['04', '05', '10', '11', '12']}, {'2001': ['01', '02', '03', '04', '05', '11', '12']}, {'2002': ['01', '02', '03', '04', '05', '10', '11', '12']}, {'2003': ['01', '02', '03', '04', '05', '10', '11', '12']}, {'2004': ['01', '02', '03', '04', '05', '10', '11', '12']}, {'2005': ['01', '02', '03', '04', '05', '11', '12']}, {'2006': ['01', '02', '03', '04', '10', '11', '12']}, {'2007': ['01', '02', '03', '04', '10', '11', '12']}, {'2008': ['01', '02', '03', '04', '10', '11', '12']}, {'2009': ['01', '02', '03', '04', '10', '11', '12']}, {'2010': ['01', '02', '03', '04', '11', '12']}, {'2011': ['01', '02', '03', '04', '11', '12']}, {'2012': ['01', '02', '03', '04', '11', '12']}, {'2013': ['01', '02', '03', '04', '11', '12']}, {'2014': ['01', '02', '03', '04', '10', '11', '12']}, {'2015': ['01', '02', '03', '04', '11']}], 'HAS': [{'1998': ['08', '09', '10', '11']}, {'1999': ['04', '05', '06', '07', '08', '09', '10', '11']}, {'2000': ['04', '05', '06', '07', '08', '09', '10']}, {'2002': ['05']}, {'2004': ['05', '06']}, {'2005': ['04']}, {'2006': ['10', '11']}, {'2007': ['04', '05', '06', '07', '08', '09', '10', '11']}, {'2008': ['04', '05', '06', '07', '08', '09', '10', '11']}, {'2009': ['04', '05', '06', '07', '08', '09', '10', '11']}, {'2010': ['04', '05', '06', '07', '08', '09', '10']}, {'2011': ['04', '05', '06', '07', '08', '09', '10']}, {'2012': ['04', '05', '06', '07', '08', '09', '10']}, {'2013': ['04', '05', '06', '07', '08', '09', '10']}, {'2014': ['04', '05', '06', '07', '08', '09', '10']}, {'2015': ['04', '05', '06', '07', '08', '09', '10']}], 'EVN': [{'1998': ['08', '09']}, {'1999': ['04', '05', '06', '07', '08', '09']}, {'2000': ['04', '05', '06', '07', '08', '09']}, {'2001': ['04', '05', '06', '07', '08', '09']}, {'2002': ['04', '05', '06', '07', '08', '09']}, {'2003': ['04', '05', '06', '07', '08', '09']}, {'2004': ['04', '05', '06', '07', '08', '09', '10']}, {'2005': ['02', '03', '04', '05', '06', '07', '08', '09', '10', '11', '12']}, {'2006': ['01', '02', '03', '04', '05', '06', '07', '08', '09', '10', '11']}, {'2007': ['04', '05', '06', '07', '08', '09', '10', '11', '12']}, {'2008': ['04', '05', '06', '07', '08', '09', '10', '11']}, {'2009': ['04', '05', '06', '07', '08', '09']}, {'2010': ['04', '05', '06', '07', '08', '09', '10', '11', '12']}, {'2011': ['04', '05', '06', '07', '08', '09', '10', '11', '12']}, {'2012': ['04', '05', '06', '07', '08', '09', '11', '12']}, {'2013': ['04', '05', '06', '07', '08', '09', '10', '11', '12']}, {'2014': ['04', '05', '06', '07', '08', '10', '11', '12']}, {'2015': ['04', '05', '06', '07', '08', '09', '10', '11']}], 'MDL': [{'1998': ['09', '10', '11', '12']}, {'1999': ['04', '05', '06', '07', '08', '09', '10', '11']}, {'2000': ['04', '05', '06', '07', '08', '09', '10', '11', '12']}, {'2001': ['01', '02', '03', '04', '05', '06', '07', '09', '10', '11', '12']}, {'2002': ['01', '02', '03', '04', '05', '06', '07', '08', '09', '10', '11', '12']}, {'2003': ['01', '02', '03', '04', '05', '06', '07', '08', '10', '11', '12']}, {'2004': ['01', '02', '03', '04', '05', '06', '07', '08', '10', '11', '12']}, {'2005': ['01', '02', '03', '04', '05', '06', '07', '08', '09', '10', '11', '12']}, {'2006': ['01', '02', '03', '04', '05', '06', '07', '08', '09', '10', '11', '12']}, {'2007': ['01', '02', '03', '04', '05', '06', '07', '08', '09', '10', '11', '12']}, {'2008': ['01', '02', '03', '04', '05', '06', '07', '08', '09', '10', '11', '12']}, {'2009': ['01', '02', '03', '04', '05', '06', '07', '08', '10', '11', '12']}, {'2010': ['01', '02', '03', '04', '05', '06', '07', '08', '10', '11', '12']}, {'2011': ['01', '02', '03', '05', '06', '07', '08']}, {'2012': ['01', '02', '03', '04', '05', '06', '07', '08', '12']}, {'2013': ['01', '02', '03', '04', '05', '06', '07', '08', '11', '12']}, {'2014': ['01', '02', '03', '04', '05', '06', '07', '08', '11', '12']}, {'2015': ['01', '02', '03', '04', '05', '06', '07', '08', '11']}], 'PRM': [{'1999': ['04', '05', '06', '07', '08', '09']}, {'2000': ['04', '05', '06']}, {'2001': ['04', '05', '06', '07']}, {'2002': ['05', '06', '07', '08', '09']}, {'2003': ['04', '05', '06', '08', '09']}, {'2004': ['04', '05', '06', '07', '08', '09', '10', '11']}, {'2005': ['04', '05', '06', '07', '08', '09', '10']}, {'2006': ['04', '05', '06', '07', '08', '09', '10']}, {'2007': ['04', '05', '06', '07', '08', '09', '10']}, {'2008': ['04', '05', '06', '07', '08', '09', '10']}, {'2009': ['04', '05', '06', '07', '08', '09', '10']}, {'2010': ['04', '05', '06', '07', '08', '09', '10']}, {'2011': ['04', '05', '06', '07', '08', '09', '10']}, {'2012': ['04', '05', '06', '07', '08', '09', '10']}, {'2013': ['04', '05', '06', '07', '08', '09', '10']}, {'2014': ['04', '05', '06', '07', '08', '09', '10']}, {'2015': ['04', '05', '06', '07', '08', '09', '10']}], 'ZA2': [{'2003': ['10']}], 'WOB': [{'1998': ['08', '09', '10', '11', '12']}, {'1999': ['04', '05', '06', '07', '08', '09', '10', '11']}, {'2000': ['04', '05', '06', '07', '08', '09', '10', '11']}, {'2001': ['04', '05', '06', '07', '08', '09', '10', '11', '12']}, {'2002': ['03', '04', '05', '06', '07', '08', '09', '10', '11', '12']}, {'2003': ['03', '04', '05', '06', '07', '08', '09', '10', '11']}, {'2004': ['04', '05', '06', '07', '08', '09', '10', '11', '12']}, {'2005': ['04', '05', '06', '07', '08', '09', '10', '11', '12']}, {'2006': ['04', '05', '06', '07', '08', '09', '10', '11', '12']}, {'2007': ['03', '04', '05', '06', '07', '08', '09', '10', '11', '12']}, {'2008': ['04', '05', '06', '07', '08', '09', '10', '11', '12']}, {'2009': ['04', '05', '06', '07', '08', '09', '10', '11', '12']}, {'2010': ['04', '05', '06', '07', '08', '09', '10', '11', '12']}, {'2011': ['04', '05', '06', '07', '08', '09', '10', '11', '12']}, {'2012': ['04', '05', '06', '07', '08', '09', '10', '11', '12']}, {'2013': ['04', '05', '06', '07', '08', '09', '10', '11', '12']}, {'2014': ['04', '05', '06', '07', '08', '09', '10', '11', '12']}, {'2015': ['04', '05', '06', '07', '08', '09', '10', '11']}], 'POR': [{'2003': ['10', '11', '12']}, {'2004': ['01', '02', '03', '04', '10', '11', '12']}, {'2005': ['01', '02', '03', '04', '10', '11', '12']}, {'2006': ['01', '02', '03', '04', '05', '10', '11', '12']}, {'2007': ['01', '02', '03', '04', '05', '10', '11', '12']}, {'2008': ['01', '02', '03', '10', '11', '12']}, {'2009': ['01', '02', '03']}, {'2014': ['10', '11']}, {'2015': ['10', '11']}], 'LDN': [{'1998': ['08', '09', '10', '11']}, {'1999': ['06', '07', '08', '09', '10', '11']}, {'2000': ['07', '08', '09', '10', '11']}, {'2001': ['06', '07', '08', '09', '10', '11']}, {'2002': ['06', '07', '08', '09', '10', '11']}, {'2003': ['06', '07', '08', '09', '10', '11']}, {'2004': ['05', '06', '07', '08', '09', '10', '11', '12']}, {'2005': ['04', '05', '06', '07', '08', '09', '10']}, {'2006': ['05', '06', '07', '08', '09', '10']}, {'2007': ['01', '02', '03', '05', '06', '07', '08', '09', '10']}, {'2008': ['01', '02', '03', '05', '06', '07', '08', '09', '10']}, {'2009': ['01', '02', '03', '05', '06', '07', '08', '09', '10']}, {'2010': ['01', '02', '03', '05', '06', '07', '08', '09']}, {'2011': ['01', '02', '03', '05', '06', '07', '08', '09']}, {'2012': ['01', '02', '03', '05', '06', '07', '08', '09']}, {'2013': ['01', '02', '03', '05', '06', '07', '08', '09']}, {'2014': ['01', '02', '03', '05', '06', '07', '08', '09']}, {'2015': ['01', '02', '03', '05', '06', '07', '08', '09']}], 'AU1': [{'1998': ['08', '09', '10', '11', '12']}, {'1999': ['04', '05', '06', '07', '08', '09', '10', '11', '12']}, {'2000': ['04', '05', '06', '07', '08', '09', '10', '11', '12']}, {'2001': ['01', '02', '03', '04', '05', '06', '07', '08', '09', '10', '11', '12']}, {'2002': ['01', '02', '03', '04', '05', '06', '07', '08', '09', '10', '11', '12']}, {'2003': ['01', '02', '03', '04', '05', '06', '07', '08', '09', '10', '11', '12']}, {'2004': ['01', '02', '03', '04', '05', '06', '07', '08', '09', '10', '11', '12']}, {'2005': ['01', '02', '03', '04', '05', '06', '07', '08', '09', '10', '11', '12']}, {'2006': ['01', '02', '03', '04', '05', '06', '07', '08', '09', '10', '11', '12']}, {'2007': ['01', '02', '03', '04', '05', '06', '07', '08', '09', '10', '11', '12']}, {'2008': ['01', '02', '03', '04', '05', '06', '07', '08', '09', '10', '11', '12']}, {'2009': ['01', '02', '03', '04', '05', '06', '07', '08', '09', '10', '11', '12']}, {'2010': ['01', '02', '03', '04', '05', '06', '07', '08', '09', '10', '11', '12']}, {'2011': ['01', '02', '03', '04', '05', '06', '07', '08', '09', '10', '11', '12']}, {'2012': ['01', '02', '03', '04', '05', '06', '07', '08', '09', '10', '11', '12']}, {'2013': ['01', '02', '03', '04', '05', '06', '07', '08', '09', '10', '11', '12']}, {'2014': ['01', '02', '03', '04', '05', '06', '07', '08', '09', '10', '11', '12']}, {'2015': ['01', '02', '03', '04', '05', '06', '07', '08', '09', '10', '11']}], 'AU3': [{'2011': ['01', '02', '03', '04', '05', '06', '07', '08', '09', '10', '11', '12']}, {'2012': ['01', '02', '03', '04', '05', '06', '07', '08', '09', '10', '11', '12']}, {'2013': ['01', '02', '03', '04', '05', '06', '07', '08', '09', '10', '11', '12']}, {'2014': ['01', '02', '03', '04', '05', '06', '07', '08', '09', '10', '11', '12']}, {'2015': ['01', '02', '03', '04', '05', '06', '07', '08', '09', '10', '11']}], 'AU2': [{'2000': ['05', '06', '07', '08', '09', '10', '11', '12']}, {'2001': ['01', '02', '03', '04', '05', '06', '07', '08', '09', '10', '11', '12']}, {'2002': ['01', '02', '03', '04', '05', '06', '07', '08', '09', '10', '11', '12']}, {'2003': ['01', '02', '03', '04', '05', '06', '07', '08', '09', '10', '11', '12']}, {'2004': ['01', '02', '03', '04', '05', '06', '07', '08', '09', '10', '11', '12']}, {'2005': ['01', '02', '03', '04', '05', '06', '07', '08', '09', '10', '11', '12']}, {'2006': ['01', '02', '03', '04', '05', '06', '07', '08', '09', '10', '11', '12']}, {'2007': ['01', '02', '03', '04', '05', '06', '07', '08', '09', '10', '11', '12']}, {'2008': ['01', '02', '03', '04', '05', '06', '07', '08', '09', '10', '11', '12']}, {'2009': ['01', '02', '03', '04', '05', '06', '07', '08', '09', '10', '11', '12']}, {'2010': ['01', '02', '03', '04', '05', '06', '07', '08', '09', '10', '11', '12']}, {'2011': ['01', '02', '03', '04', '05', '06', '07', '08', '09', '10', '11', '12']}, {'2012': ['01', '02', '03', '04', '05', '06', '07', '08', '09', '10', '11', '12']}, {'2013': ['01', '02', '03', '04', '05', '06', '07', '08', '09', '10', '11', '12']}, {'2014': ['01', '02', '03', '04', '05', '06', '07', '08', '09', '10', '11', '12']}, {'2015': ['01', '02', '03', '04', '05', '06', '07', '08', '09', '10', '11']}], 'FGD': [{'1998': ['11', '12']}, {'1999': ['11', '12']}, {'2000': ['11', '12']}, {'2001': ['01', '02', '03', '11', '12']}, {'2002': ['01', '02', '03', '11', '12']}, {'2003': ['01', '02', '03', '11', '12']}, {'2004': ['01', '02', '03', '11', '12']}, {'2005': ['01', '02', '03', '11', '12']}, {'2006': ['01', '11', '12']}, {'2007': ['01', '02', '03', '11', '12']}, {'2008': ['01', '02', '03', '11', '12']}, {'2009': ['01', '02', '03']}, {'2010': ['01', '02', '03', '11', '12']}, {'2011': ['01', '02', '03', '11', '12']}, {'2012': ['01', '02', '03', '04', '11', '12']}, {'2013': ['01', '02', '03', '11', '12']}, {'2014': ['01', '02', '03', '11', '12']}, {'2015': ['01', '02', '03', '11']}], 'TAM': [{'1998': ['12']}, {'1999': ['04', '05', '12']}, {'2000': ['04', '05']}, {'2001': ['01', '02', '03', '04', '05', '12']}, {'2002': ['01', '02', '03', '04', '12']}, {'2003': ['01', '02', '03', '04', '05', '12']}, {'2004': ['01', '02', '03', '04', '05', '12']}, {'2005': ['01', '02', '03', '04', '05', '12']}, {'2006': ['01', '02', '03', '04', '05', '12']}, {'2007': ['01', '02', '03', '04', '05', '12']}, {'2008': ['01', '02', '03', '04', '05', '12']}, {'2009': ['01', '02', '03', '04', '05', '12']}, {'2010': ['01', '02', '03', '04', '05', '12']}, {'2011': ['01', '02', '03', '04', '05', '12']}, {'2012': ['01', '02', '03', '04', '05', '12']}, {'2013': ['01', '02', '03', '04', '05', '12']}, {'2014': ['01', '02', '03', '04', '05', '06', '07', '11', '12']}, {'2015': ['01', '02', '03', '04', '05', '06', '07']}], 'ZA1': [{'2003': ['08', '09', '10', '11', '12']}, {'2004': ['03', '04', '05', '09', '10', '11', '12']}, {'2005': ['01', '02', '03', '04', '05', '09', '10', '11', '12']}, {'2006': ['01', '02', '03', '04', '05', '06', '07', '08', '09', '10', '11', '12']}, {'2007': ['01', '02', '03']}], 'KND': [{'1998': ['10']}, {'1999': ['04', '10']}, {'2000': ['04', '10']}, {'2001': ['04', '10']}, {'2002': ['04', '10']}, {'2003': ['04', '10']}, {'2004': ['04', '10']}, {'2005': ['04', '10']}, {'2006': ['04', '10']}, {'2007': ['04', '10']}, {'2008': ['04', '10']}, {'2009': ['04', '10']}, {'2010': ['04', '10']}, {'2011': ['04', '10']}, {'2012': ['04', '10']}, {'2013': ['04', '10']}, {'2014': ['04', '10']}, {'2015': ['04', '10']}], 'GOL': [{'1998': ['11', '12']}, {'1999': ['04', '05', '06', '11', '12']}, {'2000': ['04', '05', '06', '11', '12']}, {'2001': ['01', '02', '03', '04', '11', '12']}, {'2002': ['01', '02', '03', '11', '12']}, {'2003': ['01', '02', '03', '11', '12']}, {'2004': ['01', '02', '03', '04', '11', '12']}, {'2005': ['01', '05', '06', '10', '11', '12']}, {'2006': ['02', '03', '04', '05', '08', '09', '10', '12']}, {'2007': ['01', '02', '04', '05', '06', '11', '12']}, {'2008': ['01', '02', '05', '06', '09', '10', '11', '12']}, {'2009': ['01', '02', '03', '04', '05', '06', '08', '09', '10', '11', '12']}, {'2010': ['01', '02', '03', '04', '05', '06', '08', '09', '10', '11', '12']}, {'2011': ['01', '02', '03', '04', '05', '06', '08', '09', '10', '11', '12']}, {'2012': ['01', '02', '03', '04', '05', '06', '08', '09', '10', '11', '12']}, {'2013': ['01', '02', '03', '04', '05', '06', '08', '09', '10', '11', '12']}, {'2014': ['01', '02', '03', '04', '05', '06', '08', '09', '10', '11']}, {'2015': ['03', '04', '05', '06', '08', '09', '10', '11']}], 'HPX': [{'1998': ['11', '12']}, {'1999': ['04', '05', '06', '07', '11', '12']}, {'2000': ['04', '05', '06', '07', '11', '12']}, {'2001': ['04', '05', '06', '07', '11', '12']}, {'2002': ['04', '05', '06', '07', '11', '12']}, {'2003': ['04', '05', '06', '07', '11', '12']}, {'2004': ['04', '05', '06', '07', '11', '12']}, {'2005': ['04', '05', '06', '07', '11', '12']}, {'2006': ['04', '05', '06', '07', '11', '12']}, {'2007': ['04', '05', '06', '07', '11', '12']}, {'2008': ['04', '05', '06', '07', '10', '11', '12']}, {'2009': ['04', '05', '06', '07', '11', '12']}, {'2010': ['04', '05', '06', '07', '09', '10', '11', '12']}, {'2011': ['04', '05', '06', '07', '11', '12']}, {'2012': ['04', '05', '06', '07', '11', '12']}, {'2013': ['04', '05', '06', '07', '11', '12']}], 'ELL': [{'1998': ['08', '09']}, {'1999': ['06', '07', '08', '09']}, {'2000': ['07', '08', '09']}, {'2001': ['07', '08', '09']}, {'2002': ['07', '08', '09']}, {'2003': ['07', '08', '09']}, {'2004': ['07', '08', '09']}, {'2005': ['07', '08', '09']}, {'2006': ['07', '08', '09']}, {'2007': ['07', '08', '09']}, {'2008': ['07', '08', '09']}, {'2009': ['07', '08', '09']}, {'2010': ['07', '08', '09']}, {'2011': ['07', '08', '09']}, {'2012': ['07', '08', '09']}, {'2013': ['07', '08', '09']}, {'2014': ['07', '08', '09']}, {'2015': ['07', '08', '09']}], 'MTR': [{'2000': ['09', '10', '11', '12']}, {'2001': ['01', '02', '03', '04', '05', '06', '07', '08', '09', '10', '11', '12']}, {'2002': ['01', '02', '03', '04', '05', '06', '07', '08', '09', '10', '11', '12']}, {'2003': ['01', '02', '03', '04', '05', '06', '07', '08', '09', '10', '11', '12']}, {'2004': ['01', '02', '03', '04', '05', '06', '07', '08', '09', '10', '11', '12']}, {'2005': ['01', '02', '03', '04', '05', '06', '07', '08', '09', '10', '11', '12']}, {'2006': ['01', '02', '03', '04', '05', '06', '07', '08', '09', '10', '11', '12']}, {'2007': ['01', '02', '03', '04', '05', '06', '07', '08', '09', '10', '11', '12']}, {'2008': ['01', '02', '03', '04', '05', '06', '07', '08', '09', '10', '11', '12']}, {'2009': ['01', '02', '03', '04', '05', '06', '07', '08', '09', '10', '11', '12']}, {'2010': ['03', '04', '05', '06', '07', '08', '09', '10', '11', '12']}, {'2011': ['03', '04', '05', '06', '07', '08', '09', '10', '11', '12']}, {'2012': ['03', '04', '05', '06', '07', '08', '09', '10', '11', '12']}, {'2013': ['03', '04', '05', '06', '07', '08', '09', '10', '11', '12']}, {'2014': ['03', '04', '05', '06', '07', '08', '09', '10', '11']}, {'2015': ['03', '04', '05', '06', '07', '08', '09', '10']}], 'HOO': [{'1998': ['08', '09', '10', '11']}, {'1999': ['04', '05', '06', '07', '08', '09', '10', '11', '12']}, {'2000': ['05', '06', '07', '08', '09', '10', '11', '12']}, {'2001': ['02', '03', '04', '05', '06', '07', '08', '09', '10', '11', '12']}, {'2002': ['04', '05', '06', '07', '08', '09', '10', '11']}, {'2003': ['03', '04', '05', '08', '09', '10', '11', '12']}, {'2004': ['03', '04', '05', '06', '09', '10', '11']}, {'2005': ['04', '05', '06', '09', '10', '11']}, {'2006': ['04', '05', '06', '09', '10', '11']}, {'2007': ['04', '05', '06', '09', '10', '11']}, {'2008': ['04', '05', '06', '07', '08', '09', '10', '11']}, {'2009': ['03', '04', '05', '06', '07', '08', '09', '10']}, {'2010': ['03', '04', '05', '06', '07', '08', '09', '10']}, {'2011': ['03', '04', '05', '06', '07', '08', '09', '10']}, {'2012': ['03', '04', '05', '06', '07', '08', '09', '10']}, {'2013': ['04', '05', '06', '07', '08', '09', '10', '11']}, {'2014': ['03', '04', '05', '06', '07', '08', '09', '10', '11']}, {'2015': ['03', '04', '05', '06', '07', '08', '09', '10', '11']}], 'FMT': [{'1998': ['08', '09', '10', '11', '12']}, {'1999': ['04', '05', '06', '07', '08', '09', '10', '11', '12']}, {'2001': ['03', '04', '05', '06', '07', '08', '09', '10', '11']}, {'2002': ['04', '05', '06', '07', '08', '09', '10']}, {'2003': ['04', '05', '06', '07', '08', '09', '10']}, {'2004': ['03', '04', '05', '06', '07', '08', '09']}, {'2005': ['03', '04', '05', '06', '07', '08', '09']}, {'2006': ['03', '04', '05', '06', '07', '08', '09']}, {'2007': ['03', '04', '05', '06', '07', '08', '09']}, {'2008': ['04', '05', '06', '07', '08', '09']}, {'2009': ['04', '05', '06', '07', '08']}, {'2010': ['04', '05', '06', '07', '08']}, {'2011': ['03', '04', '05', '06', '07', '08', '09']}, {'2012': ['04', '05', '06', '07', '08', '09']}, {'2013': ['03', '04', '05', '06', '07', '08', '09']}, {'2014': ['04', '05', '06', '07', '08', '09']}, {'2015': ['03', '04', '05', '06', '07', '08', '09']}], 'SGA': [{'1998': ['08', '09']}, {'1999': ['07', '08', '09']}, {'2000': ['07', '08', '09']}, {'2001': ['07', '08', '09']}, {'2002': ['07', '08', '09']}, {'2003': ['07', '08', '09']}, {'2004': ['07', '08', '09']}, {'2005': ['07', '08', '09']}, {'2006': ['07', '08', '09']}, {'2007': ['07', '08', '09']}, {'2008': ['07', '08', '09']}, {'2009': ['07', '08', '09']}, {'2010': ['07', '08', '09']}, {'2011': ['07', '08', '09']}, {'2012': ['07', '08', '09']}, {'2013': ['07', '08', '09']}, {'2014': ['07', '08', '09']}, {'2015': ['07', '08', '09']}], 'FTE': [{'1999': ['07', '08', '09', '10', '11']}, {'2000': ['04', '05', '06', '07', '08', '09', '10', '11']}, {'2001': ['04', '05', '06', '07', '08', '09', '10', '11']}, {'2002': ['05', '06', '07', '08', '09', '10', '11']}, {'2003': ['04', '05']}, {'2005': ['10', '11']}, {'2006': ['04', '05', '06', '07', '08', '09', '10']}, {'2007': ['05', '06', '07', '08', '09', '10']}, {'2008': ['05', '06', '07', '08', '09', '10']}, {'2009': ['05', '06', '07', '08', '09', '10']}, {'2010': ['05', '06', '07', '08', '09', '10']}, {'2011': ['05', '06', '07', '08', '09', '10', '11']}, {'2012': ['05', '06', '07', '08', '09', '10']}, {'2013': ['05', '06', '07', '08', '09', '10']}, {'2014': ['05', '06', '07', '08', '09']}, {'2015': ['06', '07', '08', '09', '10']}], 'DDN': [{'2001': ['01', '02', '03', '04', '11', '12']}, {'2002': ['01', '02', '03', '04', '11', '12']}, {'2003': ['01', '02', '03', '10', '11', '12']}, {'2004': ['01', '02', '03', '10', '11', '12']}, {'2005': ['01', '02', '03', '04', '05', '06', '07']}, {'2006': ['04', '05', '06', '07', '11', '12']}, {'2007': ['01', '02', '03', '04', '05', '06', '07', '10', '11', '12']}, {'2008': ['01', '02', '03', '04', '05', '06', '07', '10', '11', '12']}, {'2009': ['01', '02', '03', '04', '05', '06', '07', '10', '11', '12']}, {'2010': ['01', '02', '03', '04', '05', '06', '07', '10', '11', '12']}, {'2011': ['01', '02', '03', '04', '05', '06', '07', '10', '11', '12']}, {'2012': ['01', '02', '03', '04', '05', '06', '07', '10', '11', '12']}, {'2013': ['01', '02', '03', '04', '05', '06', '07', '10', '11', '12']}, {'2014': ['01', '02', '03', '04', '05', '06', '07', '10', '11', '12']}, {'2015': ['01', '02', '03', '04', '05', '06', '07', '10', '11']}], 'THI': [{'1998': ['08', '09', '10', '11', '12']}, {'1999': ['04', '05', '06', '07', '08', '09', '10', '11', '12']}, {'2000': ['04', '05', '06', '07', '08', '09', '10', '11', '12']}, {'2001': ['01', '02', '03', '04', '05', '06', '07', '08', '09', '10', '11', '12']}, {'2002': ['01', '02', '03', '04', '05', '06', '07', '08', '09', '10', '11', '12']}, {'2003': ['01', '02', '03', '04', '05', '06', '07', '08', '09', '10', '11', '12']}, {'2004': ['01', '04', '05', '06', '07', '08', '09', '10', '11', '12']}, {'2005': ['04', '05', '06', '07', '08', '09', '10', '11', '12']}, {'2006': ['04', '05', '06', '07', '08', '09', '10', '11']}, {'2007': ['04', '05', '06', '07', '08', '09', '10', '11']}, {'2008': ['05', '06', '07', '08', '09', '10']}, {'2009': ['04', '05', '06', '07', '08', '09', '10']}, {'2010': ['04', '05', '06', '07', '08', '09', '10', '11']}, {'2011': ['04', '05', '06', '07', '08', '09', '10', '11']}, {'2012': ['05', '06', '07', '08', '09', '10', '11']}, {'2014': ['04', '05', '06', '07', '08', '09', '10', '11']}, {'2015': ['04', '05', '06', '07', '08', '09', '10']}], 'GUL': [{'1999': ['11']}, {'2001': ['01', '02', '03']}, {'2002': ['01', '02', '03', '04']}, {'2003': ['01', '02', '03', '04']}, {'2004': ['01', '02', '03', '04']}, {'2005': ['01', '02', '03', '04']}, {'2006': ['01', '02', '03', '04']}, {'2007': ['01', '02', '03', '04']}, {'2008': ['01', '02', '03', '04']}, {'2009': ['01', '02', '03', '04']}, {'2010': ['01', '02', '03', '04']}, {'2011': ['01', '02', '03', '04', '12']}, {'2012': ['01', '02', '03', '04', '12']}, {'2013': ['01', '02', '03', '04', '06', '07', '08', '09', '10', '11', '12']}, {'2014': ['01', '02', '03', '04', '05', '06', '07', '08', '09', '10', '11']}, {'2015': ['03', '04', '05', '06', '07', '08', '09', '10', '11']}], 'SUF': [{'1998': ['09', '10', '11', '12']}, {'1999': ['04', '05', '06', '09', '10', '11', '12']}, {'2000': ['04', '05', '06', '09', '10', '11', '12']}, {'2001': ['01', '02', '03', '04', '05', '06', '09', '10', '11', '12']}, {'2002': ['01', '02', '03', '04', '05', '06', '09', '10', '11', '12']}, {'2003': ['01', '02', '03', '04', '05', '06', '07', '08', '09', '10']}, {'2004': ['05', '06', '07', '08', '09', '10', '11']}, {'2005': ['04', '05', '06', '07', '08', '09', '10', '11']}, {'2006': ['05', '06', '07', '08', '09', '10', '11']}, {'2007': ['05', '06', '07', '08', '09', '10', '11']}, {'2008': ['05', '06', '07', '08', '09', '10', '11']}, {'2009': ['05', '06', '07', '08', '09', '10', '11']}, {'2010': ['05', '06', '07', '08', '09', '10', '11']}, {'2011': ['05', '06', '07', '08', '09', '10', '11']}, {'2012': ['06', '07', '08', '09', '10', '11']}, {'2013': ['06', '07', '08', '09', '10', '11']}, {'2014': ['05', '06', '07', '08', '09', '10']}, {'2015': ['09', '10']}], 'HAW': [{'1998': ['08', '09', '10', '11']}, {'1999': ['07', '08', '09', '10', '11', '12']}, {'2000': ['10', '11', '12']}, {'2001': ['01', '05', '06', '11', '12']}, {'2002': ['01', '05', '06', '11', '12']}, {'2003': ['01', '03', '04', '05', '09', '10', '11', '12']}, {'2004': ['01', '02', '03', '04', '05', '09', '10', '11', '12']}, {'2005': ['01', '02', '03', '04', '05', '09', '10', '11', '12']}, {'2006': ['01', '02', '03', '04', '05', '06', '09', '10', '11', '12']}, {'2007': ['01', '02', '03', '04', '06', '07', '08', '09', '10', '11', '12']}, {'2008': ['01', '03', '04', '06', '07', '08', '09', '10', '11', '12']}, {'2009': ['01', '03', '04', '10', '11', '12']}, {'2010': ['01', '02', '03', '04', '10', '11', '12']}, {'2011': ['02', '03', '04', '10', '11', '12']}, {'2012': ['02', '03', '04', '10', '11', '12']}, {'2013': ['02', '03', '04', '10', '11', '12']}, {'2014': ['02', '03', '04', '10', '11', '12']}, {'2015': ['01', '02', '03', '04', '10', '11']}], 'KEN': [{'1998': ['09']}, {'1999': ['09']}, {'2000': ['09']}, {'2004': ['09']}, {'2005': ['09']}, {'2008': ['09']}, {'2009': ['09']}, {'2010': ['09']}, {'2011': ['09']}, {'2012': ['09']}, {'2013': ['09']}, {'2014': ['09']}, {'2015': ['09']}], 'PHI': [{'1998': ['08', '09', '10', '11', '12']}, {'1999': ['04', '05', '06', '07', '08', '09', '10', '11', '12']}, {'2000': ['04', '05', '06', '07', '08', '09', '10', '11', '12']}, {'2001': ['01', '02', '03', '04', '05', '06', '07', '08', '09', '10', '11', '12']}, {'2002': ['01', '02', '03', '04', '05', '06', '07', '08', '09', '10', '11', '12']}, {'2003': ['01', '02', '03', '04', '05', '06', '07', '08', '09', '10', '11', '12']}, {'2004': ['01', '02', '03', '04', '05', '06', '07', '08', '09', '10', '11', '12']}, {'2005': ['01', '02', '03', '04', '05', '06', '07', '08', '09', '10', '11', '12']}, {'2006': ['01', '02', '03', '04', '05', '06', '07', '08', '09', '10', '11', '12']}, {'2007': ['01', '02', '03', '04', '05', '06', '07', '08', '09', '10', '11', '12']}, {'2008': ['01', '02', '03', '04', '05', '06', '07', '08', '09', '10', '11', '12']}, {'2009': ['01', '02', '03', '04', '05', '06', '07', '08', '09', '10', '11', '12']}, {'2010': ['01', '02', '03', '04', '05', '06', '07', '08', '09', '10', '11', '12']}, {'2011': ['01', '02', '03', '04', '05', '06', '07', '08', '09', '10', '11', '12']}, {'2012': ['01', '02', '03', '04', '05', '06', '07', '08', '09', '10', '11', '12']}, {'2013': ['01', '02', '03', '04', '05', '06', '07', '08', '09', '10', '11', '12']}, {'2014': ['01', '02', '03', '04', '05', '06', '07', '08', '09', '10', '11', '12']}, {'2015': ['01', '02', '03', '04', '05', '06', '07', '08', '09', '10', '11']}], 'LON': [{'1999': ['04', '05', '06', '07']}, {'2000': ['04', '05', '06', '07']}, {'2001': ['04', '05', '06', '07']}, {'2002': ['04', '05', '06', '07']}, {'2003': ['04', '05', '06', '07']}, {'2004': ['04', '05', '06', '07', '10']}, {'2005': ['04', '05', '06', '07', '10', '11']}, {'2006': ['04', '05', '06', '07']}, {'2007': ['04', '05', '06', '07']}, {'2008': ['04', '05', '06', '07']}, {'2009': ['04', '05', '06', '07']}, {'2010': ['04', '05', '06', '07']}, {'2011': ['04', '05', '06', '07']}, {'2012': ['04', '05', '06', '07']}, {'2013': ['04', '05', '06', '07']}, {'2014': ['04', '05', '06', '07']}, {'2015': ['04', '05', '06', '07']}], 'SAM': [{'1998': ['10', '11', '12']}, {'1999': ['10', '11', '12']}, {'2000': ['11', '12']}, {'2001': ['01', '02', '03', '11', '12']}, {'2002': ['01', '02', '03', '11', '12']}, {'2003': ['01', '02', '03', '10', '11', '12']}, {'2004': ['01', '02', '03', '04', '10', '11', '12']}, {'2005': ['01', '02', '03', '04', '08', '09', '10', '11', '12']}, {'2006': ['01', '02', '03', '04', '06', '07', '08', '09', '11', '12']}, {'2007': ['01', '02', '03', '04', '06', '07', '08', '09', '11', '12']}, {'2008': ['01', '02', '03', '04']}, {'2009': ['05', '06', '07', '08', '11', '12']}, {'2010': ['01', '02', '03', '04', '05', '06', '07', '08']}, {'2011': ['01', '02', '03', '04', '05']}, {'2012': ['01', '02', '03', '04', '05']}, {'2013': ['01', '02', '03', '04', '05']}, {'2014': ['01', '02', '03', '04', '05']}, {'2015': ['01', '02', '03', '04', '05']}], 'PAR': [{'1998': ['10', '11', '12']}, {'1999': ['04', '05', '10', '11', '12']}, {'2000': ['04', '05', '10', '11', '12']}, {'2001': ['01', '02', '03', '04', '05', '09', '10', '11', '12']}, {'2002': ['01', '02', '03', '04', '05', '09', '10', '11', '12']}, {'2003': ['01', '02', '03', '04', '05', '09', '10', '11', '12']}, {'2004': ['01', '02', '03', '04', '05', '10', '11', '12']}, {'2005': ['01', '02', '03', '04', '05', '09', '10', '11', '12']}, {'2006': ['01', '02', '03', '04', '05', '10', '11', '12']}, {'2007': ['01', '02', '03', '04', '05', '10', '11', '12']}, {'2008': ['01', '02', '03', '04', '05', '10', '11', '12']}, {'2009': ['01', '02', '03', '04', '05', '10', '11', '12']}, {'2010': ['01', '02', '03', '04', '05', '10', '11', '12']}, {'2011': ['01', '02', '03', '04', '05', '10', '11', '12']}, {'2012': ['01', '02', '03', '04', '05', '10', '11', '12']}, {'2013': ['01', '02', '03', '04', '05', '10', '11', '12']}, {'2014': ['01', '02', '03', '04', '05', '10', '11']}, {'2015': ['03', '04', '05', '10', '11']}], 'TIM': [{'1998': ['08', '09']}, {'1999': ['08', '09']}, {'2000': ['08', '09']}, {'2001': ['08', '09']}, {'2002': ['08', '09']}, {'2004': ['08', '09']}, {'2005': ['08', '09']}, {'2006': ['08', '09']}, {'2007': ['08', '09']}, {'2008': ['08', '09']}, {'2009': ['08', '09']}, {'2010': ['08', '09']}, {'2011': ['08', '09']}, {'2012': ['08', '09']}, {'2013': ['08', '09']}, {'2014': ['08', '09']}, {'2015': ['08', '09']}], 'TUR': [{'1998': ['09', '10', '11', '12']}, {'1999': ['09', '10', '11', '12']}, {'2000': ['09', '10', '11', '12']}, {'2001': ['01', '02', '03', '04', '09', '10', '11', '12']}, {'2002': ['01', '02', '03', '04', '09', '10', '12']}, {'2003': ['01', '02', '03', '04', '09', '10', '11', '12']}, {'2004': ['01', '02', '03', '04', '09', '10', '11', '12']}, {'2005': ['01', '02', '03', '04', '09', '10', '11', '12']}, {'2006': ['01', '02', '03', '04', '09', '10', '11', '12']}, {'2007': ['01', '02', '03', '04', '09', '10', '11', '12']}, {'2008': ['01', '02', '03', '04', '09', '10', '11', '12']}, {'2009': ['01', '02', '03', '04', '09', '10', '11', '12']}, {'2010': ['01', '02', '03', '09', '10', '12']}, {'2011': ['01', '02', '03', '04', '09', '10', '12']}, {'2012': ['01', '02', '03', '04', '09', '11', '12']}, {'2013': ['01', '02', '03', '12']}, {'2014': ['01', '02', '03', '12']}, {'2015': ['01', '02', '03']}], 'PEN': [{'1998': ['08', '09', '10', '11', '12']}, {'1999': ['04', '05', '06', '07', '08', '09', '10', '11', '12']}, {'2000': ['04', '05', '06', '07', '08', '09', '10', '11', '12']}, {'2001': ['01', '02', '03', '04', '05', '06', '07', '08', '09', '10', '11', '12']}, {'2002': ['01', '02', '03', '04', '05', '06', '07', '08', '09', '10', '11', '12']}, {'2003': ['01', '02', '03', '04', '05', '06', '07', '08', '09', '10', '11', '12']}, {'2004': ['01', '02', '03', '04', '05', '06', '07', '08', '09', '10', '11', '12']}, {'2005': ['01', '02', '03', '04', '05', '06', '07', '08', '09', '10', '11', '12']}, {'2006': ['01', '02', '03', '04', '05', '06', '07', '08', '09', '10', '11', '12']}, {'2007': ['01', '02', '03', '04', '05', '06', '07', '08', '09', '10', '11', '12']}, {'2008': ['02', '03', '04', '05', '06', '07', '08', '09', '10', '11', '12']}, {'2009': ['01', '02', '03', '04', '05', '06', '07', '08', '09', '10', '11', '12']}, {'2010': ['01', '02', '03', '04', '05', '06', '07', '08', '09', '10', '11', '12']}, {'2011': ['01', '02', '03', '04', '05', '06', '07', '08', '09', '10', '11', '12']}, {'2012': ['01', '02', '03', '04', '05', '06', '07', '08', '09', '10', '11', '12']}, {'2013': ['01', '02', '03', '04', '05', '06', '07', '08', '09', '10', '11', '12']}, {'2014': ['01', '02', '03', '04', '05', '06', '07', '08', '09', '10', '11', '12']}, {'2015': ['01', '02', '03', '04', '05', '06', '07', '08', '09', '10', '11']}], 'RIV': [{'1999': ['04']}, {'2003': ['04', '05']}, {'2004': ['04', '05', '06', '07', '08']}, {'2005': ['04', '05', '06', '07', '08']}, {'2006': ['04', '05', '06', '07', '08']}, {'2007': ['04', '05', '06', '07', '08', '09']}, {'2008': ['04', '05', '06', '07', '08', '09']}, {'2009': ['04', '05', '06', '07', '08', '09']}, {'2010': ['04', '05', '06', '07', '08', '09']}, {'2011': ['05', '06', '07', '08', '09']}, {'2012': ['04', '05', '06', '07', '08', '09']}, {'2013': ['05', '06', '07', '08', '09']}], 'GB2': [{'2003': ['10']}, {'2006': ['06', '07', '08', '09', '10', '12']}, {'2007': ['01', '02', '03', '04', '05', '06', '07', '08', '09', '10', '11', '12']}, {'2008': ['01', '02', '03', '04', '05', '06', '07', '08', '09', '10', '11', '12']}, {'2009': ['01', '02', '03', '04', '05', '06', '07', '08', '09', '10', '11', '12']}, {'2010': ['01', '02', '03', '04', '05', '06', '07', '08', '09', '10', '11', '12']}, {'2011': ['01', '02', '03', '04', '05', '06', '07', '08', '09', '10', '11', '12']}, {'2012': ['01', '02', '03', '04', '05', '06', '07', '08', '09', '10', '11', '12']}, {'2013': ['01', '02', '03', '04', '05', '06', '07', '08', '09', '10', '11', '12']}, {'2014': ['01', '02', '03', '04', '05', '06', '07', '08', '09', '10', '11', '12']}, {'2015': ['01', '02', '03', '04', '05', '06', '07', '08', '09', '10', '11']}], 'MON': [{'1998': ['08', '09']}, {'1999': ['05', '06', '07', '08', '09']}, {'2000': ['05', '06', '07', '08', '09']}, {'2001': ['05', '06', '07', '08', '09']}, {'2002': ['05', '06', '07', '08', '09']}, {'2003': ['05', '06', '07', '08', '09']}, {'2004': ['05', '06', '07', '08', '09']}, {'2005': ['05', '06', '07', '08', '09']}, {'2006': ['05', '06', '07', '08', '09']}, {'2007': ['05', '06', '07', '08', '09', '10']}, {'2008': ['05', '06', '07', '08', '09']}, {'2009': ['05', '06', '07', '08', '09']}, {'2010': ['05', '06', '07', '08', '09', '10', '11']}, {'2011': ['05', '06', '07', '08', '09', '10', '11']}, {'2012': ['05', '06', '07', '08', '09', '10']}, {'2013': ['05', '06', '07', '08', '09', '10', '11']}, {'2014': ['05', '06', '07', '08', '09', '10']}, {'2015': ['05', '06', '07', '08', '09', '10']}], 'GB1': [{'2003': ['08', '09', '10']}, {'2004': ['08']}, {'2006': ['04', '05', '06', '07', '08', '09', '10', '11', '12']}, {'2007': ['01', '02', '03', '04', '05', '06', '07', '08', '09', '10', '11', '12']}, {'2008': ['01', '02', '03', '04', '05', '06', '07', '08', '09', '10', '11', '12']}, {'2009': ['01', '02', '03', '04', '05', '06', '07', '08', '09', '10', '11', '12']}, {'2010': ['01', '02', '03', '04', '05', '06', '07', '08', '09', '10', '11', '12']}, {'2011': ['01', '02', '03', '04', '05', '06', '07', '08', '09', '10', '11', '12']}, {'2012': ['01', '02', '03', '04', '05', '06', '07', '08', '09', '10', '11', '12']}, {'2013': ['01', '02', '03', '04', '05', '06', '07', '08', '09', '10', '11', '12']}, {'2014': ['01', '02', '03', '04', '05', '06', '07', '08', '09', '10', '11', '12']}, {'2015': ['01', '02', '03', '04', '05', '06', '07', '08', '09', '10', '11']}], 'IND': [{'2002': ['12']}, {'2003': ['04', '05', '06', '07', '08', '09', '10']}, {'2004': ['04', '05', '06', '07', '08', '09', '10']}, {'2005': ['04', '05', '06', '07', '08', '09', '10']}, {'2006': ['04', '05', '06', '07', '08', '09', '10', '11']}, {'2007': ['04', '05', '06', '07', '08', '09', '10', '11']}, {'2008': ['04', '05', '06', '07', '08', '09', '10', '11']}, {'2009': ['04', '05', '06', '07', '08', '09', '10', '11']}, {'2010': ['04', '05', '06', '07', '08', '09', '10', '11']}, {'2011': ['04', '05', '06', '07', '08', '09', '10', '11']}, {'2012': ['04', '05', '06', '07', '08', '09', '10', '11']}, {'2013': ['04', '05', '06', '07', '08', '09', '10']}, {'2014': ['05', '06', '07', '08', '09', '10', '11']}, {'2015': ['04', '05', '06', '07', '08', '09', '10']}], 'LAU': [{'1998': ['08', '10', '11', '12']}, {'1999': ['06', '07', '08', '10', '11', '12']}, {'2000': ['07', '08', '10', '11', '12']}, {'2001': ['01', '02', '03', '10', '11', '12']}, {'2002': ['01', '02', '03', '07', '08', '10', '11', '12']}, {'2003': ['01', '02', '03', '07', '08', '10', '11', '12']}, {'2004': ['01', '02', '03']}, {'2005': ['01', '02', '03', '04', '09', '10', '11', '12']}, {'2006': ['01', '02', '03', '04', '08', '09', '10', '11', '12']}, {'2007': ['01', '02', '03', '04', '08', '09', '10', '11', '12']}, {'2008': ['01', '02', '03', '04', '08', '09', '10', '11', '12']}, {'2009': ['01', '02', '03', '04', '08', '09', '10', '11', '12']}, {'2010': ['01', '02', '03', '04', '07', '08', '09', '10', '11', '12']}, {'2011': ['01', '02', '03', '09', '10', '11', '12']}, {'2012': ['01', '02', '03', '09', '10', '11', '12']}, {'2013': ['01', '02', '03', '09', '10', '11', '12']}, {'2014': ['01', '02', '03', '09', '10', '11']}, {'2015': ['03', '07', '08', '09', '10', '11']}], 'ARL': [{'2000': ['05', '06', '07', '08', '09']}, {'2001': ['06', '07', '08', '09', '10']}, {'2002': ['06', '07', '08', '09', '10']}, {'2003': ['05', '06', '07', '08', '09']}, {'2004': ['05', '06', '07', '08', '09']}, {'2005': ['05', '06', '07', '08', '09']}, {'2006': ['05', '06', '07', '08', '09']}, {'2007': ['05', '06', '07', '08', '09']}, {'2008': ['05', '06', '07', '08', '09']}, {'2009': ['05', '06', '07', '08', '09']}, {'2010': ['04', '05', '06', '07', '08', '09']}, {'2011': ['05', '06', '07', '08', '09']}, {'2012': ['05', '06', '07', '08', '09']}, {'2013': ['05', '06', '07', '08', '09']}, {'2014': ['05', '06', '07', '08', '09']}, {'2015': ['05', '06', '07', '08', '09']}], 'NCF': [{'1998': ['08', '09', '10']}, {'1999': ['06', '07', '08', '09', '10']}, {'2000': ['06', '07', '08', '09', '10']}, {'2001': ['06', '07', '08', '09', '10']}, {'2002': ['06', '07', '08', '09']}, {'2003': ['06', '07', '08', '09', '10']}, {'2004': ['06', '07', '08', '09', '10']}, {'2005': ['06', '07', '08', '10']}, {'2006': ['06', '07', '08', '10']}, {'2007': ['06', '07', '08', '10']}, {'2008': ['06', '07', '08', '09', '10']}, {'2009': ['06', '07', '08', '09', '10']}, {'2010': ['06', '07', '08', '10']}, {'2011': ['06', '07', '08', '10']}, {'2012': ['06', '07', '08', '09', '10']}, {'2013': ['06', '07', '08', '09', '10']}, {'2014': ['06', '07', '08', '09', '10']}, {'2015': ['06', '07', '08', '09', '10']}], 'CHU': [{'1998': ['11']}, {'1999': ['04', '05', '06', '10', '11']}, {'2000': ['04', '05', '06', '07', '10', '11']}, {'2001': ['04', '05', '06', '07', '10', '11']}, {'2002': ['04', '05', '06', '07', '10', '11']}, {'2003': ['04', '05', '06', '07', '10', '11']}, {'2004': ['04', '05', '06', '07', '10', '11']}, {'2005': ['04', '05', '06', '07', '10', '11']}, {'2006': ['04', '05', '06', '07', '10', '11']}, {'2007': ['04', '05', '06', '07', '10', '11']}, {'2008': ['04', '05', '06', '07', '10', '11']}, {'2009': ['04', '05', '06', '07']}, {'2010': ['04', '05', '06', '07', '10', '11']}, {'2011': ['04', '05', '06', '07', '10', '11']}, {'2012': ['04', '05', '06', '07', '10', '11']}, {'2013': ['04', '05', '06', '09', '10', '11']}, {'2014': ['04', '05', '06', '09', '10', '11']}, {'2015': ['04', '05', '06', '09', '11']}]}\n"
     ]
    }
   ],
   "source": [
    "# For each track rip the \n",
    "\n",
    "tracksoups = trackinfodf['track_html']\n",
    "yrmonthdicts_by_track = []\n",
    "for soup in tracksoups:\n",
    "    try:\n",
    "        soup = soup.body.center.findAll('table')[1].tr.findAll('td')\n",
    "    except:\n",
    "        soup = soup.body.center.findAll('table')[0].tr.findAll('td')\n",
    "    years = []\n",
    "    yrmonths_for_track = []\n",
    "    for col in soup:\n",
    "        year = col.text.encode('ascii')[:4]\n",
    "        years.append(year)\n",
    "        months = [elem.get('href').encode('ascii')[19:21] for elem in col.findAll('a')]\n",
    "        yrmonths_for_track.append({year: months})\n",
    "\n",
    "    yrmonthdicts_by_track.append(yrmonths_for_track)\n",
    "biggie = dict(zip(trackcodes,yrmonthdicts_by_track))\n",
    "print biggie"
   ]
  },
  {
   "cell_type": "code",
   "execution_count": null,
   "metadata": {
    "collapsed": true
   },
   "outputs": [],
   "source": []
  },
  {
   "cell_type": "code",
   "execution_count": 126,
   "metadata": {
    "collapsed": false
   },
   "outputs": [
    {
     "name": "stdout",
     "output_type": "stream",
     "text": [
      "AQU\n"
     ]
    },
    {
     "ename": "KeyboardInterrupt",
     "evalue": "",
     "output_type": "error",
     "traceback": [
      "\u001b[0;31m---------------------------------------------------------------------------\u001b[0m",
      "\u001b[0;31mKeyboardInterrupt\u001b[0m                         Traceback (most recent call last)",
      "\u001b[0;32m<ipython-input-126-be2d453d99ea>\u001b[0m in \u001b[0;36m<module>\u001b[0;34m()\u001b[0m\n\u001b[0;32m----> 1\u001b[0;31m \u001b[0mget_ipython\u001b[0m\u001b[0;34m(\u001b[0m\u001b[0;34m)\u001b[0m\u001b[0;34m.\u001b[0m\u001b[0mrun_cell_magic\u001b[0m\u001b[0;34m(\u001b[0m\u001b[0;34mu'time'\u001b[0m\u001b[0;34m,\u001b[0m \u001b[0;34mu''\u001b[0m\u001b[0;34m,\u001b[0m \u001b[0;34mu\"tstorage = []\\ntrackday_lists = []\\nfor track in sorted(biggie.keys()):\\n    print track\\n    ystorage = []\\n    for yeardict in biggie[track]:\\n        mstorage = []\\n        for month in yeardict.values()[0]:\\n            monthhtml = BeautifulSoup(requests.get('http://racingchannel.com/archives/{}/{}/{}/default.html'\\\\\\n                                         .format(track,yeardict.keys()[0],month)).text, 'html.parser').body.center\\n            try:\\n                soup = monthhtml.findAll('table')[1]\\n            except:\\n                soup = monthhtml.findAll('table')[0]\\n            days = [daytag.get('href')[29:31].encode('ascii') for daytag in soup.findAll('a')]\\n            mo = daytag.get('href')[19:21].encode('ascii')\\n            yr = daytag.get('href')[14:18].encode('ascii')\\n            trk = daytag.get('href')[22:25].encode('ascii')\\n            for day in days:\\n                trackday_lists.append([trk, yr, mo, day]) \\n            time.sleep(2)\\n            #print 'ya'\\n        time.sleep(5)\\n    time.sleep(10)\\n    print len(trackday_lists)\\nprint len(trackday_lists)\"\u001b[0m\u001b[0;34m)\u001b[0m\u001b[0;34m\u001b[0m\u001b[0m\n\u001b[0m",
      "\u001b[0;32m//anaconda/lib/python2.7/site-packages/IPython/core/interactiveshell.pyc\u001b[0m in \u001b[0;36mrun_cell_magic\u001b[0;34m(self, magic_name, line, cell)\u001b[0m\n\u001b[1;32m   2262\u001b[0m             \u001b[0mmagic_arg_s\u001b[0m \u001b[0;34m=\u001b[0m \u001b[0mself\u001b[0m\u001b[0;34m.\u001b[0m\u001b[0mvar_expand\u001b[0m\u001b[0;34m(\u001b[0m\u001b[0mline\u001b[0m\u001b[0;34m,\u001b[0m \u001b[0mstack_depth\u001b[0m\u001b[0;34m)\u001b[0m\u001b[0;34m\u001b[0m\u001b[0m\n\u001b[1;32m   2263\u001b[0m             \u001b[0;32mwith\u001b[0m \u001b[0mself\u001b[0m\u001b[0;34m.\u001b[0m\u001b[0mbuiltin_trap\u001b[0m\u001b[0;34m:\u001b[0m\u001b[0;34m\u001b[0m\u001b[0m\n\u001b[0;32m-> 2264\u001b[0;31m                 \u001b[0mresult\u001b[0m \u001b[0;34m=\u001b[0m \u001b[0mfn\u001b[0m\u001b[0;34m(\u001b[0m\u001b[0mmagic_arg_s\u001b[0m\u001b[0;34m,\u001b[0m \u001b[0mcell\u001b[0m\u001b[0;34m)\u001b[0m\u001b[0;34m\u001b[0m\u001b[0m\n\u001b[0m\u001b[1;32m   2265\u001b[0m             \u001b[0;32mreturn\u001b[0m \u001b[0mresult\u001b[0m\u001b[0;34m\u001b[0m\u001b[0m\n\u001b[1;32m   2266\u001b[0m \u001b[0;34m\u001b[0m\u001b[0m\n",
      "\u001b[0;32m//anaconda/lib/python2.7/site-packages/IPython/core/magics/execution.pyc\u001b[0m in \u001b[0;36mtime\u001b[0;34m(self, line, cell, local_ns)\u001b[0m\n",
      "\u001b[0;32m//anaconda/lib/python2.7/site-packages/IPython/core/magic.pyc\u001b[0m in \u001b[0;36m<lambda>\u001b[0;34m(f, *a, **k)\u001b[0m\n\u001b[1;32m    191\u001b[0m     \u001b[0;31m# but it's overkill for just that one bit of state.\u001b[0m\u001b[0;34m\u001b[0m\u001b[0;34m\u001b[0m\u001b[0m\n\u001b[1;32m    192\u001b[0m     \u001b[0;32mdef\u001b[0m \u001b[0mmagic_deco\u001b[0m\u001b[0;34m(\u001b[0m\u001b[0marg\u001b[0m\u001b[0;34m)\u001b[0m\u001b[0;34m:\u001b[0m\u001b[0;34m\u001b[0m\u001b[0m\n\u001b[0;32m--> 193\u001b[0;31m         \u001b[0mcall\u001b[0m \u001b[0;34m=\u001b[0m \u001b[0;32mlambda\u001b[0m \u001b[0mf\u001b[0m\u001b[0;34m,\u001b[0m \u001b[0;34m*\u001b[0m\u001b[0ma\u001b[0m\u001b[0;34m,\u001b[0m \u001b[0;34m**\u001b[0m\u001b[0mk\u001b[0m\u001b[0;34m:\u001b[0m \u001b[0mf\u001b[0m\u001b[0;34m(\u001b[0m\u001b[0;34m*\u001b[0m\u001b[0ma\u001b[0m\u001b[0;34m,\u001b[0m \u001b[0;34m**\u001b[0m\u001b[0mk\u001b[0m\u001b[0;34m)\u001b[0m\u001b[0;34m\u001b[0m\u001b[0m\n\u001b[0m\u001b[1;32m    194\u001b[0m \u001b[0;34m\u001b[0m\u001b[0m\n\u001b[1;32m    195\u001b[0m         \u001b[0;32mif\u001b[0m \u001b[0mcallable\u001b[0m\u001b[0;34m(\u001b[0m\u001b[0marg\u001b[0m\u001b[0;34m)\u001b[0m\u001b[0;34m:\u001b[0m\u001b[0;34m\u001b[0m\u001b[0m\n",
      "\u001b[0;32m//anaconda/lib/python2.7/site-packages/IPython/core/magics/execution.pyc\u001b[0m in \u001b[0;36mtime\u001b[0;34m(self, line, cell, local_ns)\u001b[0m\n\u001b[1;32m   1164\u001b[0m         \u001b[0;32melse\u001b[0m\u001b[0;34m:\u001b[0m\u001b[0;34m\u001b[0m\u001b[0m\n\u001b[1;32m   1165\u001b[0m             \u001b[0mst\u001b[0m \u001b[0;34m=\u001b[0m \u001b[0mclock2\u001b[0m\u001b[0;34m(\u001b[0m\u001b[0;34m)\u001b[0m\u001b[0;34m\u001b[0m\u001b[0m\n\u001b[0;32m-> 1166\u001b[0;31m             \u001b[0;32mexec\u001b[0m\u001b[0;34m(\u001b[0m\u001b[0mcode\u001b[0m\u001b[0;34m,\u001b[0m \u001b[0mglob\u001b[0m\u001b[0;34m,\u001b[0m \u001b[0mlocal_ns\u001b[0m\u001b[0;34m)\u001b[0m\u001b[0;34m\u001b[0m\u001b[0m\n\u001b[0m\u001b[1;32m   1167\u001b[0m             \u001b[0mend\u001b[0m \u001b[0;34m=\u001b[0m \u001b[0mclock2\u001b[0m\u001b[0;34m(\u001b[0m\u001b[0;34m)\u001b[0m\u001b[0;34m\u001b[0m\u001b[0m\n\u001b[1;32m   1168\u001b[0m             \u001b[0mout\u001b[0m \u001b[0;34m=\u001b[0m \u001b[0mNone\u001b[0m\u001b[0;34m\u001b[0m\u001b[0m\n",
      "\u001b[0;32m<timed exec>\u001b[0m in \u001b[0;36m<module>\u001b[0;34m()\u001b[0m\n",
      "\u001b[0;31mKeyboardInterrupt\u001b[0m: "
     ]
    }
   ],
   "source": [
    "%%time\n",
    "tstorage = []\n",
    "trackday_lists = []\n",
    "for track in sorted(biggie.keys()):\n",
    "    print track\n",
    "    ystorage = []\n",
    "    for yeardict in biggie[track]:\n",
    "        mstorage = []\n",
    "        for month in yeardict.values()[0]:\n",
    "            monthhtml = BeautifulSoup(requests.get('http://racingchannel.com/archives/{}/{}/{}/default.html'\\\n",
    "                                         .format(track,yeardict.keys()[0],month)).text, 'html.parser').body.center\n",
    "            try:\n",
    "                soup = monthhtml.findAll('table')[1]\n",
    "            except:\n",
    "                soup = monthhtml.findAll('table')[0]\n",
    "            days = [daytag.get('href')[29:31].encode('ascii') for daytag in soup.findAll('a')]\n",
    "            mo = daytag.get('href')[19:21].encode('ascii')\n",
    "            yr = daytag.get('href')[14:18].encode('ascii')\n",
    "            trk = daytag.get('href')[22:25].encode('ascii')\n",
    "            for day in days:\n",
    "                trackday_lists.append([trk, yr, mo, day]) \n",
    "            time.sleep(2)\n",
    "            #print 'ya'\n",
    "        time.sleep(5)\n",
    "    time.sleep(10)\n",
    "    print len(trackday_lists)\n",
    "print len(trackday_lists)"
   ]
  },
  {
   "cell_type": "code",
   "execution_count": null,
   "metadata": {
    "collapsed": false
   },
   "outputs": [],
   "source": [
    "print len(trackday_lists)\n",
    "daydf = pd.DataFrame(trackday_lists, columns=['track','year','month','day'])\n",
    "daydf.to_csv('tempdata/daysscraped.csv')"
   ]
  },
  {
   "cell_type": "code",
   "execution_count": 4,
   "metadata": {
    "collapsed": false
   },
   "outputs": [],
   "source": [
    "lsttouse = ['AQU','1998','10','28']\n",
    "magiclink = 'https://www.racingchannel.com/archives/{}/{}/{}/{}{}{}{}.HTM'\\\n",
    "    .format(inlst[0],inlst[1],inlst[2],inlst[0],inlst[1][2:],inlst[2],inlst[3])\n",
    "\n",
    "racetest = requests.get(linktouse).text\n",
    "\n",
    "soup = BeautifulSoup(racetest, 'html.parser').html.body"
   ]
  },
  {
   "cell_type": "code",
   "execution_count": 17,
   "metadata": {
    "collapsed": false
   },
   "outputs": [
    {
     "name": "stdout",
     "output_type": "stream",
     "text": [
      "73\n",
      "<tr>\n",
      "<td colspan=\"2\"><b><u>Race:</u></b></td>\n",
      "<td width=\"20\"><b><u>1</u></b></td>\n",
      "<td align=\"RIGHT\" width=\"60\"><b><u>Win</u></b></td>\n",
      "<td align=\"RIGHT\" width=\"60\"><b><u>Place</u></b></td>\n",
      "<td align=\"RIGHT\" width=\"60\"><b><u>Show</u></b></td>\n",
      "<td width=\"60\"></td>\n",
      "</tr>\n",
      "<tr>\n",
      "<td width=\"30\"><b>1st</b></td>\n",
      "<td width=\"20\"><b>3</b></td>\n",
      "<td align=\"LEFT\" width=\"200\"><b>CURVY IMAGE</b></td>\n",
      "<td align=\"RIGHT\" width=\"60\">6.30</td>\n",
      "<td align=\"RIGHT\" width=\"60\">3.80</td>\n",
      "<td align=\"RIGHT\" width=\"60\">3.00</td>\n",
      "</tr>\n",
      "<tr>\n",
      "<td><b>2nd</b></td>\n",
      "<td><b>6</b></td>\n",
      "<td><b>DYNABILITY</b></td>\n",
      "<td align=\"RIGHT\"></td>\n",
      "<td align=\"RIGHT\">5.90</td>\n",
      "<td align=\"RIGHT\">4.30</td>\n",
      "</tr>\n",
      "<tr>\n",
      "<td><b>3rd</b></td>\n",
      "<td><b>2</b></td>\n",
      "<td><b>ALYDAR'S JET</b></td>\n",
      "<td align=\"RIGHT\"></td>\n",
      "<td align=\"RIGHT\"></td>\n",
      "<td align=\"RIGHT\">5.00</td>\n",
      "</tr>\n",
      "<tr>\n",
      "<td colspan=\"3\"><b>$2 Exacta</b></td>\n",
      "<td align=\"CENTER\" colspan=\"2\" colstart=\"4\"><b>3-6</b></td>\n",
      "<td align=\"RIGHT\">34.60</td>\n",
      "</tr>\n",
      "<tr>\n",
      "<td colspan=\"2\" colstart=\"3\"><b>Refunds: </b></td>\n",
      "<td colspan=\"2\"><b>None</b></td>\n",
      "</tr>\n"
     ]
    }
   ],
   "source": [
    "tables = soup.findAll('tr')\n",
    "print len(tables)\n",
    "for elem in tables[:6]:\n",
    "    print elem"
   ]
  },
  {
   "cell_type": "code",
   "execution_count": null,
   "metadata": {
    "collapsed": false
   },
   "outputs": [],
   "source": [
    "# 1) first populate \"inlsts\" with all the trackkeys, years, months, and days\n",
    "# 2) scrape each page for its html\n",
    "# 3) rip through the html for the info we want\n",
    "# 4) format the info into what we're feeling"
   ]
  },
  {
   "cell_type": "code",
   "execution_count": null,
   "metadata": {
    "collapsed": true
   },
   "outputs": [],
   "source": []
  },
  {
   "cell_type": "code",
   "execution_count": null,
   "metadata": {
    "collapsed": true
   },
   "outputs": [],
   "source": []
  },
  {
   "cell_type": "code",
   "execution_count": null,
   "metadata": {
    "collapsed": true
   },
   "outputs": [],
   "source": []
  },
  {
   "cell_type": "code",
   "execution_count": null,
   "metadata": {
    "collapsed": true
   },
   "outputs": [],
   "source": [
    "for stadium in stadiums:\n",
    "    for year in years:\n",
    "        "
   ]
  },
  {
   "cell_type": "code",
   "execution_count": null,
   "metadata": {
    "collapsed": true
   },
   "outputs": [],
   "source": []
  },
  {
   "cell_type": "code",
   "execution_count": null,
   "metadata": {
    "collapsed": true
   },
   "outputs": [],
   "source": []
  },
  {
   "cell_type": "code",
   "execution_count": null,
   "metadata": {
    "collapsed": true
   },
   "outputs": [],
   "source": []
  },
  {
   "cell_type": "code",
   "execution_count": null,
   "metadata": {
    "collapsed": true
   },
   "outputs": [],
   "source": []
  }
 ],
 "metadata": {
  "kernelspec": {
   "display_name": "Python 2",
   "language": "python",
   "name": "python2"
  },
  "language_info": {
   "codemirror_mode": {
    "name": "ipython",
    "version": 2
   },
   "file_extension": ".py",
   "mimetype": "text/x-python",
   "name": "python",
   "nbconvert_exporter": "python",
   "pygments_lexer": "ipython2",
   "version": "2.7.10"
  }
 },
 "nbformat": 4,
 "nbformat_minor": 0
}
