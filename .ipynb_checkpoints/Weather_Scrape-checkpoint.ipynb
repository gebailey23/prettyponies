{
 "cells": [
  {
   "cell_type": "code",
   "execution_count": 3,
   "metadata": {
    "collapsed": true
   },
   "outputs": [],
   "source": [
    "%matplotlib inline\n",
    "import numpy as np\n",
    "import scipy as sp\n",
    "import matplotlib as mpl\n",
    "import matplotlib.cm as cm\n",
    "import matplotlib.pyplot as plt\n",
    "import pandas as pd\n",
    "pd.set_option('display.width', 500)\n",
    "pd.set_option('display.max_columns', 100)\n",
    "pd.set_option('display.notebook_repr_html', True)\n",
    "import seaborn as sns\n",
    "sns.set_style(\"whitegrid\")\n",
    "sns.set_context(\"poster\")\n",
    "from bs4 import BeautifulSoup\n",
    "import requests\n",
    "import json\n",
    "import time"
   ]
  },
  {
   "cell_type": "code",
   "execution_count": 4,
   "metadata": {
    "collapsed": false
   },
   "outputs": [],
   "source": [
    "base_url = \"https://www.racingchannel.com\"\n",
    "text = requests.get(base_url+\"/results_archive.php\").text\n",
    "soup = BeautifulSoup(text, \"html.parser\")\n",
    "table = soup.find(\"div\", attrs={\"class\": \"AccordionPanelContent\"}).find_all(\"a\")"
   ]
  },
  {
   "cell_type": "code",
   "execution_count": 5,
   "metadata": {
    "collapsed": true
   },
   "outputs": [],
   "source": [
    "locations = [url.get_text() for url in table] # get location text for each anchored element in table\n",
    "# clean typos in original table\n",
    "locations[1] = unicode(\"Arlington Park\")\n",
    "locations[34] = unicode(\"Indiana Downs\")\n",
    "loc_urls = [url.get(\"href\") for url in table] # get url for each anchored element in table"
   ]
  },
  {
   "cell_type": "code",
   "execution_count": 6,
   "metadata": {
    "collapsed": false
   },
   "outputs": [
    {
     "name": "stdout",
     "output_type": "stream",
     "text": [
      "CPU times: user 3min 39s, sys: 11.8 s, total: 3min 51s\n",
      "Wall time: 4h 23min 23s\n"
     ]
    }
   ],
   "source": [
    "%%time\n",
    "date_dict = {}\n",
    "for loc, loc_url in zip(locations, loc_urls):\n",
    "    r1 = requests.get(base_url+loc_url).text\n",
    "    s1 = BeautifulSoup(r1, \"html.parser\")\n",
    "    cols = s1.find_all(\"td\", attrs={\"valign\": \"top\"})\n",
    "    links = []\n",
    "    date_format = []\n",
    "    dates = []\n",
    "    for col in cols:\n",
    "        months = col.find_all(\"a\")\n",
    "        for month in months:\n",
    "            links.append(month.get(\"href\"))\n",
    "    for link in links:\n",
    "        r2 = requests.get(base_url+link).text\n",
    "        s2 = BeautifulSoup(r2, \"html.parser\")\n",
    "        cal_urls = s2.find(\"table\", attrs={\"width\": \"567\"}).find_all(\"a\")\n",
    "        for cal_url in cal_urls:\n",
    "            dates.append(cal_url.get('href'))\n",
    "        time.sleep(2)\n",
    "    import re # http://regexr.com\n",
    "    for item in dates:\n",
    "        l = re.findall(\"(?:\\d*\\.)?\\d+\", item)\n",
    "        date_format.append(l[0] + l[1] + l[2][4:])\n",
    "    date_dict[loc] = date_format"
   ]
  },
  {
   "cell_type": "code",
   "execution_count": 129,
   "metadata": {
    "collapsed": false
   },
   "outputs": [],
   "source": [
    "#date_dict"
   ]
  },
  {
   "cell_type": "code",
   "execution_count": 128,
   "metadata": {
    "collapsed": false,
    "scrolled": true
   },
   "outputs": [],
   "source": [
    "#locations"
   ]
  },
  {
   "cell_type": "code",
   "execution_count": 6,
   "metadata": {
    "collapsed": true
   },
   "outputs": [],
   "source": [
    "zips = ['11420', '60005', 'NA', 'NA', 'NA', '94403', '11003', '43123', '33056', '00729', '55379', '25438',\n",
    "        '40208', '23124', '70668', '92014', '19804', '42420', '98001', '70570', '70119', '62234', '91768', \n",
    "        '14425', 'NA', '94710', 'NA', 'NA', '49415', '33009', 'NA', '60804', '90305', '46013', '46176', '40510', \n",
    "        '42134', '20725', '71111', '75050', '90720', '07073', '07757', '26047', 'NA', '71901', '17028', \n",
    "        '19020', '21215', '97217', '50009', '73111', '78154', '45230', '77064', '91007', '12866', 'NA', \n",
    "        'NA', '60804', '02128', '33626', '44128', '21093', '85023', '41042', 'NA'] "
   ]
  },
  {
   "cell_type": "code",
   "execution_count": 160,
   "metadata": {
    "collapsed": true
   },
   "outputs": [],
   "source": [
    "zips1 = ['11420', '60005','94403', '11003', '43123', '33056', '55379',\n",
    "        '40208', '23124', '25438', '70668', '92014', '19804', '42420', '98001', '70570', '70119', \n",
    "        '14425', '91768', '62234', '49415', '94710', '33009', '60804', '46013', '90305', '46176', '40510', \n",
    "        '42134', '20725', '71111', '75050', '90720', '07073', '07757', '26047', '71901', '85023', '17028', \n",
    "        '19020', '21215', '50009', '73111', '78154', '45230', '77064', '91007', '12866', \n",
    "         '60804', '02128', '33626', '44128', '21093', '41042'] "
   ]
  },
  {
   "cell_type": "code",
   "execution_count": 7,
   "metadata": {
    "collapsed": false
   },
   "outputs": [],
   "source": [
    "zips_dict = dict(zip(locations, zips))"
   ]
  },
  {
   "cell_type": "code",
   "execution_count": 126,
   "metadata": {
    "collapsed": false,
    "scrolled": true
   },
   "outputs": [],
   "source": [
    "#zips_dict"
   ]
  },
  {
   "cell_type": "code",
   "execution_count": 68,
   "metadata": {
    "collapsed": true
   },
   "outputs": [],
   "source": [
    "date = '20141225'\n",
    "zip_code = '11420'\n",
    "wunderground_url = 'http://api.wunderground.com/api/4a26cfc369eb7841/history_{}/q/{}.json'.format(date, zip_code)"
   ]
  },
  {
   "cell_type": "code",
   "execution_count": 69,
   "metadata": {
    "collapsed": false
   },
   "outputs": [],
   "source": [
    "examp = json.loads(requests.get(wunderground_url).text)"
   ]
  },
  {
   "cell_type": "code",
   "execution_count": 173,
   "metadata": {
    "collapsed": false,
    "scrolled": true
   },
   "outputs": [
    {
     "data": {
      "text/plain": [
       "{u'coolingdegreedays': u'0',\n",
       " u'coolingdegreedaysnormal': u'0',\n",
       " u'date': {u'hour': u'12',\n",
       "  u'mday': u'25',\n",
       "  u'min': u'00',\n",
       "  u'mon': u'12',\n",
       "  u'pretty': u'12:00 PM EST on December 25, 2014',\n",
       "  u'tzname': u'America/New_York',\n",
       "  u'year': u'2014'},\n",
       " u'fog': u'1',\n",
       " u'gdegreedays': u'0',\n",
       " u'hail': u'0',\n",
       " u'heatingdegreedays': u'15',\n",
       " u'heatingdegreedaysnormal': u'30',\n",
       " u'humidity': u'',\n",
       " u'maxdewpti': u'52',\n",
       " u'maxdewptm': u'11',\n",
       " u'maxhumidity': u'96',\n",
       " u'maxpressurei': u'30.14',\n",
       " u'maxpressurem': u'1021',\n",
       " u'maxtempi': u'57',\n",
       " u'maxtempm': u'14',\n",
       " u'maxvisi': u'10',\n",
       " u'maxvism': u'16',\n",
       " u'maxwspdi': u'30',\n",
       " u'maxwspdm': u'48',\n",
       " u'meandewpti': u'38',\n",
       " u'meandewptm': u'3',\n",
       " u'meanpressurei': u'29.77',\n",
       " u'meanpressurem': u'1008',\n",
       " u'meantempi': u'50',\n",
       " u'meantempm': u'10',\n",
       " u'meanvisi': u'8',\n",
       " u'meanvism': u'13',\n",
       " u'meanwdird': u'261',\n",
       " u'meanwdire': u'',\n",
       " u'meanwindspdi': u'17',\n",
       " u'meanwindspdm': u'27',\n",
       " u'mindewpti': u'27',\n",
       " u'mindewptm': u'-3',\n",
       " u'minhumidity': u'35',\n",
       " u'minpressurei': u'29.52',\n",
       " u'minpressurem': u'1000',\n",
       " u'mintempi': u'42',\n",
       " u'mintempm': u'6',\n",
       " u'minvisi': u'0',\n",
       " u'minvism': u'0',\n",
       " u'minwspdi': u'9',\n",
       " u'minwspdm': u'14',\n",
       " u'monthtodatecoolingdegreedays': u'0',\n",
       " u'monthtodatecoolingdegreedaysnormal': u'0',\n",
       " u'monthtodateheatingdegreedays': u'575',\n",
       " u'monthtodateheatingdegreedaysnormal': u'662',\n",
       " u'monthtodatesnowfalli': u'0.30',\n",
       " u'monthtodatesnowfallm': u'0.76',\n",
       " u'precipi': u'0.06',\n",
       " u'precipm': u'1.52',\n",
       " u'precipsource': u'',\n",
       " u'rain': u'1',\n",
       " u'since1jancoolingdegreedays': u'1050',\n",
       " u'since1jancoolingdegreedaysnormal': u'1005',\n",
       " u'since1julheatingdegreedays': u'1359',\n",
       " u'since1julheatingdegreedaysnormal': u'1486',\n",
       " u'since1julsnowfalli': u'0.40',\n",
       " u'since1julsnowfallm': u'1.02',\n",
       " u'since1sepcoolingdegreedays': u'',\n",
       " u'since1sepcoolingdegreedaysnormal': u'',\n",
       " u'since1sepheatingdegreedays': u'',\n",
       " u'since1sepheatingdegreedaysnormal': u'',\n",
       " u'snow': u'0',\n",
       " u'snowdepthi': u'0.00',\n",
       " u'snowdepthm': u'0.00',\n",
       " u'snowfalli': u'0.00',\n",
       " u'snowfallm': u'0.00',\n",
       " u'thunder': u'0',\n",
       " u'tornado': u'0'}"
      ]
     },
     "execution_count": 173,
     "metadata": {},
     "output_type": "execute_result"
    }
   ],
   "source": [
    "examp['history']['dailysummary'][0]"
   ]
  },
  {
   "cell_type": "code",
   "execution_count": 174,
   "metadata": {
    "collapsed": true
   },
   "outputs": [],
   "source": [
    "weather_data = ['fog','hail','humidity','maxhumidity','meandewptm','meanpressurem','meantempm','meanvism','meanwdird', 'meanwindspdm', 'precipm', 'rain', 'snow', 'snowdepthm','snowfallm', 'thunder','maxhumidity']"
   ]
  },
  {
   "cell_type": "code",
   "execution_count": 77,
   "metadata": {
    "collapsed": false
   },
   "outputs": [
    {
     "data": {
      "text/html": [
       "<div>\n",
       "<table border=\"1\" class=\"dataframe\">\n",
       "  <thead>\n",
       "    <tr style=\"text-align: right;\">\n",
       "      <th></th>\n",
       "      <th>track</th>\n",
       "      <th>year</th>\n",
       "      <th>month</th>\n",
       "      <th>day</th>\n",
       "    </tr>\n",
       "  </thead>\n",
       "  <tbody>\n",
       "    <tr>\n",
       "      <th>0</th>\n",
       "      <td>AQU</td>\n",
       "      <td>1998</td>\n",
       "      <td>10</td>\n",
       "      <td>28</td>\n",
       "    </tr>\n",
       "    <tr>\n",
       "      <th>1</th>\n",
       "      <td>AQU</td>\n",
       "      <td>1998</td>\n",
       "      <td>10</td>\n",
       "      <td>29</td>\n",
       "    </tr>\n",
       "    <tr>\n",
       "      <th>2</th>\n",
       "      <td>AQU</td>\n",
       "      <td>1998</td>\n",
       "      <td>10</td>\n",
       "      <td>30</td>\n",
       "    </tr>\n",
       "    <tr>\n",
       "      <th>3</th>\n",
       "      <td>AQU</td>\n",
       "      <td>1998</td>\n",
       "      <td>10</td>\n",
       "      <td>31</td>\n",
       "    </tr>\n",
       "    <tr>\n",
       "      <th>4</th>\n",
       "      <td>AQU</td>\n",
       "      <td>1998</td>\n",
       "      <td>11</td>\n",
       "      <td>1</td>\n",
       "    </tr>\n",
       "  </tbody>\n",
       "</table>\n",
       "</div>"
      ],
      "text/plain": [
       "  track  year  month  day\n",
       "0   AQU  1998     10   28\n",
       "1   AQU  1998     10   29\n",
       "2   AQU  1998     10   30\n",
       "3   AQU  1998     10   31\n",
       "4   AQU  1998     11    1"
      ]
     },
     "execution_count": 77,
     "metadata": {},
     "output_type": "execute_result"
    }
   ],
   "source": [
    "datesdf = resudf=pd.read_csv(\"tempdata/usadays.csv\")\n",
    "datesdf.drop('track.1',axis=1, inplace=True)\n",
    "datesdf.head()"
   ]
  },
  {
   "cell_type": "code",
   "execution_count": 103,
   "metadata": {
    "collapsed": false
   },
   "outputs": [
    {
     "data": {
      "text/html": [
       "<div>\n",
       "<table border=\"1\" class=\"dataframe\">\n",
       "  <thead>\n",
       "    <tr style=\"text-align: right;\">\n",
       "      <th></th>\n",
       "      <th>track</th>\n",
       "      <th>year</th>\n",
       "      <th>month</th>\n",
       "      <th>day</th>\n",
       "    </tr>\n",
       "  </thead>\n",
       "  <tbody>\n",
       "    <tr>\n",
       "      <th>0</th>\n",
       "      <td>AQU</td>\n",
       "      <td>1998</td>\n",
       "      <td>10</td>\n",
       "      <td>28</td>\n",
       "    </tr>\n",
       "    <tr>\n",
       "      <th>1</th>\n",
       "      <td>AQU</td>\n",
       "      <td>1998</td>\n",
       "      <td>10</td>\n",
       "      <td>29</td>\n",
       "    </tr>\n",
       "    <tr>\n",
       "      <th>2</th>\n",
       "      <td>AQU</td>\n",
       "      <td>1998</td>\n",
       "      <td>10</td>\n",
       "      <td>30</td>\n",
       "    </tr>\n",
       "    <tr>\n",
       "      <th>3</th>\n",
       "      <td>AQU</td>\n",
       "      <td>1998</td>\n",
       "      <td>10</td>\n",
       "      <td>31</td>\n",
       "    </tr>\n",
       "    <tr>\n",
       "      <th>4</th>\n",
       "      <td>AQU</td>\n",
       "      <td>1998</td>\n",
       "      <td>11</td>\n",
       "      <td>01</td>\n",
       "    </tr>\n",
       "  </tbody>\n",
       "</table>\n",
       "</div>"
      ],
      "text/plain": [
       "  track  year month day\n",
       "0   AQU  1998    10  28\n",
       "1   AQU  1998    10  29\n",
       "2   AQU  1998    10  30\n",
       "3   AQU  1998    10  31\n",
       "4   AQU  1998    11  01"
      ]
     },
     "execution_count": 103,
     "metadata": {},
     "output_type": "execute_result"
    }
   ],
   "source": [
    "datesdf[['year', 'month', 'day']] = datesdf[['year', 'month', 'day']].astype(str)\n",
    "for line in datesdf.index:\n",
    "    if len(datesdf.loc[line]['month']) == 1:\n",
    "        datesdf.loc[line]['month'] = '0' + datesdf.loc[line]['month']\n",
    "    if len(datesdf.loc[line]['day']) == 1:\n",
    "        datesdf.loc[line]['day'] = '0' + datesdf.loc[line]['day']\n",
    "datesdf.head()"
   ]
  },
  {
   "cell_type": "code",
   "execution_count": 108,
   "metadata": {
    "collapsed": false
   },
   "outputs": [],
   "source": [
    "dates_dict = {}\n",
    "for track in datesdf.track.unique():\n",
    "    datestring = []\n",
    "    for row in datesdf.index:\n",
    "        if datesdf.iloc[row]['track'] == track:\n",
    "            datestring.append(str(datesdf.iloc[row]['year']) + str(datesdf.iloc[row]['month']) + str(datesdf.iloc[row]['day']))\n",
    "    dates_dict[track] = datestring "
   ]
  },
  {
   "cell_type": "code",
   "execution_count": 161,
   "metadata": {
    "collapsed": false
   },
   "outputs": [],
   "source": [
    "locs = datesdf.track.unique()\n",
    "zips_dict1 = dict(zip(locs, zips1))"
   ]
  },
  {
   "cell_type": "code",
   "execution_count": 166,
   "metadata": {
    "collapsed": false
   },
   "outputs": [],
   "source": [
    "weather_json = {}\n",
    "#for key in dates_dict.keys():\n",
    "for fdate in dates_dict['EMD'][:5]:\n",
    "    wunderground_url = 'http://api.wunderground.com/api/4a26cfc369eb7841/history_{}/q/{}.json'.format(fdate, zips_dict1['EMD'])\n",
    "    weather_json[('EMD', fdate)] = json.loads(requests.get(wunderground_url).text)['history']['dailysummary'][0][]"
   ]
  },
  {
   "cell_type": "code",
   "execution_count": 167,
   "metadata": {
    "collapsed": false
   },
   "outputs": [
    {
     "data": {
      "text/plain": [
       "{('EMD',\n",
       "  '19980814'): [{u'coolingdegreedays': u'5',\n",
       "   u'coolingdegreedaysnormal': u'',\n",
       "   u'date': {u'hour': u'12',\n",
       "    u'mday': u'14',\n",
       "    u'min': u'00',\n",
       "    u'mon': u'08',\n",
       "    u'pretty': u'12:00 PM PDT on August 14, 1998',\n",
       "    u'tzname': u'America/Los_Angeles',\n",
       "    u'year': u'1998'},\n",
       "   u'fog': u'0',\n",
       "   u'gdegreedays': u'20',\n",
       "   u'hail': u'0',\n",
       "   u'heatingdegreedays': u'0',\n",
       "   u'heatingdegreedaysnormal': u'',\n",
       "   u'humidity': u'',\n",
       "   u'maxdewpti': u'62',\n",
       "   u'maxdewptm': u'17',\n",
       "   u'maxhumidity': u'90',\n",
       "   u'maxpressurei': u'30.08',\n",
       "   u'maxpressurem': u'1019',\n",
       "   u'maxtempi': u'80',\n",
       "   u'maxtempm': u'27',\n",
       "   u'maxvisi': u'10',\n",
       "   u'maxvism': u'16',\n",
       "   u'maxwspdi': u'12',\n",
       "   u'maxwspdm': u'19',\n",
       "   u'meandewpti': u'59',\n",
       "   u'meandewptm': u'15',\n",
       "   u'meanpressurei': u'30.04',\n",
       "   u'meanpressurem': u'1017',\n",
       "   u'meantempi': u'70',\n",
       "   u'meantempm': u'21',\n",
       "   u'meanvisi': u'10',\n",
       "   u'meanvism': u'16',\n",
       "   u'meanwdird': u'226',\n",
       "   u'meanwdire': u'',\n",
       "   u'meanwindspdi': u'3',\n",
       "   u'meanwindspdm': u'5',\n",
       "   u'mindewpti': u'57',\n",
       "   u'mindewptm': u'14',\n",
       "   u'minhumidity': u'54',\n",
       "   u'minpressurei': u'29.99',\n",
       "   u'minpressurem': u'1015',\n",
       "   u'mintempi': u'61',\n",
       "   u'mintempm': u'16',\n",
       "   u'minvisi': u'10',\n",
       "   u'minvism': u'16',\n",
       "   u'minwspdi': u'0',\n",
       "   u'minwspdm': u'0',\n",
       "   u'monthtodatecoolingdegreedays': u'',\n",
       "   u'monthtodatecoolingdegreedaysnormal': u'',\n",
       "   u'monthtodateheatingdegreedays': u'',\n",
       "   u'monthtodateheatingdegreedaysnormal': u'',\n",
       "   u'monthtodatesnowfalli': u'',\n",
       "   u'monthtodatesnowfallm': u'',\n",
       "   u'precipi': u'0.00',\n",
       "   u'precipm': u'0.00',\n",
       "   u'precipsource': u'',\n",
       "   u'rain': u'0',\n",
       "   u'since1jancoolingdegreedays': u'',\n",
       "   u'since1jancoolingdegreedaysnormal': u'',\n",
       "   u'since1julheatingdegreedays': u'',\n",
       "   u'since1julheatingdegreedaysnormal': u'',\n",
       "   u'since1julsnowfalli': u'',\n",
       "   u'since1julsnowfallm': u'',\n",
       "   u'since1sepcoolingdegreedays': u'',\n",
       "   u'since1sepcoolingdegreedaysnormal': u'',\n",
       "   u'since1sepheatingdegreedays': u'',\n",
       "   u'since1sepheatingdegreedaysnormal': u'',\n",
       "   u'snow': u'0',\n",
       "   u'snowdepthi': u'',\n",
       "   u'snowdepthm': u'',\n",
       "   u'snowfalli': u'0.00',\n",
       "   u'snowfallm': u'0.00',\n",
       "   u'thunder': u'0',\n",
       "   u'tornado': u'0'}],\n",
       " ('EMD',\n",
       "  '19980815'): [{u'coolingdegreedays': u'0',\n",
       "   u'coolingdegreedaysnormal': u'',\n",
       "   u'date': {u'hour': u'12',\n",
       "    u'mday': u'15',\n",
       "    u'min': u'00',\n",
       "    u'mon': u'08',\n",
       "    u'pretty': u'12:00 PM PDT on August 15, 1998',\n",
       "    u'tzname': u'America/Los_Angeles',\n",
       "    u'year': u'1998'},\n",
       "   u'fog': u'0',\n",
       "   u'gdegreedays': u'13',\n",
       "   u'hail': u'0',\n",
       "   u'heatingdegreedays': u'2',\n",
       "   u'heatingdegreedaysnormal': u'',\n",
       "   u'humidity': u'',\n",
       "   u'maxdewpti': u'59',\n",
       "   u'maxdewptm': u'15',\n",
       "   u'maxhumidity': u'100',\n",
       "   u'maxpressurei': u'30.04',\n",
       "   u'maxpressurem': u'1017',\n",
       "   u'maxtempi': u'70',\n",
       "   u'maxtempm': u'21',\n",
       "   u'maxvisi': u'10',\n",
       "   u'maxvism': u'16',\n",
       "   u'maxwspdi': u'12',\n",
       "   u'maxwspdm': u'19',\n",
       "   u'meandewpti': u'56',\n",
       "   u'meandewptm': u'13',\n",
       "   u'meanpressurei': u'30.01',\n",
       "   u'meanpressurem': u'1016',\n",
       "   u'meantempi': u'63',\n",
       "   u'meantempm': u'17',\n",
       "   u'meanvisi': u'7',\n",
       "   u'meanvism': u'11',\n",
       "   u'meanwdird': u'202',\n",
       "   u'meanwdire': u'',\n",
       "   u'meanwindspdi': u'5',\n",
       "   u'meanwindspdm': u'8',\n",
       "   u'mindewpti': u'53',\n",
       "   u'mindewptm': u'12',\n",
       "   u'minhumidity': u'58',\n",
       "   u'minpressurei': u'29.97',\n",
       "   u'minpressurem': u'1015',\n",
       "   u'mintempi': u'57',\n",
       "   u'mintempm': u'14',\n",
       "   u'minvisi': u'1',\n",
       "   u'minvism': u'2',\n",
       "   u'minwspdi': u'0',\n",
       "   u'minwspdm': u'0',\n",
       "   u'monthtodatecoolingdegreedays': u'',\n",
       "   u'monthtodatecoolingdegreedaysnormal': u'',\n",
       "   u'monthtodateheatingdegreedays': u'',\n",
       "   u'monthtodateheatingdegreedaysnormal': u'',\n",
       "   u'monthtodatesnowfalli': u'',\n",
       "   u'monthtodatesnowfallm': u'',\n",
       "   u'precipi': u'0.06',\n",
       "   u'precipm': u'1.52',\n",
       "   u'precipsource': u'',\n",
       "   u'rain': u'0',\n",
       "   u'since1jancoolingdegreedays': u'',\n",
       "   u'since1jancoolingdegreedaysnormal': u'',\n",
       "   u'since1julheatingdegreedays': u'',\n",
       "   u'since1julheatingdegreedaysnormal': u'',\n",
       "   u'since1julsnowfalli': u'',\n",
       "   u'since1julsnowfallm': u'',\n",
       "   u'since1sepcoolingdegreedays': u'',\n",
       "   u'since1sepcoolingdegreedaysnormal': u'',\n",
       "   u'since1sepheatingdegreedays': u'',\n",
       "   u'since1sepheatingdegreedaysnormal': u'',\n",
       "   u'snow': u'0',\n",
       "   u'snowdepthi': u'',\n",
       "   u'snowdepthm': u'',\n",
       "   u'snowfalli': u'0.00',\n",
       "   u'snowfallm': u'0.00',\n",
       "   u'thunder': u'0',\n",
       "   u'tornado': u'0'}],\n",
       " ('EMD',\n",
       "  '19980816'): [{u'coolingdegreedays': u'0',\n",
       "   u'coolingdegreedaysnormal': u'',\n",
       "   u'date': {u'hour': u'12',\n",
       "    u'mday': u'16',\n",
       "    u'min': u'00',\n",
       "    u'mon': u'08',\n",
       "    u'pretty': u'12:00 PM PDT on August 16, 1998',\n",
       "    u'tzname': u'America/Los_Angeles',\n",
       "    u'year': u'1998'},\n",
       "   u'fog': u'0',\n",
       "   u'gdegreedays': u'10',\n",
       "   u'hail': u'0',\n",
       "   u'heatingdegreedays': u'5',\n",
       "   u'heatingdegreedaysnormal': u'',\n",
       "   u'humidity': u'',\n",
       "   u'maxdewpti': u'59',\n",
       "   u'maxdewptm': u'15',\n",
       "   u'maxhumidity': u'93',\n",
       "   u'maxpressurei': u'30.07',\n",
       "   u'maxpressurem': u'1018',\n",
       "   u'maxtempi': u'66',\n",
       "   u'maxtempm': u'19',\n",
       "   u'maxvisi': u'10',\n",
       "   u'maxvism': u'16',\n",
       "   u'maxwspdi': u'17',\n",
       "   u'maxwspdm': u'27',\n",
       "   u'meandewpti': u'54',\n",
       "   u'meandewptm': u'12',\n",
       "   u'meanpressurei': u'30.04',\n",
       "   u'meanpressurem': u'1017',\n",
       "   u'meantempi': u'60',\n",
       "   u'meantempm': u'16',\n",
       "   u'meanvisi': u'9',\n",
       "   u'meanvism': u'15',\n",
       "   u'meanwdird': u'129',\n",
       "   u'meanwdire': u'',\n",
       "   u'meanwindspdi': u'7',\n",
       "   u'meanwindspdm': u'11',\n",
       "   u'mindewpti': u'50',\n",
       "   u'mindewptm': u'10',\n",
       "   u'minhumidity': u'62',\n",
       "   u'minpressurei': u'29.99',\n",
       "   u'minpressurem': u'1015',\n",
       "   u'mintempi': u'57',\n",
       "   u'mintempm': u'14',\n",
       "   u'minvisi': u'3',\n",
       "   u'minvism': u'5',\n",
       "   u'minwspdi': u'0',\n",
       "   u'minwspdm': u'0',\n",
       "   u'monthtodatecoolingdegreedays': u'',\n",
       "   u'monthtodatecoolingdegreedaysnormal': u'',\n",
       "   u'monthtodateheatingdegreedays': u'',\n",
       "   u'monthtodateheatingdegreedaysnormal': u'',\n",
       "   u'monthtodatesnowfalli': u'',\n",
       "   u'monthtodatesnowfallm': u'',\n",
       "   u'precipi': u'0.05',\n",
       "   u'precipm': u'1.27',\n",
       "   u'precipsource': u'',\n",
       "   u'rain': u'1',\n",
       "   u'since1jancoolingdegreedays': u'',\n",
       "   u'since1jancoolingdegreedaysnormal': u'',\n",
       "   u'since1julheatingdegreedays': u'',\n",
       "   u'since1julheatingdegreedaysnormal': u'',\n",
       "   u'since1julsnowfalli': u'',\n",
       "   u'since1julsnowfallm': u'',\n",
       "   u'since1sepcoolingdegreedays': u'',\n",
       "   u'since1sepcoolingdegreedaysnormal': u'',\n",
       "   u'since1sepheatingdegreedays': u'',\n",
       "   u'since1sepheatingdegreedaysnormal': u'',\n",
       "   u'snow': u'0',\n",
       "   u'snowdepthi': u'',\n",
       "   u'snowdepthm': u'',\n",
       "   u'snowfalli': u'0.00',\n",
       "   u'snowfallm': u'0.00',\n",
       "   u'thunder': u'1',\n",
       "   u'tornado': u'0'}],\n",
       " ('EMD',\n",
       "  '19980819'): [{u'coolingdegreedays': u'0',\n",
       "   u'coolingdegreedaysnormal': u'',\n",
       "   u'date': {u'hour': u'12',\n",
       "    u'mday': u'19',\n",
       "    u'min': u'00',\n",
       "    u'mon': u'08',\n",
       "    u'pretty': u'12:00 PM PDT on August 19, 1998',\n",
       "    u'tzname': u'America/Los_Angeles',\n",
       "    u'year': u'1998'},\n",
       "   u'fog': u'0',\n",
       "   u'gdegreedays': u'13',\n",
       "   u'hail': u'0',\n",
       "   u'heatingdegreedays': u'2',\n",
       "   u'heatingdegreedaysnormal': u'',\n",
       "   u'humidity': u'',\n",
       "   u'maxdewpti': u'55',\n",
       "   u'maxdewptm': u'13',\n",
       "   u'maxhumidity': u'87',\n",
       "   u'maxpressurei': u'30.12',\n",
       "   u'maxpressurem': u'1020',\n",
       "   u'maxtempi': u'75',\n",
       "   u'maxtempm': u'24',\n",
       "   u'maxvisi': u'10',\n",
       "   u'maxvism': u'16',\n",
       "   u'maxwspdi': u'9',\n",
       "   u'maxwspdm': u'14',\n",
       "   u'meandewpti': u'52',\n",
       "   u'meandewptm': u'11',\n",
       "   u'meanpressurei': u'30.06',\n",
       "   u'meanpressurem': u'1018',\n",
       "   u'meantempi': u'63',\n",
       "   u'meantempm': u'17',\n",
       "   u'meanvisi': u'10',\n",
       "   u'meanvism': u'16',\n",
       "   u'meanwdird': u'21',\n",
       "   u'meanwdire': u'',\n",
       "   u'meanwindspdi': u'6',\n",
       "   u'meanwindspdm': u'10',\n",
       "   u'mindewpti': u'49',\n",
       "   u'mindewptm': u'9',\n",
       "   u'minhumidity': u'45',\n",
       "   u'minpressurei': u'29.99',\n",
       "   u'minpressurem': u'1015',\n",
       "   u'mintempi': u'53',\n",
       "   u'mintempm': u'12',\n",
       "   u'minvisi': u'10',\n",
       "   u'minvism': u'16',\n",
       "   u'minwspdi': u'0',\n",
       "   u'minwspdm': u'0',\n",
       "   u'monthtodatecoolingdegreedays': u'',\n",
       "   u'monthtodatecoolingdegreedaysnormal': u'',\n",
       "   u'monthtodateheatingdegreedays': u'',\n",
       "   u'monthtodateheatingdegreedaysnormal': u'',\n",
       "   u'monthtodatesnowfalli': u'',\n",
       "   u'monthtodatesnowfallm': u'',\n",
       "   u'precipi': u'0.00',\n",
       "   u'precipm': u'0.00',\n",
       "   u'precipsource': u'',\n",
       "   u'rain': u'0',\n",
       "   u'since1jancoolingdegreedays': u'',\n",
       "   u'since1jancoolingdegreedaysnormal': u'',\n",
       "   u'since1julheatingdegreedays': u'',\n",
       "   u'since1julheatingdegreedaysnormal': u'',\n",
       "   u'since1julsnowfalli': u'',\n",
       "   u'since1julsnowfallm': u'',\n",
       "   u'since1sepcoolingdegreedays': u'',\n",
       "   u'since1sepcoolingdegreedaysnormal': u'',\n",
       "   u'since1sepheatingdegreedays': u'',\n",
       "   u'since1sepheatingdegreedaysnormal': u'',\n",
       "   u'snow': u'0',\n",
       "   u'snowdepthi': u'',\n",
       "   u'snowdepthm': u'',\n",
       "   u'snowfalli': u'0.00',\n",
       "   u'snowfallm': u'0.00',\n",
       "   u'thunder': u'0',\n",
       "   u'tornado': u'0'}],\n",
       " ('EMD',\n",
       "  '19980820'): [{u'coolingdegreedays': u'3',\n",
       "   u'coolingdegreedaysnormal': u'',\n",
       "   u'date': {u'hour': u'12',\n",
       "    u'mday': u'20',\n",
       "    u'min': u'00',\n",
       "    u'mon': u'08',\n",
       "    u'pretty': u'12:00 PM PDT on August 20, 1998',\n",
       "    u'tzname': u'America/Los_Angeles',\n",
       "    u'year': u'1998'},\n",
       "   u'fog': u'0',\n",
       "   u'gdegreedays': u'18',\n",
       "   u'hail': u'0',\n",
       "   u'heatingdegreedays': u'0',\n",
       "   u'heatingdegreedaysnormal': u'',\n",
       "   u'humidity': u'',\n",
       "   u'maxdewpti': u'56',\n",
       "   u'maxdewptm': u'13',\n",
       "   u'maxhumidity': u'96',\n",
       "   u'maxpressurei': u'30.06',\n",
       "   u'maxpressurem': u'1018',\n",
       "   u'maxtempi': u'81',\n",
       "   u'maxtempm': u'27',\n",
       "   u'maxvisi': u'10',\n",
       "   u'maxvism': u'16',\n",
       "   u'maxwspdi': u'8',\n",
       "   u'maxwspdm': u'13',\n",
       "   u'meandewpti': u'55',\n",
       "   u'meandewptm': u'13',\n",
       "   u'meanpressurei': u'30.01',\n",
       "   u'meanpressurem': u'1016',\n",
       "   u'meantempi': u'68',\n",
       "   u'meantempm': u'20',\n",
       "   u'meanvisi': u'10',\n",
       "   u'meanvism': u'16',\n",
       "   u'meanwdird': u'290',\n",
       "   u'meanwdire': u'',\n",
       "   u'meanwindspdi': u'4',\n",
       "   u'meanwindspdm': u'6',\n",
       "   u'mindewpti': u'53',\n",
       "   u'mindewptm': u'12',\n",
       "   u'minhumidity': u'39',\n",
       "   u'minpressurei': u'29.97',\n",
       "   u'minpressurem': u'1015',\n",
       "   u'mintempi': u'55',\n",
       "   u'mintempm': u'13',\n",
       "   u'minvisi': u'9',\n",
       "   u'minvism': u'14',\n",
       "   u'minwspdi': u'0',\n",
       "   u'minwspdm': u'0',\n",
       "   u'monthtodatecoolingdegreedays': u'',\n",
       "   u'monthtodatecoolingdegreedaysnormal': u'',\n",
       "   u'monthtodateheatingdegreedays': u'',\n",
       "   u'monthtodateheatingdegreedaysnormal': u'',\n",
       "   u'monthtodatesnowfalli': u'',\n",
       "   u'monthtodatesnowfallm': u'',\n",
       "   u'precipi': u'0.00',\n",
       "   u'precipm': u'0.00',\n",
       "   u'precipsource': u'',\n",
       "   u'rain': u'0',\n",
       "   u'since1jancoolingdegreedays': u'',\n",
       "   u'since1jancoolingdegreedaysnormal': u'',\n",
       "   u'since1julheatingdegreedays': u'',\n",
       "   u'since1julheatingdegreedaysnormal': u'',\n",
       "   u'since1julsnowfalli': u'',\n",
       "   u'since1julsnowfallm': u'',\n",
       "   u'since1sepcoolingdegreedays': u'',\n",
       "   u'since1sepcoolingdegreedaysnormal': u'',\n",
       "   u'since1sepheatingdegreedays': u'',\n",
       "   u'since1sepheatingdegreedaysnormal': u'',\n",
       "   u'snow': u'0',\n",
       "   u'snowdepthi': u'',\n",
       "   u'snowdepthm': u'',\n",
       "   u'snowfalli': u'0.00',\n",
       "   u'snowfallm': u'0.00',\n",
       "   u'thunder': u'0',\n",
       "   u'tornado': u'0'}]}"
      ]
     },
     "execution_count": 167,
     "metadata": {},
     "output_type": "execute_result"
    }
   ],
   "source": [
    "weather_json"
   ]
  },
  {
   "cell_type": "code",
   "execution_count": 34,
   "metadata": {
    "collapsed": false
   },
   "outputs": [],
   "source": [
    "token = 'CGGFJuGumVuKGnDfDyYdkDmmeTcMzIOr'\n",
    "dat = {'url':'http://www.ncdc.noaa.gov/cdo-web/api/v2/data?datasetid=GHCND&locationid=ZIP:28801&startdate=2010-05-01&enddate=2010-05-01', 'data':{'datasetid=GHCND&locationid=ZIP:28801&startdate=2010-05-01&enddate=2010-05-01'}, 'headers':{'token':'CGGFJuGumVuKGnDfDyYdkDmmeTcMzIOr'}}\n",
    "x = json.loads(requests.get('http://www.ncdc.noaa.gov/cdo-web/api/v2/data?datasetid=GHCND&locationid=ZIP:28801&startdate=2010-05-01&enddate=2010-05-01', data=dat).text)"
   ]
  },
  {
   "cell_type": "code",
   "execution_count": 35,
   "metadata": {
    "collapsed": false
   },
   "outputs": [
    {
     "data": {
      "text/plain": [
       "{u'message': u'Token parameter is required.', u'status': u'400'}"
      ]
     },
     "execution_count": 35,
     "metadata": {},
     "output_type": "execute_result"
    }
   ],
   "source": [
    "x"
   ]
  },
  {
   "cell_type": "code",
   "execution_count": 56,
   "metadata": {
    "collapsed": false
   },
   "outputs": [
    {
     "data": {
      "text/plain": [
       "{u'metadata': {u'resultset': {u'count': 2, u'limit': 25, u'offset': 1}},\n",
       " u'results': [{u'attributes': u',,N,',\n",
       "   u'datatype': u'PRCP',\n",
       "   u'date': u'2010-05-01T00:00:00',\n",
       "   u'station': u'GHCND:US1LABS0001',\n",
       "   u'value': 10},\n",
       "  {u'attributes': u',,N,',\n",
       "   u'datatype': u'PRCP',\n",
       "   u'date': u'2010-05-01T00:00:00',\n",
       "   u'station': u'GHCND:US1LABS0003',\n",
       "   u'value': 13}]}"
      ]
     },
     "execution_count": 56,
     "metadata": {},
     "output_type": "execute_result"
    }
   ],
   "source": [
    "url = \"http://www.ncdc.noaa.gov/cdo-web/api/v2/data\"\n",
    "\n",
    "querystring = {\"datasetid\":\"GHCND\",\"locationid\":\"ZIP:71111\",\"startdate\":\"2010-05-01\",\"enddate\":\"2010-05-01\"}\n",
    "\n",
    "headers = {\"token\": \"CGGFJuGumVuKGnDfDyYdkDmmeTcMzIOr\",\"cache-control\": \"no-cache\",\"postman-token\": \"2c03d9cf-3d0d-0582-faa8-a5b369dfa568\"}\n",
    "\n",
    "response = requests.request(\"GET\", url, headers=headers, params=querystring)\n",
    "\n",
    "json.loads(response.text)"
   ]
  },
  {
   "cell_type": "code",
   "execution_count": null,
   "metadata": {
    "collapsed": true
   },
   "outputs": [],
   "source": []
  }
 ],
 "metadata": {
  "kernelspec": {
   "display_name": "Python 2",
   "language": "python",
   "name": "python2"
  },
  "language_info": {
   "codemirror_mode": {
    "name": "ipython",
    "version": 2
   },
   "file_extension": ".py",
   "mimetype": "text/x-python",
   "name": "python",
   "nbconvert_exporter": "python",
   "pygments_lexer": "ipython2",
   "version": "2.7.10"
  }
 },
 "nbformat": 4,
 "nbformat_minor": 0
}
