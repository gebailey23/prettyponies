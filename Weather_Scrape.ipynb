{
 "cells": [
  {
   "cell_type": "code",
   "execution_count": 3,
   "metadata": {
    "collapsed": true
   },
   "outputs": [],
   "source": [
    "%matplotlib inline\n",
    "import numpy as np\n",
    "import scipy as sp\n",
    "import matplotlib as mpl\n",
    "import matplotlib.cm as cm\n",
    "import matplotlib.pyplot as plt\n",
    "import pandas as pd\n",
    "pd.set_option('display.width', 500)\n",
    "pd.set_option('display.max_columns', 100)\n",
    "pd.set_option('display.notebook_repr_html', True)\n",
    "import seaborn as sns\n",
    "sns.set_style(\"whitegrid\")\n",
    "sns.set_context(\"poster\")\n",
    "from bs4 import BeautifulSoup\n",
    "import requests\n",
    "import json\n",
    "import time"
   ]
  },
  {
   "cell_type": "code",
   "execution_count": 4,
   "metadata": {
    "collapsed": false
   },
   "outputs": [],
   "source": [
    "base_url = \"https://www.racingchannel.com\"\n",
    "text = requests.get(base_url+\"/results_archive.php\").text\n",
    "soup = BeautifulSoup(text, \"html.parser\")\n",
    "table = soup.find(\"div\", attrs={\"class\": \"AccordionPanelContent\"}).find_all(\"a\")"
   ]
  },
  {
   "cell_type": "code",
   "execution_count": 5,
   "metadata": {
    "collapsed": true
   },
   "outputs": [],
   "source": [
    "locations = [url.get_text() for url in table] # get location text for each anchored element in table\n",
    "# clean typos in original table\n",
    "locations[1] = unicode(\"Arlington Park\")\n",
    "locations[34] = unicode(\"Indiana Downs\")\n",
    "loc_urls = [url.get(\"href\") for url in table] # get url for each anchored element in table"
   ]
  },
  {
   "cell_type": "code",
   "execution_count": 6,
   "metadata": {
    "collapsed": false
   },
   "outputs": [
    {
     "name": "stdout",
     "output_type": "stream",
     "text": [
      "CPU times: user 3min 39s, sys: 11.8 s, total: 3min 51s\n",
      "Wall time: 4h 23min 23s\n"
     ]
    }
   ],
   "source": [
    "%%time\n",
    "date_dict = {}\n",
    "for loc, loc_url in zip(locations, loc_urls):\n",
    "    r1 = requests.get(base_url+loc_url).text\n",
    "    s1 = BeautifulSoup(r1, \"html.parser\")\n",
    "    cols = s1.find_all(\"td\", attrs={\"valign\": \"top\"})\n",
    "    links = []\n",
    "    date_format = []\n",
    "    dates = []\n",
    "    for col in cols:\n",
    "        months = col.find_all(\"a\")\n",
    "        for month in months:\n",
    "            links.append(month.get(\"href\"))\n",
    "    for link in links:\n",
    "        r2 = requests.get(base_url+link).text\n",
    "        s2 = BeautifulSoup(r2, \"html.parser\")\n",
    "        cal_urls = s2.find(\"table\", attrs={\"width\": \"567\"}).find_all(\"a\")\n",
    "        for cal_url in cal_urls:\n",
    "            dates.append(cal_url.get('href'))\n",
    "        time.sleep(2)\n",
    "    import re # http://regexr.com\n",
    "    for item in dates:\n",
    "        l = re.findall(\"(?:\\d*\\.)?\\d+\", item)\n",
    "        date_format.append(l[0] + l[1] + l[2][4:])\n",
    "    date_dict[loc] = date_format"
   ]
  },
  {
   "cell_type": "code",
   "execution_count": 129,
   "metadata": {
    "collapsed": false
   },
   "outputs": [],
   "source": [
    "#date_dict"
   ]
  },
  {
   "cell_type": "code",
   "execution_count": 128,
   "metadata": {
    "collapsed": false,
    "scrolled": true
   },
   "outputs": [],
   "source": [
    "#locations"
   ]
  },
  {
   "cell_type": "code",
   "execution_count": 6,
   "metadata": {
    "collapsed": true
   },
   "outputs": [],
   "source": [
    "zips = ['11420', '60005', 'NA', 'NA', 'NA', '94403', '11003', '43123', '33056', '00729', '55379', '25438',\n",
    "        '40208', '23124', '70668', '92014', '19804', '42420', '98001', '70570', '70119', '62234', '91768', \n",
    "        '14425', 'NA', '94710', 'NA', 'NA', '49415', '33009', 'NA', '60804', '90305', '46013', '46176', '40510', \n",
    "        '42134', '20725', '71111', '75050', '90720', '07073', '07757', '26047', 'NA', '71901', '17028', \n",
    "        '19020', '21215', '97217', '50009', '73111', '78154', '45230', '77064', '91007', '12866', 'NA', \n",
    "        'NA', '60804', '02128', '33626', '44128', '21093', '85023', '41042', 'NA'] "
   ]
  },
  {
   "cell_type": "code",
   "execution_count": 7,
   "metadata": {
    "collapsed": false
   },
   "outputs": [],
   "source": [
    "zips_dict = dict(zip(locations, zips))"
   ]
  },
  {
   "cell_type": "code",
   "execution_count": 126,
   "metadata": {
    "collapsed": false,
    "scrolled": true
   },
   "outputs": [],
   "source": [
    "#zips_dict"
   ]
  },
  {
   "cell_type": "code",
   "execution_count": 68,
   "metadata": {
    "collapsed": true
   },
   "outputs": [],
   "source": [
    "date = '20141225'\n",
    "zip_code = '11420'\n",
    "wunderground_url = 'http://api.wunderground.com/api/4a26cfc369eb7841/history_{}/q/{}.json'.format(date, zip_code)"
   ]
  },
  {
   "cell_type": "code",
   "execution_count": 69,
   "metadata": {
    "collapsed": false
   },
   "outputs": [],
   "source": [
    "examp = json.loads(requests.get(wunderground_url).text)"
   ]
  },
  {
   "cell_type": "code",
   "execution_count": 201,
   "metadata": {
    "collapsed": true
   },
   "outputs": [],
   "source": [
    "weather_data = ['fog','hail','maxhumidity','meandewptm','meanpressurem','meantempm','meanvism',\n",
    "                'meanwdird', 'meanwindspdm', 'precipm', 'rain', 'snow', 'snowdepthm','snowfallm', 'thunder',\n",
    "                'minhumidity']"
   ]
  },
  {
   "cell_type": "code",
   "execution_count": 183,
   "metadata": {
    "collapsed": true
   },
   "outputs": [],
   "source": [
    "def output_dict(in_dict):\n",
    "    temp = [(elem,in_dict[elem]) for elem in in_dict.keys() if elem in weather_data]\n",
    "    return dict(temp)"
   ]
  },
  {
   "cell_type": "code",
   "execution_count": 202,
   "metadata": {
    "collapsed": false,
    "scrolled": true
   },
   "outputs": [
    {
     "data": {
      "text/plain": [
       "{u'fog': u'1',\n",
       " u'hail': u'0',\n",
       " u'maxhumidity': u'96',\n",
       " u'meandewptm': u'3',\n",
       " u'meanpressurem': u'1008',\n",
       " u'meantempm': u'10',\n",
       " u'meanvism': u'13',\n",
       " u'meanwdird': u'261',\n",
       " u'meanwindspdm': u'27',\n",
       " u'minhumidity': u'35',\n",
       " u'precipm': u'1.52',\n",
       " u'rain': u'1',\n",
       " u'snow': u'0',\n",
       " u'snowdepthm': u'0.00',\n",
       " u'snowfallm': u'0.00',\n",
       " u'thunder': u'0'}"
      ]
     },
     "execution_count": 202,
     "metadata": {},
     "output_type": "execute_result"
    }
   ],
   "source": [
    "output_dict(examp['history']['dailysummary'][0])"
   ]
  },
  {
   "cell_type": "code",
   "execution_count": 77,
   "metadata": {
    "collapsed": false
   },
   "outputs": [
    {
     "data": {
      "text/html": [
       "<div>\n",
       "<table border=\"1\" class=\"dataframe\">\n",
       "  <thead>\n",
       "    <tr style=\"text-align: right;\">\n",
       "      <th></th>\n",
       "      <th>track</th>\n",
       "      <th>year</th>\n",
       "      <th>month</th>\n",
       "      <th>day</th>\n",
       "    </tr>\n",
       "  </thead>\n",
       "  <tbody>\n",
       "    <tr>\n",
       "      <th>0</th>\n",
       "      <td>AQU</td>\n",
       "      <td>1998</td>\n",
       "      <td>10</td>\n",
       "      <td>28</td>\n",
       "    </tr>\n",
       "    <tr>\n",
       "      <th>1</th>\n",
       "      <td>AQU</td>\n",
       "      <td>1998</td>\n",
       "      <td>10</td>\n",
       "      <td>29</td>\n",
       "    </tr>\n",
       "    <tr>\n",
       "      <th>2</th>\n",
       "      <td>AQU</td>\n",
       "      <td>1998</td>\n",
       "      <td>10</td>\n",
       "      <td>30</td>\n",
       "    </tr>\n",
       "    <tr>\n",
       "      <th>3</th>\n",
       "      <td>AQU</td>\n",
       "      <td>1998</td>\n",
       "      <td>10</td>\n",
       "      <td>31</td>\n",
       "    </tr>\n",
       "    <tr>\n",
       "      <th>4</th>\n",
       "      <td>AQU</td>\n",
       "      <td>1998</td>\n",
       "      <td>11</td>\n",
       "      <td>1</td>\n",
       "    </tr>\n",
       "  </tbody>\n",
       "</table>\n",
       "</div>"
      ],
      "text/plain": [
       "  track  year  month  day\n",
       "0   AQU  1998     10   28\n",
       "1   AQU  1998     10   29\n",
       "2   AQU  1998     10   30\n",
       "3   AQU  1998     10   31\n",
       "4   AQU  1998     11    1"
      ]
     },
     "execution_count": 77,
     "metadata": {},
     "output_type": "execute_result"
    }
   ],
   "source": [
    "datesdf = resudf=pd.read_csv(\"tempdata/usadays.csv\")\n",
    "datesdf.drop('track.1',axis=1, inplace=True)\n",
    "datesdf.head()"
   ]
  },
  {
   "cell_type": "code",
   "execution_count": 103,
   "metadata": {
    "collapsed": false
   },
   "outputs": [
    {
     "data": {
      "text/html": [
       "<div>\n",
       "<table border=\"1\" class=\"dataframe\">\n",
       "  <thead>\n",
       "    <tr style=\"text-align: right;\">\n",
       "      <th></th>\n",
       "      <th>track</th>\n",
       "      <th>year</th>\n",
       "      <th>month</th>\n",
       "      <th>day</th>\n",
       "    </tr>\n",
       "  </thead>\n",
       "  <tbody>\n",
       "    <tr>\n",
       "      <th>0</th>\n",
       "      <td>AQU</td>\n",
       "      <td>1998</td>\n",
       "      <td>10</td>\n",
       "      <td>28</td>\n",
       "    </tr>\n",
       "    <tr>\n",
       "      <th>1</th>\n",
       "      <td>AQU</td>\n",
       "      <td>1998</td>\n",
       "      <td>10</td>\n",
       "      <td>29</td>\n",
       "    </tr>\n",
       "    <tr>\n",
       "      <th>2</th>\n",
       "      <td>AQU</td>\n",
       "      <td>1998</td>\n",
       "      <td>10</td>\n",
       "      <td>30</td>\n",
       "    </tr>\n",
       "    <tr>\n",
       "      <th>3</th>\n",
       "      <td>AQU</td>\n",
       "      <td>1998</td>\n",
       "      <td>10</td>\n",
       "      <td>31</td>\n",
       "    </tr>\n",
       "    <tr>\n",
       "      <th>4</th>\n",
       "      <td>AQU</td>\n",
       "      <td>1998</td>\n",
       "      <td>11</td>\n",
       "      <td>01</td>\n",
       "    </tr>\n",
       "  </tbody>\n",
       "</table>\n",
       "</div>"
      ],
      "text/plain": [
       "  track  year month day\n",
       "0   AQU  1998    10  28\n",
       "1   AQU  1998    10  29\n",
       "2   AQU  1998    10  30\n",
       "3   AQU  1998    10  31\n",
       "4   AQU  1998    11  01"
      ]
     },
     "execution_count": 103,
     "metadata": {},
     "output_type": "execute_result"
    }
   ],
   "source": [
    "datesdf[['year', 'month', 'day']] = datesdf[['year', 'month', 'day']].astype(str)\n",
    "for line in datesdf.index:\n",
    "    if len(datesdf.loc[line]['month']) == 1:\n",
    "        datesdf.loc[line]['month'] = '0' + datesdf.loc[line]['month']\n",
    "    if len(datesdf.loc[line]['day']) == 1:\n",
    "        datesdf.loc[line]['day'] = '0' + datesdf.loc[line]['day']\n",
    "datesdf.head()"
   ]
  },
  {
   "cell_type": "code",
   "execution_count": 108,
   "metadata": {
    "collapsed": false
   },
   "outputs": [],
   "source": [
    "dates_dict = {}\n",
    "for track in datesdf.track.unique():\n",
    "    datestring = []\n",
    "    for row in datesdf.index:\n",
    "        if datesdf.iloc[row]['track'] == track:\n",
    "            datestring.append(str(datesdf.iloc[row]['year']) + str(datesdf.iloc[row]['month']) + str(datesdf.iloc[row]['day']))\n",
    "    dates_dict[track] = datestring "
   ]
  },
  {
   "cell_type": "code",
   "execution_count": 160,
   "metadata": {
    "collapsed": true
   },
   "outputs": [],
   "source": [
    "zips1 = ['11420', '60005','94403', '11003', '43123', '33056', '55379','40208', '23124', '25438', '70668', \n",
    "         '92014', '19804', '42420', '98001', '70570', '70119', '14425', '91768', '62234', '49415', '94710', \n",
    "         '33009', '60804', '46013', '90305', '46176', '40510', '42134', '20725', '71111', '75050', '90720', \n",
    "         '07073', '07757', '26047', '71901', '85023', '17028', '19020', '21215', '50009', '73111', '78154', \n",
    "         '45230', '77064', '91007', '12866', '60804', '02128', '33626', '44128', '21093', '41042']\n",
    "locs = datesdf.track.unique()\n",
    "zips_dict1 = dict(zip(locs, zips1))"
   ]
  },
  {
   "cell_type": "code",
   "execution_count": 191,
   "metadata": {
    "collapsed": false
   },
   "outputs": [
    {
     "name": "stdout",
     "output_type": "stream",
     "text": [
      "CPU times: user 13.8 ms, sys: 3.21 ms, total: 17 ms\n",
      "Wall time: 13 s\n"
     ]
    }
   ],
   "source": [
    "%%time\n",
    "weather_dict = {}\n",
    "for key in dates_dict.keys():\n",
    "    for fdate in dates_dict[key]:\n",
    "        wunderground_url = 'http://api.wunderground.com/api/4a26cfc369eb7841/history_{}/q/{}.json'.format(fdate, zips_dict1[key])\n",
    "        temp = json.loads(requests.get(wunderground_url).text)['history']['dailysummary'][0]        \n",
    "        weather_dict[(key, fdate)] = output_dict(temp)"
   ]
  },
  {
   "cell_type": "code",
   "execution_count": 204,
   "metadata": {
    "collapsed": false,
    "scrolled": true
   },
   "outputs": [
    {
     "data": {
      "text/html": [
       "<div>\n",
       "<table border=\"1\" class=\"dataframe\">\n",
       "  <thead>\n",
       "    <tr style=\"text-align: right;\">\n",
       "      <th></th>\n",
       "      <th>track</th>\n",
       "      <th>date</th>\n",
       "      <th>fog</th>\n",
       "      <th>hail</th>\n",
       "      <th>humidity</th>\n",
       "      <th>maxhumidity</th>\n",
       "      <th>meandewptm</th>\n",
       "      <th>meanpressurem</th>\n",
       "      <th>meantempm</th>\n",
       "      <th>meanvism</th>\n",
       "      <th>meanwdird</th>\n",
       "      <th>meanwindspdm</th>\n",
       "      <th>minhumidity</th>\n",
       "      <th>precipm</th>\n",
       "      <th>rain</th>\n",
       "      <th>snow</th>\n",
       "      <th>snowdepthm</th>\n",
       "      <th>snowfallm</th>\n",
       "      <th>thunder</th>\n",
       "    </tr>\n",
       "  </thead>\n",
       "  <tbody>\n",
       "    <tr>\n",
       "      <th>0</th>\n",
       "      <td>EMD</td>\n",
       "      <td>19980814</td>\n",
       "      <td>0</td>\n",
       "      <td>0</td>\n",
       "      <td></td>\n",
       "      <td>90</td>\n",
       "      <td>15</td>\n",
       "      <td>1017</td>\n",
       "      <td>21</td>\n",
       "      <td>16</td>\n",
       "      <td>226</td>\n",
       "      <td>5</td>\n",
       "      <td>54</td>\n",
       "      <td>0.00</td>\n",
       "      <td>0</td>\n",
       "      <td>0</td>\n",
       "      <td></td>\n",
       "      <td>0.00</td>\n",
       "      <td>0</td>\n",
       "    </tr>\n",
       "    <tr>\n",
       "      <th>1</th>\n",
       "      <td>EMD</td>\n",
       "      <td>19980815</td>\n",
       "      <td>0</td>\n",
       "      <td>0</td>\n",
       "      <td></td>\n",
       "      <td>100</td>\n",
       "      <td>13</td>\n",
       "      <td>1016</td>\n",
       "      <td>17</td>\n",
       "      <td>11</td>\n",
       "      <td>202</td>\n",
       "      <td>8</td>\n",
       "      <td>58</td>\n",
       "      <td>1.52</td>\n",
       "      <td>0</td>\n",
       "      <td>0</td>\n",
       "      <td></td>\n",
       "      <td>0.00</td>\n",
       "      <td>0</td>\n",
       "    </tr>\n",
       "  </tbody>\n",
       "</table>\n",
       "</div>"
      ],
      "text/plain": [
       "  track      date fog hail humidity maxhumidity meandewptm meanpressurem meantempm meanvism meanwdird meanwindspdm minhumidity precipm rain snow snowdepthm snowfallm thunder\n",
       "0   EMD  19980814   0    0                   90         15          1017        21       16       226            5          54    0.00    0    0                 0.00       0\n",
       "1   EMD  19980815   0    0                  100         13          1016        17       11       202            8          58    1.52    0    0                 0.00       0"
      ]
     },
     "execution_count": 204,
     "metadata": {},
     "output_type": "execute_result"
    }
   ],
   "source": [
    "bigdf = []\n",
    "for tup in weather_json.keys():\n",
    "    stuff = [tup[0],tup[1]]\n",
    "    for key in sorted(weather_json[tup].keys()):\n",
    "        stuff.append(weather_json[tup][key])\n",
    "    bigdf.append(stuff)\n",
    "weatherdf = pd.DataFrame(bigdf, columns = ['track', 'date'] + sorted(weather_json[weather_json.keys()[0]].keys()))\n",
    "weatherdf.head()"
   ]
  },
  {
   "cell_type": "code",
   "execution_count": null,
   "metadata": {
    "collapsed": true
   },
   "outputs": [],
   "source": [
    "weatherdf.to_csv('tempdata/weather.csv')"
   ]
  },
  {
   "cell_type": "code",
   "execution_count": 56,
   "metadata": {
    "collapsed": false
   },
   "outputs": [
    {
     "data": {
      "text/plain": [
       "{u'metadata': {u'resultset': {u'count': 2, u'limit': 25, u'offset': 1}},\n",
       " u'results': [{u'attributes': u',,N,',\n",
       "   u'datatype': u'PRCP',\n",
       "   u'date': u'2010-05-01T00:00:00',\n",
       "   u'station': u'GHCND:US1LABS0001',\n",
       "   u'value': 10},\n",
       "  {u'attributes': u',,N,',\n",
       "   u'datatype': u'PRCP',\n",
       "   u'date': u'2010-05-01T00:00:00',\n",
       "   u'station': u'GHCND:US1LABS0003',\n",
       "   u'value': 13}]}"
      ]
     },
     "execution_count": 56,
     "metadata": {},
     "output_type": "execute_result"
    }
   ],
   "source": [
    "url = \"http://www.ncdc.noaa.gov/cdo-web/api/v2/data\"\n",
    "querystring = {\"datasetid\":\"GHCND\",\"locationid\":\"ZIP:71111\",\"startdate\":\"2010-05-01\",\"enddate\":\"2010-05-01\"}\n",
    "headers = {\"token\": \"CGGFJuGumVuKGnDfDyYdkDmmeTcMzIOr\",\"cache-control\": \"no-cache\",\"postman-token\": \"2c03d9cf-3d0d-0582-faa8-a5b369dfa568\"}\n",
    "response = requests.request(\"GET\", url, headers=headers, params=querystring)\n",
    "json.loads(response.text)"
   ]
  }
 ],
 "metadata": {
  "kernelspec": {
   "display_name": "Python 2",
   "language": "python",
   "name": "python2"
  },
  "language_info": {
   "codemirror_mode": {
    "name": "ipython",
    "version": 2
   },
   "file_extension": ".py",
   "mimetype": "text/x-python",
   "name": "python",
   "nbconvert_exporter": "python",
   "pygments_lexer": "ipython2",
   "version": "2.7.10"
  }
 },
 "nbformat": 4,
 "nbformat_minor": 0
}
