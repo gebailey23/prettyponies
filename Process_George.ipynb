{
 "cells": [
  {
   "cell_type": "markdown",
   "metadata": {},
   "source": [
    "# Initial Notes\n",
    "\n",
    "- https://www.racingchannel.com/archives/CHU/2015/09/CHU150912.HTM has html scrapable data for every race in the last ~10-12 years. Should be sufficient.\n",
    "    - This includes odds as well, which we may want to use.\n",
    "- In order to scrape, we need to know what day the race took place on each track, as well as the race number on that day (usually 10-12 races per day).\n",
    "    - https://www.bloodhorse.com/horse-racing/race/USA/CD/2013/9/7/7/iroquois-s quickly yields the date and race number.\n",
    "    - We will likely need to manually search for the dates/race numbers for each year unfortunately. This will be approximately 15-20 races each year.\n",
    "- We will need a function which takes in latitude, longitude, and date and returns weather conditions.\n",
    "    - Just simple raining/not raining and temperature."
   ]
  },
  {
   "cell_type": "code",
   "execution_count": null,
   "metadata": {
    "collapsed": true
   },
   "outputs": [],
   "source": []
  }
 ],
 "metadata": {
  "kernelspec": {
   "display_name": "Python 2",
   "language": "python",
   "name": "python2"
  },
  "language_info": {
   "codemirror_mode": {
    "name": "ipython",
    "version": 2
   },
   "file_extension": ".py",
   "mimetype": "text/x-python",
   "name": "python",
   "nbconvert_exporter": "python",
   "pygments_lexer": "ipython2",
   "version": "2.7.10"
  }
 },
 "nbformat": 4,
 "nbformat_minor": 0
}
