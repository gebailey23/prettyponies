{
 "cells": [
  {
   "cell_type": "markdown",
   "metadata": {},
   "source": [
    "## Overview and Motivation  \n",
    "<i>Provide an overview of the project goals and the motivation for it. Consider that this will be read by people who did not see your project proposal. </i>\n",
    "\n",
    "We seek to collect and examine horse racing data in order to "
   ]
  },
  {
   "cell_type": "markdown",
   "metadata": {},
   "source": [
    "## Related Work \n",
    "<i>Anything that inspired you, such as a paper, a web site, or something we discussed in class.</i>\n",
    "\n",
    "We first conducted a throough study of horse racing and betting therein as follows to understand what we were working with. "
   ]
  },
  {
   "cell_type": "markdown",
   "metadata": {},
   "source": [
    "## Initial Questions \n",
    "<i>What questions are you trying to answer? How did these questions evolve over the course of the project? What new questions did you consider in the course of your analysis? - Data: Source, scraping method, cleanup, storage, etc. </i>"
   ]
  },
  {
   "cell_type": "markdown",
   "metadata": {},
   "source": [
    "## Exploratory Data Analysis \n",
    "<i>What visualizations did you use to look at your data in different ways? What are the different statistical methods you considered? Justify the decisions you made, and show any major changes to your ideas. How did you reach these conclusions? </i>"
   ]
  },
  {
   "cell_type": "markdown",
   "metadata": {},
   "source": [
    "## Final Analysis \n",
    "<i> What did you learn about the data? How did you answer the questions? How can you justify your answers? </i>"
   ]
  },
  {
   "cell_type": "code",
   "execution_count": 16,
   "metadata": {
    "collapsed": false
   },
   "outputs": [],
   "source": [
    "## this function takes a payout and returns the percentage of that horse to win when betting occured \n",
    "## assumed original bet of $2 and assumed take by race track of 15% \n",
    "def calc_percent(payoff, bet_amount=2, take = .15):\n",
    "    return 1-(payoff/(1-take) - bet_amount)/bet_amount\n",
    "\n",
    "def odds_to_percent(odds): \n",
    "    return (float(str(odds)[2]))/(float(str(odds)[0])+float((str(odds)[2])))"
   ]
  },
  {
   "cell_type": "code",
   "execution_count": null,
   "metadata": {
    "collapsed": true
   },
   "outputs": [],
   "source": []
  }
 ],
 "metadata": {
  "kernelspec": {
   "display_name": "Python 2",
   "language": "python",
   "name": "python2"
  },
  "language_info": {
   "codemirror_mode": {
    "name": "ipython",
    "version": 2
   },
   "file_extension": ".py",
   "mimetype": "text/x-python",
   "name": "python",
   "nbconvert_exporter": "python",
   "pygments_lexer": "ipython2",
   "version": "2.7.10"
  }
 },
 "nbformat": 4,
 "nbformat_minor": 0
}
