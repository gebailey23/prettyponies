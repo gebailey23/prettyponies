{
 "cells": [
  {
   "cell_type": "markdown",
   "metadata": {},
   "source": [
    "## Overview and Motivation  \n",
    "<i>Provide an overview of the project goals and the motivation for it. Consider that this will be read by people who did not see your project proposal. </i>\n",
    "\n",
    "We seek to collect and examine horse racing data in order to "
   ]
  },
  {
   "cell_type": "markdown",
   "metadata": {},
   "source": [
    "## Related Work \n",
    "<i>Anything that inspired you, such as a paper, a web site, or something we discussed in class.</i>\n",
    "\n",
    "We first conducted a throough study of horse racing and betting therein as follows to understand what we were working with. "
   ]
  },
  {
   "cell_type": "markdown",
   "metadata": {},
   "source": [
    "## Initial Questions \n",
    "<i>What questions are you trying to answer? How did these questions evolve over the course of the project? What new questions did you consider in the course of your analysis? - Data: Source, scraping method, cleanup, storage, etc. </i>"
   ]
  },
  {
   "cell_type": "markdown",
   "metadata": {},
   "source": [
    "## Final Analysis \n",
    "<i> What did you learn about the data? How did you answer the questions? How can you justify your answers? </i>"
   ]
  },
  {
   "cell_type": "code",
   "execution_count": 25,
   "metadata": {
    "collapsed": false
   },
   "outputs": [],
   "source": [
    "%matplotlib inline\n",
    "import numpy as np\n",
    "import scipy as sp\n",
    "import matplotlib as mpl\n",
    "import matplotlib.cm as cm\n",
    "import matplotlib.pyplot as plt\n",
    "import pandas as pd\n",
    "pd.set_option('display.width', 500)\n",
    "pd.set_option('display.max_columns', 100)\n",
    "pd.set_option('display.notebook_repr_html', True)\n",
    "import seaborn as sns\n",
    "sns.set_style(\"whitegrid\")\n",
    "sns.set_context(\"poster\")\n",
    "from bs4 import BeautifulSoup\n",
    "import requests\n",
    "import json\n",
    "import time\n",
    "import string\n",
    "# from tqdm import *\n",
    "import datetime\n",
    "import math"
   ]
  },
  {
   "cell_type": "markdown",
   "metadata": {},
   "source": [
    "## Scraping \n",
    "We began our adventure with an extensive amount of scraping.  We used many resources to access a large amount of data and hit many hiccups along the way.  For one, the data sources we were using were extremely varied and very disorganized.  "
   ]
  },
  {
   "cell_type": "markdown",
   "metadata": {},
   "source": [
    "### Race History Scraping \n",
    "We obtained a significant amount of information on horse races across the US since 1998 from the website racingchannel.com.  The scraping process was complicated and long, but proved very useful.  "
   ]
  },
  {
   "cell_type": "code",
   "execution_count": null,
   "metadata": {
    "collapsed": true
   },
   "outputs": [],
   "source": [
    "# Gets main page's HTML\n",
    "mainpagelink = 'http://racingchannel.com/results_archive.php'\n",
    "mainpagehtml = requests.get(mainpagelink).text"
   ]
  },
  {
   "cell_type": "markdown",
   "metadata": {},
   "source": [
    "We started at the mainpage of racingchannel.com (see below) to get a list of racetracks and racetrackcodes, and we then created a dict of the two, which was the basis for most of our subsequent scraping. This page on the website has hyperlinks to all the individual racetrack pages, so the first step of scraping was from here.  \n",
    "<img src=\"images/image_1.png\" width=\"600px\"/>"
   ]
  },
  {
   "cell_type": "code",
   "execution_count": null,
   "metadata": {
    "collapsed": true
   },
   "outputs": [],
   "source": [
    "racetrackshtmllst = BeautifulSoup(mainpagehtml, 'html.parser').body.table.findAll('tr')[4].findAll('td')\n",
    "tracks = []\n",
    "trackcodes = []\n",
    "trackdatalinks = []\n",
    "for tracklst in racetrackshtmllst:\n",
    "    tracklinks = tracklst.findAll('a')\n",
    "    for link in tracklinks:\n",
    "        trackdatalinks.append('http://racingchannel.com/'  + link.get('href').encode('ascii'))\n",
    "        trackcodes.append(link.get('href')[10:13].encode('ascii'))\n",
    "        tracks.append(link.text.encode('ascii'))\n",
    "tracks[1] = 'Arlington Park'\n",
    "trackcodedict = dict(zip(tracks, trackcodes))\n",
    "tracklinkdict = dict(zip(tracks, trackdatalinks))\n",
    "trackinfodf = pd.DataFrame(index=tracks)\n",
    "trackinfodf['code'] = trackcodes\n",
    "trackinfodf['link'] = trackdatalinks\n",
    "trackinfodf.head()"
   ]
  },
  {
   "cell_type": "markdown",
   "metadata": {},
   "source": [
    "Next, we then pulled the html of each individual track from the pages pulled above and beautifulSouped it.   The below code stores the cleaned html of all track info pages into a csv.  "
   ]
  },
  {
   "cell_type": "code",
   "execution_count": null,
   "metadata": {
    "collapsed": true
   },
   "outputs": [],
   "source": [
    "## WARNING: DO NOT RERUN THIS IF TEMPDATA ALREADY HAS TRACKINFO.CSV IN IT! ##\n",
    "\n",
    "htmloftracks = []\n",
    "for link in trackdatalinks:\n",
    "    htmloftracks.append(BeautifulSoup(requests.get(link).text, 'html.parser'))\n",
    "    print link\n",
    "    time.sleep(5)\n",
    "\n",
    "trackinfodf['track_html'] = htmloftracks\n",
    "trackinfodf.head(10)\n",
    "\n",
    "# Stores track codes and links in csv\n",
    "trackinfodf.to_csv('tempdata/trackinfo.csv', index_label='name')"
   ]
  },
  {
   "cell_type": "code",
   "execution_count": null,
   "metadata": {
    "collapsed": true
   },
   "outputs": [],
   "source": [
    "# Loads trackinfodf from the csv in tempdata\n",
    "try:\n",
    "    del trackinfodf\n",
    "except:\n",
    "    pass\n",
    "trackinfodf = pd.read_csv('tempdata/trackinfo.csv', index_col='name')\n",
    "trackinfodf['track_html'] = trackinfodf['track_html'].apply(lambda h:BeautifulSoup(h, 'html.parser'))\n",
    "trackinfodf.head(5)"
   ]
  },
  {
   "cell_type": "markdown",
   "metadata": {},
   "source": [
    "Next, we stored all the years and months that races occured for each track.  From the above links, we are directed to a page of months and years, that each then direct to monthly calendars with races listed on the corresponding dates. Using this page, we scraped the needed years and months. A sample page for the track Aqueduct can be seen below. \n",
    "\n",
    "<img src=\"images/image_2.png\" width=\"600px\"/>"
   ]
  },
  {
   "cell_type": "code",
   "execution_count": null,
   "metadata": {
    "collapsed": true
   },
   "outputs": [],
   "source": [
    "# For each track rip the years and months that the track had races ran on it\n",
    "tracksoups = trackinfodf['track_html']\n",
    "yrmonthdicts_by_track = []\n",
    "for soup in tracksoups:\n",
    "    soup = soup.body.center.findAll('table')[-1].tr.findAll('td')\n",
    "    years = []\n",
    "    yrmonths_for_track = []\n",
    "    for col in soup:\n",
    "        year = col.text.encode('ascii')[:4]\n",
    "        years.append(year)\n",
    "        months = [elem.get('href').encode('ascii')[19:21] for elem in col.findAll('a')]\n",
    "        yrmonths_for_track.append({year: months})\n",
    "\n",
    "    yrmonthdicts_by_track.append(yrmonths_for_track)\n",
    "biggie = dict(zip(trackcodes,yrmonthdicts_by_track))"
   ]
  },
  {
   "cell_type": "markdown",
   "metadata": {},
   "source": [
    "Using the above obtained years and months, we next had to pull all the days from each calendar of races.  A sample month for October 1998 for the racetrack Aqueduct can be seen below.  \n",
    "<img src=\"images/image_3.png\" width=\"600px\"/>"
   ]
  },
  {
   "cell_type": "code",
   "execution_count": null,
   "metadata": {
    "collapsed": true
   },
   "outputs": [],
   "source": [
    "# Scrapes all the days that the track was in operation for each month, year, and track combo\n",
    "%time\n",
    "trackday_lists = []\n",
    "for track in sorted(biggie.keys()):\n",
    "    for yeardict in biggie[track]:\n",
    "        for month in yeardict.values()[0]:\n",
    "            monthhtml = BeautifulSoup(requests.get('http://racingchannel.com/archives/{}/{}/{}/default.html'\\\n",
    "                                         .format(track,yeardict.keys()[0],month)).text, 'html.parser').body.center\n",
    "            try:\n",
    "                soup = monthhtml.findAll('table')[1]\n",
    "            except:\n",
    "                soup = monthhtml.findAll('table')[0]\n",
    "            days = [daytag.get('href')[29:31].encode('ascii') for daytag in soup.findAll('a')]\n",
    "            mo = daytag.get('href')[19:21].encode('ascii')\n",
    "            yr = daytag.get('href')[14:18].encode('ascii')\n",
    "            trk = daytag.get('href')[22:25].encode('ascii')\n",
    "            for day in days:\n",
    "                trackday_lists.append([trk, yr, mo, day]) \n",
    "            time.sleep(.00001)\n",
    "\n",
    "    print track\n",
    "    \n",
    "print len(trackday_lists)"
   ]
  },
  {
   "cell_type": "code",
   "execution_count": null,
   "metadata": {
    "collapsed": true
   },
   "outputs": [],
   "source": [
    "# Stores a csv of the different days that races were run since 1998 at each track\n",
    "# (scraped from the racingchannel.com website in order to make accessing the html easier)\n",
    "trackdaylistdf = pd.DataFrame(trackday_lists)\n",
    "trackdaylistdf.to_csv('tempdata/alldays_new.csv')"
   ]
  },
  {
   "cell_type": "code",
   "execution_count": null,
   "metadata": {
    "collapsed": true
   },
   "outputs": [],
   "source": [
    "# Reads back in the list of lists that contains all the days we need to request from racingchannel.com\n",
    "bigdaydf = pd.read_csv('tempdata/alldays_new.csv')\n",
    "bigdaydf = bigdaydf[bigdaydf.columns[-4:]]\n",
    "bigdaydf.columns = ['track','year','month','day']\n",
    "bigdaydf.head()"
   ]
  },
  {
   "cell_type": "code",
   "execution_count": null,
   "metadata": {
    "collapsed": true
   },
   "outputs": [],
   "source": [
    "# Ensure we have all the tracks\n",
    "print tracks\n",
    "bigdaydf.track.unique()"
   ]
  },
  {
   "cell_type": "markdown",
   "metadata": {},
   "source": [
    "We made a decision to drop the international tracks for several reasons.  Firstly, we wanted to ensure the continuity of our data and there was spotty data from the international arenas.  Secondly, the weather data was hard to obtain for international locations, so it was dangerous.  Thirdly, considering the animal travel laws, it seemed difficult for international races to have significant impacts on our races as horses must be quarantined for extended periods of time whenever they cross international borders.  "
   ]
  },
  {
   "cell_type": "code",
   "execution_count": null,
   "metadata": {
    "collapsed": true
   },
   "outputs": [],
   "source": [
    "# Drop international tracks\n",
    "bigdaydf = bigdaydf.set_index(bigdaydf['track'])\n",
    "usadaydf = bigdaydf.drop(['GB1','ZA1','ZA2','AU1','AU2','FTE','HAS','NCF','WOB'])\n",
    "print usadaydf.shape\n",
    "print bigdaydf.shape\n",
    "usadaydf.to_csv('tempdata/usadays_new.csv')"
   ]
  },
  {
   "cell_type": "code",
   "execution_count": null,
   "metadata": {
    "collapsed": true
   },
   "outputs": [],
   "source": [
    "# Read in the csv containing USA track days\n",
    "usadaydf = pd.read_csv('tempdata/usadays_new.csv')\n",
    "usadaydf.drop('track.1',axis=1, inplace=True)\n",
    "print usadaydf.shape # this should be like 83000\n",
    "print '\\n'\n",
    "usadaydf.head() #<--this is the one we want!!!!"
   ]
  },
  {
   "cell_type": "markdown",
   "metadata": {},
   "source": [
    "This is where the most significant scraping began. Now that we had obtained the track names and corresponding race dates, we needed to scrape all the results for every date and every track. A sample results page for the Aqueduct track on October 28, 1998 can be seen below. \n",
    "\n",
    "<img src=\"images/image_4.png\" width=\"600px\"/>\n",
    "\n",
    "This took a significant amount of time, so we included methods to track our progress along the way.  "
   ]
  },
  {
   "cell_type": "code",
   "execution_count": null,
   "metadata": {
    "collapsed": true
   },
   "outputs": [],
   "source": [
    "pretime = time.time()\n",
    "superout = []\n",
    "# Getting the raw HTML text from racingchannel to be later cleaned with BeautSoup\n",
    "# The live 1-9 variables and the many if else statements that follow the main code all have to do with \n",
    "# setting and hitting checkpoints along the way\n",
    "acc = 0\n",
    "livee = True\n",
    "live1 = True\n",
    "live2 = True\n",
    "live3 = True\n",
    "live4 = True\n",
    "live5 = True\n",
    "live6 = True\n",
    "live7 = True\n",
    "live8 = True\n",
    "live9 = True\n",
    "for tup in usadaydf.itertuples():\n",
    "    time.sleep(0.05)\n",
    "    magiclink = 'https://www.racingchannel.com/archives/{}/{}/{:02}/{}{}{:02}{:02}.HTM'\\\n",
    "        .format(tup[1],tup[2],tup[3],tup[1],str(tup[2])[2:],tup[3],tup[4])\n",
    "    htmlfrompage = requests.get(magiclink).text\n",
    "    superout.append([tup[1],tup[2],tup[3],tup[4],htmlfrompage])\n",
    "    acc += 1\n",
    "    if acc > 100 and livee:\n",
    "        livee = False\n",
    "        print \"Made it {}\".format(acc)\n",
    "    elif acc > 10000 and live1:\n",
    "        live1 = False\n",
    "        print \"Made it {}\".format(acc)\n",
    "    elif acc > 20000 and live2:\n",
    "        live2 = False\n",
    "        print \"Made it {}\".format(acc)\n",
    "    elif acc > 30000 and live3:\n",
    "        live3 = False\n",
    "        print \"Made it {}\".format(acc)\n",
    "    elif acc > 40000 and live4:\n",
    "        live4 = False\n",
    "        print \"Made it {}\".format(acc)\n",
    "    elif acc > 50000 and live5:\n",
    "        live5 = False\n",
    "        print \"Made it {}\".format(acc)\n",
    "    elif acc > 60000 and live6:\n",
    "        live6 = False\n",
    "        print \"Made it {}\".format(acc)\n",
    "    elif acc > 70000 and live7:\n",
    "        live7 = False\n",
    "        print \"Made it {}\".format(acc)\n",
    "    elif acc > 80000 and live8:\n",
    "        live8 = False\n",
    "        print \"Made it {}\".format(acc)\n",
    "        print \"Home stretch!!!\"  \n",
    "    \n",
    "\n",
    "superdf = pd.DataFrame(superout)\n",
    "superdf.to_csv('tempdata/superdf.csv')\n",
    "\n",
    "print time.time()-pretime, \"seconds\""
   ]
  },
  {
   "cell_type": "markdown",
   "metadata": {},
   "source": [
    "Our data obtained above was MASSIVE, so we had a very hard time reading the csv we created back into our iPython notebook. We constantly had memory errors when trying to read in the csv in one chunk, so used the chunksize option in pd.read_csv to overcome this problem."
   ]
  },
  {
   "cell_type": "code",
   "execution_count": null,
   "metadata": {
    "collapsed": true
   },
   "outputs": [],
   "source": [
    "# adapted from http://stackoverflow.com/questions/17557074/memory-error-when-using-pandas-read-csv\n",
    "csv_chunks = pd.read_csv('~/Desktop/superdf.csv', sep = ',', chunksize = 5000)\n",
    "superdf = pd.concat(chunk for chunk in csv_chunks)\n",
    "superdf = superdf[superdf.columns[-5:]]\n",
    "superdf.columns = ['track','year','month','day','html']"
   ]
  },
  {
   "cell_type": "code",
   "execution_count": null,
   "metadata": {
    "collapsed": true
   },
   "outputs": [],
   "source": [
    "## When we saved the csv of a list, it saves it as a string.  This function then converts that \n",
    "## string back into a list. This turned out to be less useful than we thought when we wrote it.  \n",
    "def stringtolist(string):\n",
    "    elems = []\n",
    "    curr = ''\n",
    "    acc = 0\n",
    "    for char in list(string):\n",
    "        if char in '[':\n",
    "            pass\n",
    "        elif (char == ',' and list(string)[acc-1] in '>') or (char == ']'):\n",
    "            elems.append(curr)\n",
    "            curr = ''\n",
    "        else:\n",
    "            curr += char\n",
    "        acc += 1\n",
    "    return elems\n",
    "a = '[<new>asdf</new>,<yeet>asdfaghfds,FF<yeet>,<FF>masdfasdf</FF>]'\n",
    "print stringtolist(a)"
   ]
  },
  {
   "cell_type": "code",
   "execution_count": null,
   "metadata": {
    "collapsed": true
   },
   "outputs": [],
   "source": [
    "## We used a class object to make the scraping easier.  \n",
    "\n",
    "class RaceDataSet(object):\n",
    "    \n",
    "    def __init__(self, num, datedata):\n",
    "        self.num = num\n",
    "        self.datedata = datedata\n",
    "        self.first = None\n",
    "        self.second = None\n",
    "        self.third = None\n",
    "        self.firstnum = None\n",
    "        self.secondnum = None\n",
    "        self.thirdnum = None\n",
    "        self.win = None\n",
    "        self.place1 = None\n",
    "        self.place2 = None\n",
    "        self.show1 = None\n",
    "        self.show2 = None\n",
    "        self.show3 = None\n",
    "        \n",
    "    def __str__(self):\n",
    "        return \"{} : {}.....{}.{}...{}.{}...{}.{}\\n\\t{}...{}.{}.....{}.{}.{}\\n\".format(self.datedata,self.num,self.firstnum,\\\n",
    "                    self.first,self.secondnum,self.second,self.thirdnum,self.third,self.win,self.place1,\\\n",
    "                    self.place2,self.show1,self.show2,self.show3)\n",
    "    \n",
    "    def to_list(self):\n",
    "        return [self.datedata[0],self.datedata[1],self.datedata[2],self.datedata[3],self.num,self.firstnum,\\\n",
    "                    self.first,self.secondnum,self.second,self.thirdnum,self.third,self.win,self.place1,\\\n",
    "                    self.place2,self.show1,self.show2,self.show3]"
   ]
  },
  {
   "cell_type": "markdown",
   "metadata": {},
   "source": [
    "We next created an important function that does a significant portion of the parsing of the html.  Firstly, it uses BeautifulSoup on the html, and then it goes through all of it, takes the row elements of each race, and puts the data into a dataframe.  This function is designed to take a row from superdf (the csv of the raw html), and then parse the html of only that page. Again, memory considerations forced us to approach the problem this way, as we could not hold very much of this data in memory at a time. Going row by row solved this problem."
   ]
  },
  {
   "cell_type": "code",
   "execution_count": null,
   "metadata": {
    "collapsed": true
   },
   "outputs": [],
   "source": [
    "def extract(row):\n",
    "    tags = None\n",
    "    date = None\n",
    "    nobolds = []\n",
    "    if isinstance(row, pd.Series):\n",
    "        tags = BeautifulSoup(row['html'], 'html.parser').html.body.findAll('table')\n",
    "        date = [row['track'],row['year'],row['month'],row['day']]\n",
    "    elif isinstance(row, tuple):\n",
    "        if str(row[5]) == 'nan':\n",
    "            return []\n",
    "        tags = BeautifulSoup(row[5], 'html.parser').html.body.findAll('table')\n",
    "        date = [row[1],row[2],row[3],row[4]]\n",
    "    out = []\n",
    "    for table in tags:\n",
    "        bail = False\n",
    "        if table.findAll('tr') == []:\n",
    "            continue\n",
    "        elif table.tr.findAll('b') == []:\n",
    "            continue\n",
    "        elif table.tr.td.b == None:\n",
    "            nobolds.append((table.tr.td,date)) \n",
    "        elif 'race' in string.lower(table.tr.td.b.get_text().encode('ascii')):\n",
    "            trows = table.findAll('tr')\n",
    "            if len(trows) >= 4:\n",
    "                row1 = trows[0].findAll('td')\n",
    "                row2 = trows[1].findAll('td')\n",
    "                row3 = trows[2].findAll('td')\n",
    "                row4 = trows[3].findAll('td')\n",
    "                if len(row2) > 0 and len(row3) > 0 and len(row4) > 0:\n",
    "                    for elem in [row2[0].get_text().encode('ascii'),row3[0].get_text().encode('ascii'),\\\n",
    "                        row4[0].get_text().encode('ascii')]:\n",
    "                        if '$2 D/Double' in str(elem):\n",
    "                            bail = True\n",
    "                    if not bail:\n",
    "                        if not (len(row2) < 6 or len(row3) < 6 or len(row4) < 6):\n",
    "                            racenum = row1[1].get_text().encode('ascii')\n",
    "                            obj = RaceDataSet(racenum, date)\n",
    "                            obj.firstnum = row2[1].get_text().encode('ascii')\n",
    "                            obj.first = row2[2].get_text().encode('ascii')\n",
    "                            obj.secondnum = row3[1].get_text().encode('ascii')\n",
    "                            obj.second = row3[2].get_text().encode('ascii')\n",
    "                            obj.thirdnum = row4[1].get_text().encode('ascii')\n",
    "                            obj.third = row4[2].get_text().encode('ascii')\n",
    "                            obj.win = row2[3].get_text().encode('ascii')\n",
    "                            obj.place1 = row2[4].get_text().encode('ascii')\n",
    "                            obj.place2 = row3[4].get_text().encode('ascii')\n",
    "                            obj.show1 = row2[5].get_text().encode('ascii')\n",
    "                            obj.show2 = row3[5].get_text().encode('ascii')\n",
    "                            obj.show3 = row4[5].get_text().encode('ascii')\n",
    "\n",
    "                            out.append(obj.to_list())\n",
    "    return out"
   ]
  },
  {
   "cell_type": "markdown",
   "metadata": {
    "collapsed": true
   },
   "source": [
    "We then created a cleaned dataframe by running a for loop using the above function, going row by row through superdf. We focused on getting win, place, show payoffs for each horse."
   ]
  },
  {
   "cell_type": "code",
   "execution_count": null,
   "metadata": {
    "collapsed": true
   },
   "outputs": [],
   "source": [
    "cleandf = []\n",
    "count = 0\n",
    "for tup in tqdm(superdf.itertuples()):\n",
    "    count += 1\n",
    "    #controls the scale of the problem during testing\n",
    "    if count < 0:\n",
    "        continue\n",
    "    elif count > 1000000:\n",
    "        break\n",
    "    cleandf += extract(tup)\n",
    "cleandf = pd.DataFrame(cleandf, columns=['track','year','month','day','racenum','firstnum','first','secondnum',\\\n",
    "                                         'second','thirdnum','third','win','place1','place2','show1','show2','show3'])\n",
    "cleandf.to_csv('tempdata/cleandf.csv', columns=['track','year','month','day','racenum','firstnum','first','secondnum',\\\n",
    "                                         'second','thirdnum','third','win','place1','place2','show1','show2','show3'])\n",
    "cleandf.head()"
   ]
  },
  {
   "cell_type": "code",
   "execution_count": null,
   "metadata": {
    "collapsed": true
   },
   "outputs": [],
   "source": [
    "cleandf = pd.read_csv('tempdata/cleandf.csv')\n",
    "cleandf = cleandf[cleandf.columns[-17:]]\n",
    "cleandf.head()"
   ]
  },
  {
   "cell_type": "markdown",
   "metadata": {},
   "source": [
    "Our cleaned race history data is in the csv called cleandf.  This is what we will use when we run our analysis and investigation later on.  \n",
    "\n",
    "### Weather Scraping \n",
    "With the race data in hand, we turned to obtaining the weather data for all relavent dates.  We were able to access the Wunderground weather API thanks to special permission from the Weather Channel.  Using this, we obtained weather conditions for every date that we had race information available for the corresponding zip codes.  \n",
    "\n",
    "An example of how to use the API for a set date and zip code: "
   ]
  },
  {
   "cell_type": "code",
   "execution_count": null,
   "metadata": {
    "collapsed": true
   },
   "outputs": [],
   "source": [
    "date = '20141225'\n",
    "zip_code = '11420'\n",
    "wunderground_url = 'http://api.wunderground.com/api/4a26cfc369eb7841/history_{}/q/{}.json'.format(date, zip_code)\n",
    "examp = json.loads(requests.get(wunderground_url).text)"
   ]
  },
  {
   "cell_type": "markdown",
   "metadata": {},
   "source": [
    "We decided on a list of weather conditions that would be most likely to effect the racetracks on any given day.  Given Wunderground had hundreds of weather parameters, we had to limit the scope of our scrape to avoid overfitting.  Many of the parameters given were duplicates, as each parameter was available in metric or imperial units, as well as max, min, and average. For the parameters we chose, we used metric units and average amounts if available and applicable.   "
   ]
  },
  {
   "cell_type": "code",
   "execution_count": 3,
   "metadata": {
    "collapsed": true
   },
   "outputs": [],
   "source": [
    "# weather metrics we want\n",
    "weather_data = ['fog','hail','maxhumidity','meandewptm','meanpressurem','meantempm','meanvism',\n",
    "                'meanwdird', 'meanwindspdm', 'precipm', 'rain', 'snow', 'snowdepthm','snowfallm', 'thunder',\n",
    "                'minhumidity']"
   ]
  },
  {
   "cell_type": "code",
   "execution_count": 4,
   "metadata": {
    "collapsed": true
   },
   "outputs": [],
   "source": [
    "# function to format data returned from wunderground api to have only the metrics we want\n",
    "def output_dict(in_dict):\n",
    "    temp = [(elem,in_dict[elem]) for elem in in_dict.keys() if elem in weather_data]\n",
    "    return dict(temp)"
   ]
  },
  {
   "cell_type": "code",
   "execution_count": 7,
   "metadata": {
    "collapsed": false
   },
   "outputs": [
    {
     "data": {
      "text/plain": [
       "{u'fog': u'1',\n",
       " u'hail': u'0',\n",
       " u'maxhumidity': u'96',\n",
       " u'meandewptm': u'3',\n",
       " u'meanpressurem': u'1008',\n",
       " u'meantempm': u'10',\n",
       " u'meanvism': u'13',\n",
       " u'meanwdird': u'261',\n",
       " u'meanwindspdm': u'27',\n",
       " u'minhumidity': u'35',\n",
       " u'precipm': u'1.52',\n",
       " u'rain': u'1',\n",
       " u'snow': u'0',\n",
       " u'snowdepthm': u'0.00',\n",
       " u'snowfallm': u'0.00',\n",
       " u'thunder': u'0'}"
      ]
     },
     "execution_count": 7,
     "metadata": {},
     "output_type": "execute_result"
    }
   ],
   "source": [
    "output_dict(examp['history']['dailysummary'][0])"
   ]
  },
  {
   "cell_type": "code",
   "execution_count": 8,
   "metadata": {
    "collapsed": false
   },
   "outputs": [
    {
     "data": {
      "text/html": [
       "<div>\n",
       "<table border=\"1\" class=\"dataframe\">\n",
       "  <thead>\n",
       "    <tr style=\"text-align: right;\">\n",
       "      <th></th>\n",
       "      <th>track</th>\n",
       "      <th>year</th>\n",
       "      <th>month</th>\n",
       "      <th>day</th>\n",
       "    </tr>\n",
       "  </thead>\n",
       "  <tbody>\n",
       "    <tr>\n",
       "      <th>0</th>\n",
       "      <td>AQU</td>\n",
       "      <td>1998</td>\n",
       "      <td>10</td>\n",
       "      <td>28</td>\n",
       "    </tr>\n",
       "    <tr>\n",
       "      <th>1</th>\n",
       "      <td>AQU</td>\n",
       "      <td>1998</td>\n",
       "      <td>10</td>\n",
       "      <td>29</td>\n",
       "    </tr>\n",
       "    <tr>\n",
       "      <th>2</th>\n",
       "      <td>AQU</td>\n",
       "      <td>1998</td>\n",
       "      <td>10</td>\n",
       "      <td>30</td>\n",
       "    </tr>\n",
       "    <tr>\n",
       "      <th>3</th>\n",
       "      <td>AQU</td>\n",
       "      <td>1998</td>\n",
       "      <td>10</td>\n",
       "      <td>31</td>\n",
       "    </tr>\n",
       "    <tr>\n",
       "      <th>4</th>\n",
       "      <td>AQU</td>\n",
       "      <td>1998</td>\n",
       "      <td>11</td>\n",
       "      <td>1</td>\n",
       "    </tr>\n",
       "  </tbody>\n",
       "</table>\n",
       "</div>"
      ],
      "text/plain": [
       "  track  year  month  day\n",
       "0   AQU  1998     10   28\n",
       "1   AQU  1998     10   29\n",
       "2   AQU  1998     10   30\n",
       "3   AQU  1998     10   31\n",
       "4   AQU  1998     11    1"
      ]
     },
     "execution_count": 8,
     "metadata": {},
     "output_type": "execute_result"
    }
   ],
   "source": [
    "# read in the csv of dates we want to get weather data for from previous scraping \n",
    "datesdf = pd.read_csv(\"tempdata/usadays.csv\")\n",
    "datesdf.drop('track.1',axis=1, inplace=True)\n",
    "datesdf.head()"
   ]
  },
  {
   "cell_type": "code",
   "execution_count": null,
   "metadata": {
    "collapsed": true
   },
   "outputs": [],
   "source": [
    "# convert date components to strings and add a 0 before single digit month/days\n",
    "datesdf[['year', 'month', 'day']] = datesdf[['year', 'month', 'day']].astype(str)\n",
    "for line in datesdf.index:\n",
    "    if len(datesdf.loc[line]['month']) == 1:\n",
    "        datesdf.loc[line]['month'] = '0' + datesdf.loc[line]['month']\n",
    "    if len(datesdf.loc[line]['day']) == 1:\n",
    "        datesdf.loc[line]['day'] = '0' + datesdf.loc[line]['day']\n",
    "\n",
    "# dictionary keyed by track to store corresponding date strings\n",
    "dates_dict = {}\n",
    "\n",
    "# stores all dates on which races occurred for a given track identifier\n",
    "for track in datesdf.track.unique():\n",
    "    datestring = []\n",
    "    for row in datesdf.index:\n",
    "        if datesdf.iloc[row]['track'] == track:\n",
    "            datestring.append(str(datesdf.iloc[row]['year']) + str(datesdf.iloc[row]['month']) + \n",
    "                              str(datesdf.iloc[row]['day']))\n",
    "    dates_dict[track] = datestring \n",
    "    \n",
    "# zipcodes for all U.S. tracks, looked up manually and arranged into alphabetical order (according to \n",
    "# track abbreviations)\n",
    "zips1 = ['11420', '60005','94403', '11003', '43123', '33056', '55379','40208', '23124', '25438', '70668', \n",
    "         '92014', '19804', '42420', '98001', '70570', '70119', '14425', '91768', '62234', '49415', '94710', \n",
    "         '33009', '60804', '46013', '90305', '46176', '40510', '42134', '20725', '71111', '75050', '90720', \n",
    "         '07073', '07757', '26047', '71901', '85023', '17028', '19020', '21215', '50009', '73111', '78154', \n",
    "         '45230', '77064', '91007', '12866', '60804', '02128', '33626', '44128', '21093', '41042']\n",
    "\n",
    "# obtained by manual lookup, arranged in alphabetical order (according to 3 letter track identifier)\n",
    "locs = datesdf.track.unique()\n",
    "\n",
    "# dictionary mapping track identifiers to zipcodes\n",
    "zips_dict1 = dict(zip(locs, zips1))"
   ]
  },
  {
   "cell_type": "markdown",
   "metadata": {},
   "source": [
    "This is the main scraping function for the weather data.  We went by zip code and date and pulled the entire html for each location and time.  "
   ]
  },
  {
   "cell_type": "code",
   "execution_count": null,
   "metadata": {
    "collapsed": true
   },
   "outputs": [],
   "source": [
    "# queries wunderground API for every track-date combination\n",
    "# stores results in dictionary keyed by (track id, date) tuple\n",
    "%%time\n",
    "weather_dict = {}\n",
    "except_list = []\n",
    "for key in dates_dict.keys():\n",
    "    for fdate in dates_dict[key]:\n",
    "        wunderground_url = 'http://api.wunderground.com/api/4a26cfc369eb7841/history_{}/q/{}.json'.format(fdate, zips_dict1[key])\n",
    "        try:\n",
    "            temp = json.loads(requests.get(wunderground_url).text)['history']['dailysummary'][0]\n",
    "            weather_dict[(key, fdate)] = output_dict(temp)\n",
    "        except:\n",
    "            except_list.append((key,fdate))"
   ]
  },
  {
   "cell_type": "code",
   "execution_count": null,
   "metadata": {
    "collapsed": true
   },
   "outputs": [],
   "source": [
    "## WARNING: do NOT run this line again ## \n",
    "# weather_df.to_csv('tempdata/weather.csv')"
   ]
  },
  {
   "cell_type": "markdown",
   "metadata": {},
   "source": [
    "We were able to save our data into a csv by running all the scraping and cleaning commands above, which gave us the following dataframe.  "
   ]
  },
  {
   "cell_type": "code",
   "execution_count": 4,
   "metadata": {
    "collapsed": false
   },
   "outputs": [
    {
     "data": {
      "text/html": [
       "<div>\n",
       "<table border=\"1\" class=\"dataframe\">\n",
       "  <thead>\n",
       "    <tr style=\"text-align: right;\">\n",
       "      <th></th>\n",
       "      <th>track</th>\n",
       "      <th>date</th>\n",
       "      <th>fog</th>\n",
       "      <th>hail</th>\n",
       "      <th>maxhumidity</th>\n",
       "      <th>meandewptm</th>\n",
       "      <th>meanpressurem</th>\n",
       "      <th>meantempm</th>\n",
       "      <th>meanvism</th>\n",
       "      <th>meanwdird</th>\n",
       "      <th>meanwindspdm</th>\n",
       "      <th>minhumidity</th>\n",
       "      <th>precipm</th>\n",
       "      <th>rain</th>\n",
       "      <th>snow</th>\n",
       "      <th>snowdepthm</th>\n",
       "      <th>snowfallm</th>\n",
       "      <th>thunder</th>\n",
       "    </tr>\n",
       "  </thead>\n",
       "  <tbody>\n",
       "    <tr>\n",
       "      <th>0</th>\n",
       "      <td>REM</td>\n",
       "      <td>2004-09-25</td>\n",
       "      <td>0</td>\n",
       "      <td>0</td>\n",
       "      <td>94</td>\n",
       "      <td>12</td>\n",
       "      <td>1021</td>\n",
       "      <td>21</td>\n",
       "      <td>11</td>\n",
       "      <td>13</td>\n",
       "      <td>8</td>\n",
       "      <td>23</td>\n",
       "      <td>0.00</td>\n",
       "      <td>0</td>\n",
       "      <td>0</td>\n",
       "      <td>NaN</td>\n",
       "      <td>0</td>\n",
       "      <td>0</td>\n",
       "    </tr>\n",
       "    <tr>\n",
       "      <th>1</th>\n",
       "      <td>DPK</td>\n",
       "      <td>2013-06-12</td>\n",
       "      <td>0</td>\n",
       "      <td>0</td>\n",
       "      <td>87</td>\n",
       "      <td>17</td>\n",
       "      <td>1010</td>\n",
       "      <td>24</td>\n",
       "      <td>16</td>\n",
       "      <td>299</td>\n",
       "      <td>14</td>\n",
       "      <td>47</td>\n",
       "      <td>0.00</td>\n",
       "      <td>0</td>\n",
       "      <td>0</td>\n",
       "      <td>0</td>\n",
       "      <td>0</td>\n",
       "      <td>0</td>\n",
       "    </tr>\n",
       "    <tr>\n",
       "      <th>2</th>\n",
       "      <td>FMT</td>\n",
       "      <td>2013-06-01</td>\n",
       "      <td>0</td>\n",
       "      <td>0</td>\n",
       "      <td>94</td>\n",
       "      <td>17</td>\n",
       "      <td>1009</td>\n",
       "      <td>22</td>\n",
       "      <td>15</td>\n",
       "      <td>182</td>\n",
       "      <td>10</td>\n",
       "      <td>61</td>\n",
       "      <td>12.95</td>\n",
       "      <td>1</td>\n",
       "      <td>0</td>\n",
       "      <td>NaN</td>\n",
       "      <td>0</td>\n",
       "      <td>1</td>\n",
       "    </tr>\n",
       "    <tr>\n",
       "      <th>3</th>\n",
       "      <td>PAR</td>\n",
       "      <td>2005-02-25</td>\n",
       "      <td>0</td>\n",
       "      <td>0</td>\n",
       "      <td>80</td>\n",
       "      <td>6</td>\n",
       "      <td>1012</td>\n",
       "      <td>13</td>\n",
       "      <td>16</td>\n",
       "      <td>30</td>\n",
       "      <td>8</td>\n",
       "      <td>38</td>\n",
       "      <td>0.00</td>\n",
       "      <td>0</td>\n",
       "      <td>0</td>\n",
       "      <td>NaN</td>\n",
       "      <td>0</td>\n",
       "      <td>0</td>\n",
       "    </tr>\n",
       "    <tr>\n",
       "      <th>4</th>\n",
       "      <td>BEU</td>\n",
       "      <td>2013-05-04</td>\n",
       "      <td>0</td>\n",
       "      <td>0</td>\n",
       "      <td>66</td>\n",
       "      <td>6</td>\n",
       "      <td>1017</td>\n",
       "      <td>17</td>\n",
       "      <td>16</td>\n",
       "      <td>101</td>\n",
       "      <td>16</td>\n",
       "      <td>40</td>\n",
       "      <td>0.00</td>\n",
       "      <td>0</td>\n",
       "      <td>0</td>\n",
       "      <td>NaN</td>\n",
       "      <td>0</td>\n",
       "      <td>0</td>\n",
       "    </tr>\n",
       "  </tbody>\n",
       "</table>\n",
       "</div>"
      ],
      "text/plain": [
       "  track        date  fog  hail  maxhumidity  meandewptm  meanpressurem  meantempm  meanvism  meanwdird  meanwindspdm  minhumidity  precipm  rain  snow  snowdepthm  snowfallm  thunder\n",
       "0   REM  2004-09-25    0     0           94          12           1021         21        11         13             8           23     0.00     0     0         NaN          0        0\n",
       "1   DPK  2013-06-12    0     0           87          17           1010         24        16        299            14           47     0.00     0     0           0          0        0\n",
       "2   FMT  2013-06-01    0     0           94          17           1009         22        15        182            10           61    12.95     1     0         NaN          0        1\n",
       "3   PAR  2005-02-25    0     0           80           6           1012         13        16         30             8           38     0.00     0     0         NaN          0        0\n",
       "4   BEU  2013-05-04    0     0           66           6           1017         17        16        101            16           40     0.00     0     0         NaN          0        0"
      ]
     },
     "execution_count": 4,
     "metadata": {},
     "output_type": "execute_result"
    }
   ],
   "source": [
    "weather_df = pd.read_csv(\"tempdata/weather.csv\", index_col=0)\n",
    "weather_df.head()"
   ]
  },
  {
   "cell_type": "markdown",
   "metadata": {},
   "source": [
    "### Cleaning the Weather Data  "
   ]
  },
  {
   "cell_type": "code",
   "execution_count": null,
   "metadata": {
    "collapsed": true
   },
   "outputs": [],
   "source": [
    "# converts all cells in date column to datetime objects\n",
    "weather_df.date = weather_df.date.apply(lambda x: datetime.datetime(int(str(x)[:4]), int(str(x)[4:6]), int(str(x)[6:])))"
   ]
  },
  {
   "cell_type": "code",
   "execution_count": null,
   "metadata": {
    "collapsed": true
   },
   "outputs": [],
   "source": [
    "# handles non-numberic entries in numberic columns\n",
    "weather_df.precipm.loc[weather_df.precipm ==\"T\"] = np.nan\n",
    "weather_df.snowdepthm.loc[weather_df.snowdepthm == \"T\"] = np.nan\n",
    "weather_df.snowfallm.loc[weather_df.snowfallm == \"T\"] = np.nan\n",
    "\n",
    "# casts all weather metrics as floats\n",
    "for col in weather_df.iloc[:,2:]:\n",
    "    weather_df[col] = weather_df[col].astype(float)\n",
    "weather_df.head()"
   ]
  },
  {
   "cell_type": "code",
   "execution_count": null,
   "metadata": {
    "collapsed": true
   },
   "outputs": [],
   "source": [
    "weather_df.to_csv('tempdata/weather.csv')"
   ]
  },
  {
   "cell_type": "markdown",
   "metadata": {},
   "source": [
    "### Test Data Scraping\n",
    "We obtained the full race results for the three test races of interest: The Kentucky Derby, The Preakness Downs, and the Belmont Stakes.  We obtained all this data from many Wikipedia pages, which proved very frustrating, as they were atrociously messy.  We ran into many corner cases, so that took a lot of investigation to account for.  "
   ]
  },
  {
   "cell_type": "code",
   "execution_count": null,
   "metadata": {
    "collapsed": true
   },
   "outputs": [],
   "source": [
    "## we create any empty dictionary which will hold all the html from the wikipedia pages \n",
    "pages = {}\n",
    "\n",
    "## we create a dictionary of track years linked to the track names for the races \n",
    "## Belmont Stakes only had data from 2006 onward, while for the other two, we got data from \n",
    "## 1998 onward as that is how far our training data goes \n",
    "years1 = [str(i) for i in range(1998,2016)]\n",
    "years2 = [str(i) for i in range(2006,2016)]\n",
    "track_year_dict = {\"_Kentucky_Derby\": years1, \"_Preakness_Stakes\": years1, \"_Belmont_Stakes\": years2}\n",
    "\n",
    "## obtaining all the html pages and putting them into our dictionary pages \n",
    "for key in track_year_dict.keys():\n",
    "    for year in track_year_dict[key]:\n",
    "        pages[year+key] = requests.get(\"https://en.wikipedia.org/wiki/{}\".format(year+key)).text\n",
    "        time.sleep(0.1)\n",
    "        \n",
    "# function to parse scraping output\n",
    "# returns 2 data frames, one for payouts and one for results for a given race in a given year\n",
    "def parser(key, page_dict):\n",
    "    soup = BeautifulSoup(page_dict[key], \"html.parser\")\n",
    "    tables = soup.find_all(\"table\", attrs={\"class\": \"wikitable\"})\n",
    "    \n",
    "    if len(tables[0].find_all(\"tr\")) <= 5:\n",
    "        table1 = tables[0].find_all(\"tr\")\n",
    "        table2 = tables[1].find_all(\"tr\")\n",
    "    else:\n",
    "        table1 = tables[1].find_all(\"tr\")\n",
    "        table2 = tables[0].find_all(\"tr\")\n",
    "    \n",
    "    t1headers = [elem.get_text() for elem in table1[0].find_all(\"th\")]\n",
    "    t2headers = [elem.get_text() for elem in table2[0].find_all(\"th\")]\n",
    "    if (key == \"2005_Kentucky_Derby\"):\n",
    "        t2headers.append(\"Time\")\n",
    "        t2headers[t2headers.index(\"Jockey\")] = \"Horse\"\n",
    "    \n",
    "    t1 = []\n",
    "    t2 = []\n",
    "    for row1 in table1[1:]:\n",
    "        r1_data = [cell.get_text() for cell in row1.find_all(\"td\")]\n",
    "        t1.append(r1_data)\n",
    "    for row2 in table2[1:]:\n",
    "        # handles cases where cells in horse column all have header tags\n",
    "        if row2.find(\"th\"):\n",
    "            r2_data = [cell.get_text() for cell in row2.find_all(\"td\")]\n",
    "            r2_data.insert(2, row2.find(\"th\").get_text())\n",
    "            t2.append(r2_data)\n",
    "        else:\n",
    "            r2_data = [cell.get_text() for cell in row2.find_all(\"td\")]\n",
    "            t2.append(r2_data)       \n",
    "    try:\n",
    "        payout = pd.DataFrame(t1, columns=t1headers)\n",
    "        results = pd.DataFrame(t2, columns=t2headers)\n",
    "    except Exception,e:\n",
    "        # handles 2015 Kentucky Derby results table, which doesn't have a header row\n",
    "        if key == \"2015_Kentucky_Derby\":\n",
    "            t1headers = [elem.get_text() for elem in table1[0].find_all(\"td\")]\n",
    "            payout = pd.DataFrame(t1, columns=t1headers)\n",
    "            results = pd.DataFrame(t2, columns=t2headers)\n",
    "        else:\n",
    "            print str(e)\n",
    "  \n",
    "    return (payout, results)\n",
    "\n",
    "# dictionary of data frames keyed by track-year string\n",
    "# values are tuples of data frames returned by parser\n",
    "bigdict = {key:parser(key, pages) for key in pages.keys()}\n",
    "\n",
    "# constructs single payouts data frame by concatenating all payout data frames contained in bigdict\n",
    "payouts_df = pd.DataFrame(columns=[\"Post\", \"Horse\", \"Win\", \"Place\", \"Show\", \"Track\", \"Year\"])\n",
    "for track in track_year_dict.keys():\n",
    "    for year in track_year_dict[track]:\n",
    "        access = year+track\n",
    "        bigdict[access][0].columns = [\"Post\", \"Horse\", \"Win\", \"Place\", \"Show\"]\n",
    "        bigdict[access][0][\"Track\"] = track\n",
    "        bigdict[access][0][\"Year\"] = year\n",
    "        payouts_df = pd.concat([payouts_df, bigdict[access][0]], ignore_index = True)"
   ]
  },
  {
   "cell_type": "code",
   "execution_count": 9,
   "metadata": {
    "collapsed": false
   },
   "outputs": [
    {
     "data": {
      "text/html": [
       "<div>\n",
       "<table border=\"1\" class=\"dataframe\">\n",
       "  <thead>\n",
       "    <tr style=\"text-align: right;\">\n",
       "      <th></th>\n",
       "      <th>Post</th>\n",
       "      <th>Horse</th>\n",
       "      <th>Win</th>\n",
       "      <th>Place</th>\n",
       "      <th>Show</th>\n",
       "      <th>Track</th>\n",
       "      <th>Year</th>\n",
       "    </tr>\n",
       "  </thead>\n",
       "  <tbody>\n",
       "    <tr>\n",
       "      <th>0</th>\n",
       "      <td>11</td>\n",
       "      <td>Real Quiet</td>\n",
       "      <td>$7.00</td>\n",
       "      <td>$3.60</td>\n",
       "      <td>$3.00</td>\n",
       "      <td>_Preakness_Stakes</td>\n",
       "      <td>1998</td>\n",
       "    </tr>\n",
       "    <tr>\n",
       "      <th>1</th>\n",
       "      <td>10</td>\n",
       "      <td>Victory Gallop</td>\n",
       "      <td>-</td>\n",
       "      <td>$3.20</td>\n",
       "      <td>$2.80</td>\n",
       "      <td>_Preakness_Stakes</td>\n",
       "      <td>1998</td>\n",
       "    </tr>\n",
       "    <tr>\n",
       "      <th>2</th>\n",
       "      <td>3</td>\n",
       "      <td>Classic Cat</td>\n",
       "      <td>-</td>\n",
       "      <td>-</td>\n",
       "      <td>$4.80</td>\n",
       "      <td>_Preakness_Stakes</td>\n",
       "      <td>1998</td>\n",
       "    </tr>\n",
       "    <tr>\n",
       "      <th>3</th>\n",
       "      <td>6</td>\n",
       "      <td>Charismatic</td>\n",
       "      <td>$18.80</td>\n",
       "      <td>$7.60</td>\n",
       "      <td>$5.80</td>\n",
       "      <td>_Preakness_Stakes</td>\n",
       "      <td>1999</td>\n",
       "    </tr>\n",
       "    <tr>\n",
       "      <th>4</th>\n",
       "      <td>5</td>\n",
       "      <td>Menifee</td>\n",
       "      <td>-</td>\n",
       "      <td>$3.60</td>\n",
       "      <td>$3.20</td>\n",
       "      <td>_Preakness_Stakes</td>\n",
       "      <td>1999</td>\n",
       "    </tr>\n",
       "  </tbody>\n",
       "</table>\n",
       "</div>"
      ],
      "text/plain": [
       "   Post           Horse     Win  Place   Show              Track  Year\n",
       "0    11      Real Quiet   $7.00  $3.60  $3.00  _Preakness_Stakes  1998\n",
       "1    10  Victory Gallop       -  $3.20  $2.80  _Preakness_Stakes  1998\n",
       "2     3     Classic Cat       -      -  $4.80  _Preakness_Stakes  1998\n",
       "3     6     Charismatic  $18.80  $7.60  $5.80  _Preakness_Stakes  1999\n",
       "4     5         Menifee       -  $3.60  $3.20  _Preakness_Stakes  1999"
      ]
     },
     "execution_count": 9,
     "metadata": {},
     "output_type": "execute_result"
    }
   ],
   "source": [
    "payouts_df = pd.read_csv(\"tempdata/payouts.csv\", index_col=0)\n",
    "payouts_df.head()"
   ]
  },
  {
   "cell_type": "code",
   "execution_count": 10,
   "metadata": {
    "collapsed": true
   },
   "outputs": [],
   "source": [
    "# function to clean \"Win\", \"Place\", and \"Show\" columns above\n",
    "# converts strings to ints\n",
    "def dollar_clean(inpt):\n",
    "    try:\n",
    "        if \"$\" in inpt:\n",
    "            a = inpt.split(\"$\")\n",
    "            a = a[1]\n",
    "            if \" \" in a:\n",
    "                b = a.split(\" \")\n",
    "                c = b[1]\n",
    "                return float(c)\n",
    "            else:\n",
    "                return float(a)\n",
    "        else:\n",
    "            return float(inpt)\n",
    "    except:\n",
    "        return inpt\n",
    "    \n",
    "# function to handle non-numeric entries in \"Post\" column above\n",
    "def clean_post(inpt):\n",
    "    try:\n",
    "        return int(inpt)\n",
    "    except:\n",
    "        return 0"
   ]
  },
  {
   "cell_type": "code",
   "execution_count": 11,
   "metadata": {
    "collapsed": false
   },
   "outputs": [
    {
     "data": {
      "text/html": [
       "<div>\n",
       "<table border=\"1\" class=\"dataframe\">\n",
       "  <thead>\n",
       "    <tr style=\"text-align: right;\">\n",
       "      <th></th>\n",
       "      <th>Post</th>\n",
       "      <th>Horse</th>\n",
       "      <th>Win</th>\n",
       "      <th>Place</th>\n",
       "      <th>Show</th>\n",
       "      <th>Track</th>\n",
       "      <th>Year</th>\n",
       "    </tr>\n",
       "  </thead>\n",
       "  <tbody>\n",
       "    <tr>\n",
       "      <th>0</th>\n",
       "      <td>11</td>\n",
       "      <td>Real Quiet</td>\n",
       "      <td>7.0</td>\n",
       "      <td>3.6</td>\n",
       "      <td>3.0</td>\n",
       "      <td>_Preakness_Stakes</td>\n",
       "      <td>1998</td>\n",
       "    </tr>\n",
       "    <tr>\n",
       "      <th>1</th>\n",
       "      <td>10</td>\n",
       "      <td>Victory Gallop</td>\n",
       "      <td>NaN</td>\n",
       "      <td>3.2</td>\n",
       "      <td>2.8</td>\n",
       "      <td>_Preakness_Stakes</td>\n",
       "      <td>1998</td>\n",
       "    </tr>\n",
       "    <tr>\n",
       "      <th>2</th>\n",
       "      <td>3</td>\n",
       "      <td>Classic Cat</td>\n",
       "      <td>NaN</td>\n",
       "      <td>NaN</td>\n",
       "      <td>4.8</td>\n",
       "      <td>_Preakness_Stakes</td>\n",
       "      <td>1998</td>\n",
       "    </tr>\n",
       "    <tr>\n",
       "      <th>3</th>\n",
       "      <td>6</td>\n",
       "      <td>Charismatic</td>\n",
       "      <td>18.8</td>\n",
       "      <td>7.6</td>\n",
       "      <td>5.8</td>\n",
       "      <td>_Preakness_Stakes</td>\n",
       "      <td>1999</td>\n",
       "    </tr>\n",
       "    <tr>\n",
       "      <th>4</th>\n",
       "      <td>5</td>\n",
       "      <td>Menifee</td>\n",
       "      <td>NaN</td>\n",
       "      <td>3.6</td>\n",
       "      <td>3.2</td>\n",
       "      <td>_Preakness_Stakes</td>\n",
       "      <td>1999</td>\n",
       "    </tr>\n",
       "  </tbody>\n",
       "</table>\n",
       "</div>"
      ],
      "text/plain": [
       "   Post           Horse   Win  Place  Show              Track  Year\n",
       "0    11      Real Quiet   7.0    3.6   3.0  _Preakness_Stakes  1998\n",
       "1    10  Victory Gallop   NaN    3.2   2.8  _Preakness_Stakes  1998\n",
       "2     3     Classic Cat   NaN    NaN   4.8  _Preakness_Stakes  1998\n",
       "3     6     Charismatic  18.8    7.6   5.8  _Preakness_Stakes  1999\n",
       "4     5         Menifee   NaN    3.6   3.2  _Preakness_Stakes  1999"
      ]
     },
     "execution_count": 11,
     "metadata": {},
     "output_type": "execute_result"
    }
   ],
   "source": [
    "# clean payouts df\n",
    "payouts_df.replace(\"-\", np.nan, inplace=True)\n",
    "payouts_df.replace(u\"\\u2013\", np.nan, inplace=True)\n",
    "payouts_df.replace(\"\", np.nan, inplace=True)\n",
    "payouts_df.Post = payouts_df.Post.apply(clean_post)\n",
    "payouts_df.Win = payouts_df.Win.apply(dollar_clean)\n",
    "payouts_df.Place = payouts_df.Place.apply(dollar_clean)\n",
    "payouts_df.Show = payouts_df.Show.apply(dollar_clean)\n",
    "payouts_df.head()"
   ]
  },
  {
   "cell_type": "code",
   "execution_count": null,
   "metadata": {
    "collapsed": true
   },
   "outputs": [],
   "source": [
    "def any_in(my_list, comp_list):\n",
    "    ret_list = []\n",
    "    for item in my_list:\n",
    "        if item in comp_list:\n",
    "            ret_list.append(item)\n",
    "    return ret_list\n",
    "\n",
    "def dropper(df, my_list):\n",
    "    drops = any_in(my_list, df.columns)\n",
    "    df.drop(drops, axis=1, inplace=True)\n",
    "    return df\n",
    "\n",
    "def renamer(df, old_names, new_name):\n",
    "    if any_in(old_names, df.columns):\n",
    "        rename = any_in(old_names, df.columns)[0]\n",
    "        newcolnms = list(df.columns)\n",
    "        index = newcolnms.index(rename)\n",
    "        newcolnms[index] = new_name\n",
    "        df.columns = newcolnms\n",
    "    \n",
    "    \n",
    "drop_list = [\"Trainer\", \"Jockey\", \"Owner\", \"Lengths\\nBehind\", \"Time / behind\", \"Time/\\nBehind\", \n",
    "             \"Trainer\\n\\n\", \"Points[7]\", \"Points\", \"Previous Race\", \"Time\"]\n",
    "Horse = [\"Horse name\"]\n",
    "Finish = [\"Finish\\nPosition\", \"Finish[2]\", \"Results\", \"Finished\", \"Position\", \"Finish\\nposition\", \"Finish\"]\n",
    "Post = [\"Post\\nPosition\", \"Number\", \"Program\\nNumber\", \"Post\\nposition\", \"Pgm\", \"Post\"]\n",
    "Stakes = [\"Stake\", \"Purse\\nEarnings\", \"Stakes\"]\n",
    "MOdds = [\"Morning Line\\nOdds\", \"Morning\\nline\\nodds\", \"Opening odds (to 1)\", \"Opening Odds\", \"Morning\\nodds[3]\",\n",
    "        \"Morning Line Odds\", \"Morning Line\\nodds\", \"Morning\\nOdds[3]\", \"Opening\\nOdds\"]\n",
    "POdds = [\"Final\\nodds[1]\", \"Post Time\\nOdds\", \"Final odds[4]\", \"Post Time\\nodds\", \"Final Odds\", \"Final Odds[2]\",\n",
    "        \"Final odds\", \"Final odds\\nto $1[1]\", \"Odds\"]\n",
    "\n",
    "for k in bigdict.keys():\n",
    "    dropper(bigdict[k][1], drop_list)\n",
    "    renamer(bigdict[k][1], Horse, \"Horse\")\n",
    "    renamer(bigdict[k][1], Finish, \"Finish\")\n",
    "    renamer(bigdict[k][1], Post, \"Post\")\n",
    "    renamer(bigdict[k][1], Stakes, \"Stakes\")\n",
    "    renamer(bigdict[k][1], MOdds, \"Morning Line Odds\")\n",
    "    renamer(bigdict[k][1], POdds, \"Post Time Odds\")"
   ]
  },
  {
   "cell_type": "code",
   "execution_count": null,
   "metadata": {
    "collapsed": true
   },
   "outputs": [],
   "source": [
    "results_df = pd.DataFrame(columns=[\"Track\", \"Year\", \"Finish\", \"Post\", \"Horse\", \"Morning Line Odds\", \"Post Time Odds\", \"Stakes\"])\n",
    "for track in track_year_dict.keys():\n",
    "    for year in track_year_dict[track]:\n",
    "        access = year+track\n",
    "        bigdict[access][1]['Track'] = track\n",
    "        bigdict[access][1]['Year'] = year\n",
    "        results_df = pd.concat([results_df, bigdict[access][1]], ignore_index = True)"
   ]
  },
  {
   "cell_type": "code",
   "execution_count": null,
   "metadata": {
    "collapsed": true
   },
   "outputs": [],
   "source": [
    "for c in [\"Morning Line Odds\", \"Post Time Odds\"]:\n",
    "    for i in results_df.loc[(results_df.Track == \"_Belmont_Stakes\")&(results_df.Year == \"2015\")].index:\n",
    "        results_df[c].iloc[i] = results_df[c].iloc[i][20:]\n",
    "results_df.head()"
   ]
  },
  {
   "cell_type": "code",
   "execution_count": null,
   "metadata": {
    "collapsed": true
   },
   "outputs": [],
   "source": [
    "# http://stackoverflow.com/questions/944700/how-to-check-for-nan-in-python\n",
    "def isNaN(num):\n",
    "    return num != num\n",
    "\n",
    "def make_odds(item):\n",
    "    try:\n",
    "        if (item == \"scr\") or (item == \"Scr\") or (item == \"SCR\") or (item == \"DNR\"):\n",
    "            return 0\n",
    "        elif \" !\" in item: \n",
    "            return float(item[0:4])\n",
    "        \n",
    "        q = item.split(u'\\u2660')\n",
    "        if len(q) > 1:\n",
    "            q = q[1]\n",
    "        else:\n",
    "            q = q[0]\n",
    "        \n",
    "        y = q.split(\"\\n\")\n",
    "        if \"-\" in y[0]: \n",
    "            x = y[0].split(\"-\")\n",
    "        elif u\"\\u2014\" in y[0]:\n",
    "            x = y[0].split(u\"\\u2014\")\n",
    "        if len(x) > 1:\n",
    "            return float(x[0])/float(x[1])\n",
    "        else:\n",
    "            \n",
    "            return float(a[0])\n",
    "    except Exception, e:\n",
    "        return item\n",
    "\n",
    "def clean_finish(inpt):\n",
    "    if not isinstance(inpt, int):\n",
    "        if len(inpt) > 2 and inpt[:-2].isdigit():\n",
    "            return int(inpt[:-2])\n",
    "        elif inpt.isdigit():\n",
    "            return int(inpt)\n",
    "        else:\n",
    "            return 0\n",
    "    else:\n",
    "        return inpt"
   ]
  },
  {
   "cell_type": "code",
   "execution_count": null,
   "metadata": {
    "collapsed": true
   },
   "outputs": [],
   "source": [
    "smallresults_df = results_df[[\"Finish\", \"Post\", \"Horse\", \"Morning Line Odds\", \"Post Time Odds\", \"Track\", \"Year\"]]\n",
    "smallresults_df[\"Odds\"] = np.nan\n",
    "for num in smallresults_df.index:\n",
    "    if not isNaN(smallresults_df[\"Morning Line Odds\"].iloc[num]):\n",
    "        smallresults_df[\"Odds\"].iloc[num] = smallresults_df[\"Morning Line Odds\"].iloc[num]\n",
    "    else:\n",
    "        smallresults_df[\"Odds\"].iloc[num] = smallresults_df[\"Post Time Odds\"].iloc[num]\n",
    "smallresults_df.drop([\"Morning Line Odds\", \"Post Time Odds\"], axis=1, inplace=True)\n",
    "smallresults_df[\"Odds2\"] = smallresults_df.Odds.apply(make_odds)\n",
    "smallresults_df.head()"
   ]
  },
  {
   "cell_type": "code",
   "execution_count": null,
   "metadata": {
    "collapsed": true
   },
   "outputs": [],
   "source": [
    "#smallresults_df.to_csv('tempdata/smallresults.csv', encoding=\"utf8\")"
   ]
  },
  {
   "cell_type": "code",
   "execution_count": null,
   "metadata": {
    "collapsed": true
   },
   "outputs": [],
   "source": [
    "smallresults_clean = pd.read_csv(\"tempdata/109_OddsDF.csv\", index_col=0)\n",
    "smallresults_clean[\"Odds\"] = smallresults_clean[\"Odds2\"]\n",
    "smallresults_clean.drop(\"Odds2\", axis=1, inplace=True)\n",
    "smallresults_clean = smallresults_clean.reset_index()\n",
    "smallresults_clean.drop(\"index\", axis=1, inplace=True)\n",
    "smallresults_clean.Horse.iloc[190] = smallresults_clean.Horse.iloc[190][:-3]\n",
    "smallresults_clean.Post.iloc[528:540] = [8,9,2,11,6,3,1,4,12,5,7,10]\n",
    "smallresults_clean.Finish.iloc[557:562] = [1,2,3,4,5]\n",
    "smallresults_clean.Finish.iloc[615:617] = [4,4]\n",
    "smallresults_clean.Finish = smallresults_clean.Finish.apply(clean_finish)\n",
    "smallresults_clean.Post = smallresults_clean.Post.apply(clean_post)\n",
    "smallresults_clean.Year = smallresults_clean.Year.astype(str)"
   ]
  },
  {
   "cell_type": "code",
   "execution_count": null,
   "metadata": {
    "collapsed": true
   },
   "outputs": [],
   "source": [
    "smallresults_clean.to_csv(\"tempdata/smallresults_clean.csv\")"
   ]
  },
  {
   "cell_type": "code",
   "execution_count": null,
   "metadata": {
    "collapsed": true
   },
   "outputs": [],
   "source": [
    "result_testdf = pd.merge(payouts_df, smallresults_clean, how=\"right\", on=[\"Track\", \"Year\", \"Horse\", \"Post\"])"
   ]
  },
  {
   "cell_type": "code",
   "execution_count": null,
   "metadata": {
    "collapsed": true
   },
   "outputs": [],
   "source": [
    "result_testdf.to_csv(\"tempdata/result_testdf.csv\")"
   ]
  },
  {
   "cell_type": "markdown",
   "metadata": {},
   "source": [
    "### Cleaning up above data to make it the format we want "
   ]
  },
  {
   "cell_type": "code",
   "execution_count": 45,
   "metadata": {
    "collapsed": false
   },
   "outputs": [
    {
     "data": {
      "text/html": [
       "<div>\n",
       "<table border=\"1\" class=\"dataframe\">\n",
       "  <thead>\n",
       "    <tr style=\"text-align: right;\">\n",
       "      <th></th>\n",
       "      <th>track</th>\n",
       "      <th>year</th>\n",
       "      <th>month</th>\n",
       "      <th>day</th>\n",
       "      <th>racenum</th>\n",
       "      <th>firstnum</th>\n",
       "      <th>first</th>\n",
       "      <th>secondnum</th>\n",
       "      <th>second</th>\n",
       "      <th>thirdnum</th>\n",
       "      <th>third</th>\n",
       "      <th>win</th>\n",
       "      <th>place1</th>\n",
       "      <th>place2</th>\n",
       "      <th>show1</th>\n",
       "      <th>show2</th>\n",
       "      <th>show3</th>\n",
       "    </tr>\n",
       "  </thead>\n",
       "  <tbody>\n",
       "    <tr>\n",
       "      <th>0</th>\n",
       "      <td>AQU</td>\n",
       "      <td>1998</td>\n",
       "      <td>10</td>\n",
       "      <td>28</td>\n",
       "      <td>1</td>\n",
       "      <td>3</td>\n",
       "      <td>CURVY IMAGE</td>\n",
       "      <td>6</td>\n",
       "      <td>DYNABILITY</td>\n",
       "      <td>2</td>\n",
       "      <td>ALYDAR'S JET</td>\n",
       "      <td>6.3</td>\n",
       "      <td>3.8</td>\n",
       "      <td>5.9</td>\n",
       "      <td>3.0</td>\n",
       "      <td>4.3</td>\n",
       "      <td>5.0</td>\n",
       "    </tr>\n",
       "    <tr>\n",
       "      <th>1</th>\n",
       "      <td>AQU</td>\n",
       "      <td>1998</td>\n",
       "      <td>10</td>\n",
       "      <td>28</td>\n",
       "      <td>2</td>\n",
       "      <td>3</td>\n",
       "      <td>MILLIONDOLLARSMILE</td>\n",
       "      <td>8</td>\n",
       "      <td>THIS BLISS</td>\n",
       "      <td>2</td>\n",
       "      <td>DOUBLE COVERAGE</td>\n",
       "      <td>14.0</td>\n",
       "      <td>4.8</td>\n",
       "      <td>3.4</td>\n",
       "      <td>3.1</td>\n",
       "      <td>2.6</td>\n",
       "      <td>3.0</td>\n",
       "    </tr>\n",
       "    <tr>\n",
       "      <th>2</th>\n",
       "      <td>AQU</td>\n",
       "      <td>1998</td>\n",
       "      <td>10</td>\n",
       "      <td>28</td>\n",
       "      <td>3</td>\n",
       "      <td>6</td>\n",
       "      <td>ROOK</td>\n",
       "      <td>2</td>\n",
       "      <td>ALEXTHETHIRD</td>\n",
       "      <td>8</td>\n",
       "      <td>LITTLE GHAZI</td>\n",
       "      <td>6.5</td>\n",
       "      <td>3.4</td>\n",
       "      <td>3.5</td>\n",
       "      <td>2.4</td>\n",
       "      <td>2.2</td>\n",
       "      <td>2.2</td>\n",
       "    </tr>\n",
       "    <tr>\n",
       "      <th>3</th>\n",
       "      <td>AQU</td>\n",
       "      <td>1998</td>\n",
       "      <td>10</td>\n",
       "      <td>28</td>\n",
       "      <td>4</td>\n",
       "      <td>2</td>\n",
       "      <td>WAPO</td>\n",
       "      <td>4</td>\n",
       "      <td>AUNT EVIE</td>\n",
       "      <td>8</td>\n",
       "      <td>WINTER BID</td>\n",
       "      <td>6.2</td>\n",
       "      <td>5.1</td>\n",
       "      <td>67.0</td>\n",
       "      <td>2.8</td>\n",
       "      <td>11.6</td>\n",
       "      <td>2.1</td>\n",
       "    </tr>\n",
       "    <tr>\n",
       "      <th>4</th>\n",
       "      <td>AQU</td>\n",
       "      <td>1998</td>\n",
       "      <td>10</td>\n",
       "      <td>28</td>\n",
       "      <td>5</td>\n",
       "      <td>8</td>\n",
       "      <td>FUNNY TOY (ARG)</td>\n",
       "      <td>6</td>\n",
       "      <td>KANE KATI</td>\n",
       "      <td>1</td>\n",
       "      <td>MT. ARROW</td>\n",
       "      <td>16.0</td>\n",
       "      <td>7.7</td>\n",
       "      <td>6.3</td>\n",
       "      <td>3.5</td>\n",
       "      <td>3.9</td>\n",
       "      <td>3.1</td>\n",
       "    </tr>\n",
       "  </tbody>\n",
       "</table>\n",
       "</div>"
      ],
      "text/plain": [
       "  track  year  month  day racenum firstnum               first secondnum        second thirdnum            third   win  place1  place2  show1  show2  show3\n",
       "0   AQU  1998     10   28       1        3         CURVY IMAGE         6    DYNABILITY        2     ALYDAR'S JET   6.3     3.8     5.9    3.0    4.3    5.0\n",
       "1   AQU  1998     10   28       2        3  MILLIONDOLLARSMILE         8    THIS BLISS        2  DOUBLE COVERAGE  14.0     4.8     3.4    3.1    2.6    3.0\n",
       "2   AQU  1998     10   28       3        6                ROOK         2  ALEXTHETHIRD        8     LITTLE GHAZI   6.5     3.4     3.5    2.4    2.2    2.2\n",
       "3   AQU  1998     10   28       4        2                WAPO         4     AUNT EVIE        8       WINTER BID   6.2     5.1    67.0    2.8   11.6    2.1\n",
       "4   AQU  1998     10   28       5        8     FUNNY TOY (ARG)         6     KANE KATI        1        MT. ARROW  16.0     7.7     6.3    3.5    3.9    3.1"
      ]
     },
     "execution_count": 45,
     "metadata": {},
     "output_type": "execute_result"
    }
   ],
   "source": [
    "cleandf = pd.read_csv(\"tempdata/cleandf.csv\", index_col=0); \n",
    "cleandf.head() "
   ]
  },
  {
   "cell_type": "code",
   "execution_count": 46,
   "metadata": {
    "collapsed": true
   },
   "outputs": [
    {
     "name": "stderr",
     "output_type": "stream",
     "text": [
      "/Users/morganfbreitmeyer/anaconda/lib/python2.7/site-packages/IPython/kernel/__main__.py:7: SettingWithCopyWarning: \n",
      "A value is trying to be set on a copy of a slice from a DataFrame.\n",
      "Try using .loc[row_indexer,col_indexer] = value instead\n",
      "\n",
      "See the the caveats in the documentation: http://pandas.pydata.org/pandas-docs/stable/indexing.html#indexing-view-versus-copy\n",
      "/Users/morganfbreitmeyer/anaconda/lib/python2.7/site-packages/IPython/kernel/__main__.py:8: SettingWithCopyWarning: \n",
      "A value is trying to be set on a copy of a slice from a DataFrame.\n",
      "Try using .loc[row_indexer,col_indexer] = value instead\n",
      "\n",
      "See the the caveats in the documentation: http://pandas.pydata.org/pandas-docs/stable/indexing.html#indexing-view-versus-copy\n",
      "/Users/morganfbreitmeyer/anaconda/lib/python2.7/site-packages/IPython/kernel/__main__.py:9: SettingWithCopyWarning: \n",
      "A value is trying to be set on a copy of a slice from a DataFrame.\n",
      "Try using .loc[row_indexer,col_indexer] = value instead\n",
      "\n",
      "See the the caveats in the documentation: http://pandas.pydata.org/pandas-docs/stable/indexing.html#indexing-view-versus-copy\n",
      "/Users/morganfbreitmeyer/anaconda/lib/python2.7/site-packages/IPython/kernel/__main__.py:16: SettingWithCopyWarning: \n",
      "A value is trying to be set on a copy of a slice from a DataFrame.\n",
      "Try using .loc[row_indexer,col_indexer] = value instead\n",
      "\n",
      "See the the caveats in the documentation: http://pandas.pydata.org/pandas-docs/stable/indexing.html#indexing-view-versus-copy\n",
      "/Users/morganfbreitmeyer/anaconda/lib/python2.7/site-packages/IPython/kernel/__main__.py:17: SettingWithCopyWarning: \n",
      "A value is trying to be set on a copy of a slice from a DataFrame.\n",
      "Try using .loc[row_indexer,col_indexer] = value instead\n",
      "\n",
      "See the the caveats in the documentation: http://pandas.pydata.org/pandas-docs/stable/indexing.html#indexing-view-versus-copy\n",
      "/Users/morganfbreitmeyer/anaconda/lib/python2.7/site-packages/IPython/kernel/__main__.py:20: SettingWithCopyWarning: \n",
      "A value is trying to be set on a copy of a slice from a DataFrame.\n",
      "Try using .loc[row_indexer,col_indexer] = value instead\n",
      "\n",
      "See the the caveats in the documentation: http://pandas.pydata.org/pandas-docs/stable/indexing.html#indexing-view-versus-copy\n",
      "/Users/morganfbreitmeyer/anaconda/lib/python2.7/site-packages/IPython/kernel/__main__.py:21: SettingWithCopyWarning: \n",
      "A value is trying to be set on a copy of a slice from a DataFrame.\n",
      "Try using .loc[row_indexer,col_indexer] = value instead\n",
      "\n",
      "See the the caveats in the documentation: http://pandas.pydata.org/pandas-docs/stable/indexing.html#indexing-view-versus-copy\n",
      "/Users/morganfbreitmeyer/anaconda/lib/python2.7/site-packages/IPython/kernel/__main__.py:23: SettingWithCopyWarning: \n",
      "A value is trying to be set on a copy of a slice from a DataFrame.\n",
      "Try using .loc[row_indexer,col_indexer] = value instead\n",
      "\n",
      "See the the caveats in the documentation: http://pandas.pydata.org/pandas-docs/stable/indexing.html#indexing-view-versus-copy\n",
      "/Users/morganfbreitmeyer/anaconda/lib/python2.7/site-packages/IPython/kernel/__main__.py:24: SettingWithCopyWarning: \n",
      "A value is trying to be set on a copy of a slice from a DataFrame.\n",
      "Try using .loc[row_indexer,col_indexer] = value instead\n",
      "\n",
      "See the the caveats in the documentation: http://pandas.pydata.org/pandas-docs/stable/indexing.html#indexing-view-versus-copy\n",
      "/Users/morganfbreitmeyer/anaconda/lib/python2.7/site-packages/IPython/kernel/__main__.py:26: SettingWithCopyWarning: \n",
      "A value is trying to be set on a copy of a slice from a DataFrame\n",
      "\n",
      "See the the caveats in the documentation: http://pandas.pydata.org/pandas-docs/stable/indexing.html#indexing-view-versus-copy\n",
      "/Users/morganfbreitmeyer/anaconda/lib/python2.7/site-packages/IPython/kernel/__main__.py:27: SettingWithCopyWarning: \n",
      "A value is trying to be set on a copy of a slice from a DataFrame\n",
      "\n",
      "See the the caveats in the documentation: http://pandas.pydata.org/pandas-docs/stable/indexing.html#indexing-view-versus-copy\n",
      "/Users/morganfbreitmeyer/anaconda/lib/python2.7/site-packages/IPython/kernel/__main__.py:28: SettingWithCopyWarning: \n",
      "A value is trying to be set on a copy of a slice from a DataFrame\n",
      "\n",
      "See the the caveats in the documentation: http://pandas.pydata.org/pandas-docs/stable/indexing.html#indexing-view-versus-copy\n"
     ]
    }
   ],
   "source": [
    "cleandf[\"date\"] = [datetime.datetime(cleandf.year.iloc[row],cleandf.month.iloc[row],cleandf.day.iloc[row]) for row in cleandf.index]; \n",
    "cleandf.drop([\"year\", \"month\", \"day\"], inplace = True, axis =1 ); \n",
    "\n",
    "subdf1 = cleandf[[\"track\", \"racenum\", \"date\", \"firstnum\", \"first\", \"win\", \"place1\", \"place2\", \"show1\", \"show2\", \"show3\"]]; \n",
    "subdf2 = cleandf[[\"track\", \"racenum\", \"date\", \"secondnum\", \"second\", \"win\", \"place1\", \"place2\", \"show1\", \"show2\", \"show3\"]]; \n",
    "subdf3 = cleandf[[\"track\", \"racenum\", \"date\", \"thirdnum\", \"third\", \"win\", \"place1\", \"place2\", \"show1\", \"show2\", \"show3\"]]; \n",
    "subdf1[\"fin_pos\"] = 1; \n",
    "subdf2[\"fin_pos\"] = 2; \n",
    "subdf3[\"fin_pos\"] = 3; \n",
    "\n",
    "subdf1.rename(columns={'firstnum': 'post', 'first': 'name'}, inplace=True); \n",
    "subdf2.rename(columns={'secondnum': 'post', 'second': 'name'}, inplace=True); \n",
    "subdf3.rename(columns={'thirdnum': 'post', 'third': 'name'}, inplace=True); \n",
    "\n",
    "subdf3.win = 0; \n",
    "subdf3[\"place\"] = 0;  \n",
    "subdf3[\"show\"] = subdf3.show3; \n",
    "\n",
    "subdf2.win = 0; \n",
    "subdf2[\"place\"] = subdf2.place2;  \n",
    "subdf2[\"show\"] = subdf2.show2; \n",
    "\n",
    "subdf1[\"place\"] = subdf1.place1;  \n",
    "subdf1[\"show\"] = subdf1.show1;  \n",
    "\n",
    "subdf1.drop([\"place1\", \"place2\", \"show1\", \"show2\", \"show3\"], inplace = True, axis =1 ); \n",
    "subdf2.drop([\"place1\", \"place2\", \"show1\", \"show2\", \"show3\"], inplace = True, axis =1 ); \n",
    "subdf3.drop([\"place1\", \"place2\", \"show1\", \"show2\", \"show3\"], inplace = True, axis =1 ); \n",
    "\n",
    "frames = [subdf1, subdf2, subdf3]; \n",
    "final_race_df = pd.concat(frames); "
   ]
  },
  {
   "cell_type": "code",
   "execution_count": 47,
   "metadata": {
    "collapsed": false
   },
   "outputs": [
    {
     "data": {
      "text/html": [
       "<div>\n",
       "<table border=\"1\" class=\"dataframe\">\n",
       "  <thead>\n",
       "    <tr style=\"text-align: right;\">\n",
       "      <th></th>\n",
       "      <th>track</th>\n",
       "      <th>racenum</th>\n",
       "      <th>date</th>\n",
       "      <th>post</th>\n",
       "      <th>name</th>\n",
       "      <th>win</th>\n",
       "      <th>fin_pos</th>\n",
       "      <th>place</th>\n",
       "      <th>show</th>\n",
       "    </tr>\n",
       "  </thead>\n",
       "  <tbody>\n",
       "    <tr>\n",
       "      <th>0</th>\n",
       "      <td>AQU</td>\n",
       "      <td>1</td>\n",
       "      <td>1998-10-28</td>\n",
       "      <td>3</td>\n",
       "      <td>CURVY IMAGE</td>\n",
       "      <td>6.3</td>\n",
       "      <td>1</td>\n",
       "      <td>3.8</td>\n",
       "      <td>3.0</td>\n",
       "    </tr>\n",
       "    <tr>\n",
       "      <th>1</th>\n",
       "      <td>AQU</td>\n",
       "      <td>2</td>\n",
       "      <td>1998-10-28</td>\n",
       "      <td>3</td>\n",
       "      <td>MILLIONDOLLARSMILE</td>\n",
       "      <td>14.0</td>\n",
       "      <td>1</td>\n",
       "      <td>4.8</td>\n",
       "      <td>3.1</td>\n",
       "    </tr>\n",
       "    <tr>\n",
       "      <th>2</th>\n",
       "      <td>AQU</td>\n",
       "      <td>3</td>\n",
       "      <td>1998-10-28</td>\n",
       "      <td>6</td>\n",
       "      <td>ROOK</td>\n",
       "      <td>6.5</td>\n",
       "      <td>1</td>\n",
       "      <td>3.4</td>\n",
       "      <td>2.4</td>\n",
       "    </tr>\n",
       "    <tr>\n",
       "      <th>3</th>\n",
       "      <td>AQU</td>\n",
       "      <td>4</td>\n",
       "      <td>1998-10-28</td>\n",
       "      <td>2</td>\n",
       "      <td>WAPO</td>\n",
       "      <td>6.2</td>\n",
       "      <td>1</td>\n",
       "      <td>5.1</td>\n",
       "      <td>2.8</td>\n",
       "    </tr>\n",
       "    <tr>\n",
       "      <th>4</th>\n",
       "      <td>AQU</td>\n",
       "      <td>5</td>\n",
       "      <td>1998-10-28</td>\n",
       "      <td>8</td>\n",
       "      <td>FUNNY TOY (ARG)</td>\n",
       "      <td>16.0</td>\n",
       "      <td>1</td>\n",
       "      <td>7.7</td>\n",
       "      <td>3.5</td>\n",
       "    </tr>\n",
       "    <tr>\n",
       "      <th>5</th>\n",
       "      <td>AQU</td>\n",
       "      <td>6</td>\n",
       "      <td>1998-10-28</td>\n",
       "      <td>6</td>\n",
       "      <td>RUBY RUBLES</td>\n",
       "      <td>11.4</td>\n",
       "      <td>1</td>\n",
       "      <td>5.6</td>\n",
       "      <td>4.8</td>\n",
       "    </tr>\n",
       "    <tr>\n",
       "      <th>6</th>\n",
       "      <td>AQU</td>\n",
       "      <td>7</td>\n",
       "      <td>1998-10-28</td>\n",
       "      <td>5</td>\n",
       "      <td>EXCHANGE PLACE</td>\n",
       "      <td>9.2</td>\n",
       "      <td>1</td>\n",
       "      <td>4.4</td>\n",
       "      <td>2.9</td>\n",
       "    </tr>\n",
       "    <tr>\n",
       "      <th>7</th>\n",
       "      <td>AQU</td>\n",
       "      <td>8</td>\n",
       "      <td>1998-10-28</td>\n",
       "      <td>2</td>\n",
       "      <td>EARLY WARNING</td>\n",
       "      <td>16.4</td>\n",
       "      <td>1</td>\n",
       "      <td>6.6</td>\n",
       "      <td>5.3</td>\n",
       "    </tr>\n",
       "    <tr>\n",
       "      <th>8</th>\n",
       "      <td>AQU</td>\n",
       "      <td>9</td>\n",
       "      <td>1998-10-28</td>\n",
       "      <td>4</td>\n",
       "      <td>JET BLACK</td>\n",
       "      <td>20.4</td>\n",
       "      <td>1</td>\n",
       "      <td>11.0</td>\n",
       "      <td>6.4</td>\n",
       "    </tr>\n",
       "    <tr>\n",
       "      <th>9</th>\n",
       "      <td>AQU</td>\n",
       "      <td>1</td>\n",
       "      <td>1998-10-29</td>\n",
       "      <td>1a</td>\n",
       "      <td>CRITICS ACCLAIM</td>\n",
       "      <td>3.6</td>\n",
       "      <td>1</td>\n",
       "      <td>2.2</td>\n",
       "      <td>2.1</td>\n",
       "    </tr>\n",
       "    <tr>\n",
       "      <th>10</th>\n",
       "      <td>AQU</td>\n",
       "      <td>2</td>\n",
       "      <td>1998-10-29</td>\n",
       "      <td>6</td>\n",
       "      <td>STORM IMP</td>\n",
       "      <td>12.6</td>\n",
       "      <td>1</td>\n",
       "      <td>6.7</td>\n",
       "      <td>4.0</td>\n",
       "    </tr>\n",
       "    <tr>\n",
       "      <th>11</th>\n",
       "      <td>AQU</td>\n",
       "      <td>3</td>\n",
       "      <td>1998-10-29</td>\n",
       "      <td>1</td>\n",
       "      <td>BETTER THAN HONOUR</td>\n",
       "      <td>2.7</td>\n",
       "      <td>1</td>\n",
       "      <td>2.5</td>\n",
       "      <td>2.1</td>\n",
       "    </tr>\n",
       "    <tr>\n",
       "      <th>12</th>\n",
       "      <td>AQU</td>\n",
       "      <td>4</td>\n",
       "      <td>1998-10-29</td>\n",
       "      <td>5</td>\n",
       "      <td>BUNDLING</td>\n",
       "      <td>7.3</td>\n",
       "      <td>1</td>\n",
       "      <td>4.2</td>\n",
       "      <td>3.2</td>\n",
       "    </tr>\n",
       "    <tr>\n",
       "      <th>13</th>\n",
       "      <td>AQU</td>\n",
       "      <td>5</td>\n",
       "      <td>1998-10-29</td>\n",
       "      <td>10</td>\n",
       "      <td>SANFORD SAM</td>\n",
       "      <td>3.7</td>\n",
       "      <td>1</td>\n",
       "      <td>2.8</td>\n",
       "      <td>2.3</td>\n",
       "    </tr>\n",
       "    <tr>\n",
       "      <th>14</th>\n",
       "      <td>AQU</td>\n",
       "      <td>6</td>\n",
       "      <td>1998-10-29</td>\n",
       "      <td>5</td>\n",
       "      <td>LE MISTRAL</td>\n",
       "      <td>9.8</td>\n",
       "      <td>1</td>\n",
       "      <td>5.0</td>\n",
       "      <td>2.2</td>\n",
       "    </tr>\n",
       "    <tr>\n",
       "      <th>15</th>\n",
       "      <td>AQU</td>\n",
       "      <td>7</td>\n",
       "      <td>1998-10-29</td>\n",
       "      <td>6</td>\n",
       "      <td>PHONE THE KING</td>\n",
       "      <td>19.4</td>\n",
       "      <td>1</td>\n",
       "      <td>5.9</td>\n",
       "      <td>2.6</td>\n",
       "    </tr>\n",
       "    <tr>\n",
       "      <th>16</th>\n",
       "      <td>AQU</td>\n",
       "      <td>8</td>\n",
       "      <td>1998-10-29</td>\n",
       "      <td>1</td>\n",
       "      <td>BRAC DRIFTER</td>\n",
       "      <td>5.9</td>\n",
       "      <td>1</td>\n",
       "      <td>3.3</td>\n",
       "      <td>2.8</td>\n",
       "    </tr>\n",
       "    <tr>\n",
       "      <th>17</th>\n",
       "      <td>AQU</td>\n",
       "      <td>9</td>\n",
       "      <td>1998-10-29</td>\n",
       "      <td>3</td>\n",
       "      <td>HANDEL</td>\n",
       "      <td>9.0</td>\n",
       "      <td>1</td>\n",
       "      <td>5.2</td>\n",
       "      <td>3.5</td>\n",
       "    </tr>\n",
       "    <tr>\n",
       "      <th>18</th>\n",
       "      <td>AQU</td>\n",
       "      <td>1</td>\n",
       "      <td>1998-10-30</td>\n",
       "      <td>4</td>\n",
       "      <td>DR. CHABOT</td>\n",
       "      <td>6.7</td>\n",
       "      <td>1</td>\n",
       "      <td>3.5</td>\n",
       "      <td>3.3</td>\n",
       "    </tr>\n",
       "    <tr>\n",
       "      <th>19</th>\n",
       "      <td>AQU</td>\n",
       "      <td>2</td>\n",
       "      <td>1998-10-30</td>\n",
       "      <td>1</td>\n",
       "      <td>MAWHUB</td>\n",
       "      <td>31.4</td>\n",
       "      <td>1</td>\n",
       "      <td>7.2</td>\n",
       "      <td>5.0</td>\n",
       "    </tr>\n",
       "    <tr>\n",
       "      <th>20</th>\n",
       "      <td>AQU</td>\n",
       "      <td>3</td>\n",
       "      <td>1998-10-30</td>\n",
       "      <td>3</td>\n",
       "      <td>LATE CARSON</td>\n",
       "      <td>6.2</td>\n",
       "      <td>1</td>\n",
       "      <td>3.7</td>\n",
       "      <td>2.5</td>\n",
       "    </tr>\n",
       "    <tr>\n",
       "      <th>21</th>\n",
       "      <td>AQU</td>\n",
       "      <td>4</td>\n",
       "      <td>1998-10-30</td>\n",
       "      <td>5</td>\n",
       "      <td>BIG NEWS</td>\n",
       "      <td>6.4</td>\n",
       "      <td>1</td>\n",
       "      <td>3.9</td>\n",
       "      <td>3.8</td>\n",
       "    </tr>\n",
       "    <tr>\n",
       "      <th>22</th>\n",
       "      <td>AQU</td>\n",
       "      <td>5</td>\n",
       "      <td>1998-10-30</td>\n",
       "      <td>5</td>\n",
       "      <td>RETIRING DON</td>\n",
       "      <td>5.1</td>\n",
       "      <td>1</td>\n",
       "      <td>4.0</td>\n",
       "      <td>2.6</td>\n",
       "    </tr>\n",
       "    <tr>\n",
       "      <th>23</th>\n",
       "      <td>AQU</td>\n",
       "      <td>6</td>\n",
       "      <td>1998-10-30</td>\n",
       "      <td>1</td>\n",
       "      <td>COMIC PROSPECT</td>\n",
       "      <td>7.8</td>\n",
       "      <td>1</td>\n",
       "      <td>4.9</td>\n",
       "      <td>3.2</td>\n",
       "    </tr>\n",
       "    <tr>\n",
       "      <th>24</th>\n",
       "      <td>AQU</td>\n",
       "      <td>7</td>\n",
       "      <td>1998-10-30</td>\n",
       "      <td>7</td>\n",
       "      <td>SOLAR COLONY</td>\n",
       "      <td>10.6</td>\n",
       "      <td>1</td>\n",
       "      <td>5.0</td>\n",
       "      <td>3.0</td>\n",
       "    </tr>\n",
       "  </tbody>\n",
       "</table>\n",
       "</div>"
      ],
      "text/plain": [
       "   track racenum       date post                name   win  fin_pos  place  show\n",
       "0    AQU       1 1998-10-28    3         CURVY IMAGE   6.3        1    3.8   3.0\n",
       "1    AQU       2 1998-10-28    3  MILLIONDOLLARSMILE  14.0        1    4.8   3.1\n",
       "2    AQU       3 1998-10-28    6                ROOK   6.5        1    3.4   2.4\n",
       "3    AQU       4 1998-10-28    2                WAPO   6.2        1    5.1   2.8\n",
       "4    AQU       5 1998-10-28    8     FUNNY TOY (ARG)  16.0        1    7.7   3.5\n",
       "5    AQU       6 1998-10-28    6         RUBY RUBLES  11.4        1    5.6   4.8\n",
       "6    AQU       7 1998-10-28    5      EXCHANGE PLACE   9.2        1    4.4   2.9\n",
       "7    AQU       8 1998-10-28    2       EARLY WARNING  16.4        1    6.6   5.3\n",
       "8    AQU       9 1998-10-28    4           JET BLACK  20.4        1   11.0   6.4\n",
       "9    AQU       1 1998-10-29   1a     CRITICS ACCLAIM   3.6        1    2.2   2.1\n",
       "10   AQU       2 1998-10-29    6           STORM IMP  12.6        1    6.7   4.0\n",
       "11   AQU       3 1998-10-29    1  BETTER THAN HONOUR   2.7        1    2.5   2.1\n",
       "12   AQU       4 1998-10-29    5            BUNDLING   7.3        1    4.2   3.2\n",
       "13   AQU       5 1998-10-29   10         SANFORD SAM   3.7        1    2.8   2.3\n",
       "14   AQU       6 1998-10-29    5          LE MISTRAL   9.8        1    5.0   2.2\n",
       "15   AQU       7 1998-10-29    6      PHONE THE KING  19.4        1    5.9   2.6\n",
       "16   AQU       8 1998-10-29    1        BRAC DRIFTER   5.9        1    3.3   2.8\n",
       "17   AQU       9 1998-10-29    3              HANDEL   9.0        1    5.2   3.5\n",
       "18   AQU       1 1998-10-30    4          DR. CHABOT   6.7        1    3.5   3.3\n",
       "19   AQU       2 1998-10-30    1              MAWHUB  31.4        1    7.2   5.0\n",
       "20   AQU       3 1998-10-30    3         LATE CARSON   6.2        1    3.7   2.5\n",
       "21   AQU       4 1998-10-30    5            BIG NEWS   6.4        1    3.9   3.8\n",
       "22   AQU       5 1998-10-30    5        RETIRING DON   5.1        1    4.0   2.6\n",
       "23   AQU       6 1998-10-30    1      COMIC PROSPECT   7.8        1    4.9   3.2\n",
       "24   AQU       7 1998-10-30    7        SOLAR COLONY  10.6        1    5.0   3.0"
      ]
     },
     "execution_count": 47,
     "metadata": {},
     "output_type": "execute_result"
    }
   ],
   "source": [
    "final_race_df.head(25)"
   ]
  },
  {
   "cell_type": "code",
   "execution_count": 66,
   "metadata": {
    "collapsed": false,
    "scrolled": true
   },
   "outputs": [
    {
     "data": {
      "text/html": [
       "<div>\n",
       "<table border=\"1\" class=\"dataframe\">\n",
       "  <thead>\n",
       "    <tr style=\"text-align: right;\">\n",
       "      <th></th>\n",
       "      <th>track</th>\n",
       "      <th>date</th>\n",
       "      <th>fog</th>\n",
       "      <th>hail</th>\n",
       "      <th>maxhumidity</th>\n",
       "      <th>meandewptm</th>\n",
       "      <th>meanpressurem</th>\n",
       "      <th>meantempm</th>\n",
       "      <th>meanvism</th>\n",
       "      <th>meanwdird</th>\n",
       "      <th>meanwindspdm</th>\n",
       "      <th>minhumidity</th>\n",
       "      <th>precipm</th>\n",
       "      <th>rain</th>\n",
       "      <th>snow</th>\n",
       "      <th>snowdepthm</th>\n",
       "      <th>snowfallm</th>\n",
       "      <th>thunder</th>\n",
       "    </tr>\n",
       "  </thead>\n",
       "  <tbody>\n",
       "    <tr>\n",
       "      <th>0</th>\n",
       "      <td>REM</td>\n",
       "      <td>2004-09-25</td>\n",
       "      <td>0</td>\n",
       "      <td>0</td>\n",
       "      <td>94</td>\n",
       "      <td>12</td>\n",
       "      <td>1021</td>\n",
       "      <td>21</td>\n",
       "      <td>11</td>\n",
       "      <td>13</td>\n",
       "      <td>8</td>\n",
       "      <td>23</td>\n",
       "      <td>0.00</td>\n",
       "      <td>0</td>\n",
       "      <td>0</td>\n",
       "      <td>NaN</td>\n",
       "      <td>0</td>\n",
       "      <td>0</td>\n",
       "    </tr>\n",
       "    <tr>\n",
       "      <th>1</th>\n",
       "      <td>DPK</td>\n",
       "      <td>2013-06-12</td>\n",
       "      <td>0</td>\n",
       "      <td>0</td>\n",
       "      <td>87</td>\n",
       "      <td>17</td>\n",
       "      <td>1010</td>\n",
       "      <td>24</td>\n",
       "      <td>16</td>\n",
       "      <td>299</td>\n",
       "      <td>14</td>\n",
       "      <td>47</td>\n",
       "      <td>0.00</td>\n",
       "      <td>0</td>\n",
       "      <td>0</td>\n",
       "      <td>0</td>\n",
       "      <td>0</td>\n",
       "      <td>0</td>\n",
       "    </tr>\n",
       "    <tr>\n",
       "      <th>2</th>\n",
       "      <td>FMT</td>\n",
       "      <td>2013-06-01</td>\n",
       "      <td>0</td>\n",
       "      <td>0</td>\n",
       "      <td>94</td>\n",
       "      <td>17</td>\n",
       "      <td>1009</td>\n",
       "      <td>22</td>\n",
       "      <td>15</td>\n",
       "      <td>182</td>\n",
       "      <td>10</td>\n",
       "      <td>61</td>\n",
       "      <td>12.95</td>\n",
       "      <td>1</td>\n",
       "      <td>0</td>\n",
       "      <td>NaN</td>\n",
       "      <td>0</td>\n",
       "      <td>1</td>\n",
       "    </tr>\n",
       "    <tr>\n",
       "      <th>3</th>\n",
       "      <td>PAR</td>\n",
       "      <td>2005-02-25</td>\n",
       "      <td>0</td>\n",
       "      <td>0</td>\n",
       "      <td>80</td>\n",
       "      <td>6</td>\n",
       "      <td>1012</td>\n",
       "      <td>13</td>\n",
       "      <td>16</td>\n",
       "      <td>30</td>\n",
       "      <td>8</td>\n",
       "      <td>38</td>\n",
       "      <td>0.00</td>\n",
       "      <td>0</td>\n",
       "      <td>0</td>\n",
       "      <td>NaN</td>\n",
       "      <td>0</td>\n",
       "      <td>0</td>\n",
       "    </tr>\n",
       "    <tr>\n",
       "      <th>4</th>\n",
       "      <td>BEU</td>\n",
       "      <td>2013-05-04</td>\n",
       "      <td>0</td>\n",
       "      <td>0</td>\n",
       "      <td>66</td>\n",
       "      <td>6</td>\n",
       "      <td>1017</td>\n",
       "      <td>17</td>\n",
       "      <td>16</td>\n",
       "      <td>101</td>\n",
       "      <td>16</td>\n",
       "      <td>40</td>\n",
       "      <td>0.00</td>\n",
       "      <td>0</td>\n",
       "      <td>0</td>\n",
       "      <td>NaN</td>\n",
       "      <td>0</td>\n",
       "      <td>0</td>\n",
       "    </tr>\n",
       "  </tbody>\n",
       "</table>\n",
       "</div>"
      ],
      "text/plain": [
       "  track       date  fog  hail  maxhumidity  meandewptm  meanpressurem  meantempm  meanvism  meanwdird  meanwindspdm  minhumidity  precipm  rain  snow  snowdepthm  snowfallm  thunder\n",
       "0   REM 2004-09-25    0     0           94          12           1021         21        11         13             8           23     0.00     0     0         NaN          0        0\n",
       "1   DPK 2013-06-12    0     0           87          17           1010         24        16        299            14           47     0.00     0     0           0          0        0\n",
       "2   FMT 2013-06-01    0     0           94          17           1009         22        15        182            10           61    12.95     1     0         NaN          0        1\n",
       "3   PAR 2005-02-25    0     0           80           6           1012         13        16         30             8           38     0.00     0     0         NaN          0        0\n",
       "4   BEU 2013-05-04    0     0           66           6           1017         17        16        101            16           40     0.00     0     0         NaN          0        0"
      ]
     },
     "execution_count": 66,
     "metadata": {},
     "output_type": "execute_result"
    }
   ],
   "source": [
    "weather_df = pd.read_csv(\"tempdata/weather.csv\", index_col=0);\n",
    "weather_df.date = pd.to_datetime(weather_df.date)\n",
    "weather_df.head()"
   ]
  },
  {
   "cell_type": "code",
   "execution_count": null,
   "metadata": {
    "collapsed": true
   },
   "outputs": [],
   "source": [
    "## final_race_df.to_csv('tempdata/final_race_df.csv', index_label='name')"
   ]
  },
  {
   "cell_type": "code",
   "execution_count": 86,
   "metadata": {
    "collapsed": false
   },
   "outputs": [],
   "source": [
    "## rereading the horse data in from my desktop because too big to store in github \n",
    "final_race_df = pd.read_csv(\"/Users/morganfbreitmeyer/Desktop/final_race_df.csv\", index_col=0);\n",
    "final_race_df.date = pd.to_datetime(final_race_df.date)"
   ]
  },
  {
   "cell_type": "code",
   "execution_count": 93,
   "metadata": {
    "collapsed": false
   },
   "outputs": [
    {
     "data": {
      "text/html": [
       "<div>\n",
       "<table border=\"1\" class=\"dataframe\">\n",
       "  <thead>\n",
       "    <tr style=\"text-align: right;\">\n",
       "      <th></th>\n",
       "      <th>track</th>\n",
       "      <th>racenum</th>\n",
       "      <th>date</th>\n",
       "      <th>post</th>\n",
       "      <th>name</th>\n",
       "      <th>win</th>\n",
       "      <th>fin_pos</th>\n",
       "      <th>place</th>\n",
       "      <th>show</th>\n",
       "      <th>fog</th>\n",
       "      <th>hail</th>\n",
       "      <th>maxhumidity</th>\n",
       "      <th>meandewptm</th>\n",
       "      <th>meanpressurem</th>\n",
       "      <th>meantempm</th>\n",
       "      <th>meanvism</th>\n",
       "      <th>meanwdird</th>\n",
       "      <th>meanwindspdm</th>\n",
       "      <th>minhumidity</th>\n",
       "      <th>precipm</th>\n",
       "      <th>rain</th>\n",
       "      <th>snow</th>\n",
       "      <th>snowdepthm</th>\n",
       "      <th>snowfallm</th>\n",
       "      <th>thunder</th>\n",
       "    </tr>\n",
       "  </thead>\n",
       "  <tbody>\n",
       "    <tr>\n",
       "      <th>0</th>\n",
       "      <td>AQU</td>\n",
       "      <td>1</td>\n",
       "      <td>1998-10-28</td>\n",
       "      <td>3</td>\n",
       "      <td>CURVY IMAGE</td>\n",
       "      <td>6.3</td>\n",
       "      <td>1</td>\n",
       "      <td>3.8</td>\n",
       "      <td>3.0</td>\n",
       "      <td>0</td>\n",
       "      <td>0</td>\n",
       "      <td>96</td>\n",
       "      <td>11</td>\n",
       "      <td>1013</td>\n",
       "      <td>12</td>\n",
       "      <td>15</td>\n",
       "      <td>195</td>\n",
       "      <td>13</td>\n",
       "      <td>75</td>\n",
       "      <td>4.06</td>\n",
       "      <td>1</td>\n",
       "      <td>0</td>\n",
       "      <td>NaN</td>\n",
       "      <td>0</td>\n",
       "      <td>0</td>\n",
       "    </tr>\n",
       "    <tr>\n",
       "      <th>1</th>\n",
       "      <td>AQU</td>\n",
       "      <td>2</td>\n",
       "      <td>1998-10-28</td>\n",
       "      <td>3</td>\n",
       "      <td>MILLIONDOLLARSMILE</td>\n",
       "      <td>14.0</td>\n",
       "      <td>1</td>\n",
       "      <td>4.8</td>\n",
       "      <td>3.1</td>\n",
       "      <td>0</td>\n",
       "      <td>0</td>\n",
       "      <td>96</td>\n",
       "      <td>11</td>\n",
       "      <td>1013</td>\n",
       "      <td>12</td>\n",
       "      <td>15</td>\n",
       "      <td>195</td>\n",
       "      <td>13</td>\n",
       "      <td>75</td>\n",
       "      <td>4.06</td>\n",
       "      <td>1</td>\n",
       "      <td>0</td>\n",
       "      <td>NaN</td>\n",
       "      <td>0</td>\n",
       "      <td>0</td>\n",
       "    </tr>\n",
       "    <tr>\n",
       "      <th>2</th>\n",
       "      <td>AQU</td>\n",
       "      <td>3</td>\n",
       "      <td>1998-10-28</td>\n",
       "      <td>6</td>\n",
       "      <td>ROOK</td>\n",
       "      <td>6.5</td>\n",
       "      <td>1</td>\n",
       "      <td>3.4</td>\n",
       "      <td>2.4</td>\n",
       "      <td>0</td>\n",
       "      <td>0</td>\n",
       "      <td>96</td>\n",
       "      <td>11</td>\n",
       "      <td>1013</td>\n",
       "      <td>12</td>\n",
       "      <td>15</td>\n",
       "      <td>195</td>\n",
       "      <td>13</td>\n",
       "      <td>75</td>\n",
       "      <td>4.06</td>\n",
       "      <td>1</td>\n",
       "      <td>0</td>\n",
       "      <td>NaN</td>\n",
       "      <td>0</td>\n",
       "      <td>0</td>\n",
       "    </tr>\n",
       "    <tr>\n",
       "      <th>3</th>\n",
       "      <td>AQU</td>\n",
       "      <td>4</td>\n",
       "      <td>1998-10-28</td>\n",
       "      <td>2</td>\n",
       "      <td>WAPO</td>\n",
       "      <td>6.2</td>\n",
       "      <td>1</td>\n",
       "      <td>5.1</td>\n",
       "      <td>2.8</td>\n",
       "      <td>0</td>\n",
       "      <td>0</td>\n",
       "      <td>96</td>\n",
       "      <td>11</td>\n",
       "      <td>1013</td>\n",
       "      <td>12</td>\n",
       "      <td>15</td>\n",
       "      <td>195</td>\n",
       "      <td>13</td>\n",
       "      <td>75</td>\n",
       "      <td>4.06</td>\n",
       "      <td>1</td>\n",
       "      <td>0</td>\n",
       "      <td>NaN</td>\n",
       "      <td>0</td>\n",
       "      <td>0</td>\n",
       "    </tr>\n",
       "    <tr>\n",
       "      <th>4</th>\n",
       "      <td>AQU</td>\n",
       "      <td>5</td>\n",
       "      <td>1998-10-28</td>\n",
       "      <td>8</td>\n",
       "      <td>FUNNY TOY (ARG)</td>\n",
       "      <td>16.0</td>\n",
       "      <td>1</td>\n",
       "      <td>7.7</td>\n",
       "      <td>3.5</td>\n",
       "      <td>0</td>\n",
       "      <td>0</td>\n",
       "      <td>96</td>\n",
       "      <td>11</td>\n",
       "      <td>1013</td>\n",
       "      <td>12</td>\n",
       "      <td>15</td>\n",
       "      <td>195</td>\n",
       "      <td>13</td>\n",
       "      <td>75</td>\n",
       "      <td>4.06</td>\n",
       "      <td>1</td>\n",
       "      <td>0</td>\n",
       "      <td>NaN</td>\n",
       "      <td>0</td>\n",
       "      <td>0</td>\n",
       "    </tr>\n",
       "  </tbody>\n",
       "</table>\n",
       "</div>"
      ],
      "text/plain": [
       "  track racenum       date post                name   win  fin_pos  place  show  fog  hail  maxhumidity  meandewptm  meanpressurem  meantempm  meanvism  meanwdird  meanwindspdm  minhumidity  precipm  rain  snow  snowdepthm  snowfallm  thunder\n",
       "0   AQU       1 1998-10-28    3         CURVY IMAGE   6.3        1    3.8   3.0    0     0           96          11           1013         12        15        195            13           75     4.06     1     0         NaN          0        0\n",
       "1   AQU       2 1998-10-28    3  MILLIONDOLLARSMILE  14.0        1    4.8   3.1    0     0           96          11           1013         12        15        195            13           75     4.06     1     0         NaN          0        0\n",
       "2   AQU       3 1998-10-28    6                ROOK   6.5        1    3.4   2.4    0     0           96          11           1013         12        15        195            13           75     4.06     1     0         NaN          0        0\n",
       "3   AQU       4 1998-10-28    2                WAPO   6.2        1    5.1   2.8    0     0           96          11           1013         12        15        195            13           75     4.06     1     0         NaN          0        0\n",
       "4   AQU       5 1998-10-28    8     FUNNY TOY (ARG)  16.0        1    7.7   3.5    0     0           96          11           1013         12        15        195            13           75     4.06     1     0         NaN          0        0"
      ]
     },
     "execution_count": 93,
     "metadata": {},
     "output_type": "execute_result"
    }
   ],
   "source": [
    "## merging the weather for all past races with the race results into our training data \n",
    "traindf = pd.merge(final_race_df, weather_df, on = [\"track\", \"date\"], how = \"left\")\n",
    "traindf.rename(columns={'name.1': 'name'}, inplace=True); \n",
    "traindf.head()"
   ]
  },
  {
   "cell_type": "code",
   "execution_count": 11,
   "metadata": {
    "collapsed": false
   },
   "outputs": [
    {
     "data": {
      "text/plain": [
       "(2340444, 25)"
      ]
     },
     "execution_count": 11,
     "metadata": {},
     "output_type": "execute_result"
    }
   ],
   "source": [
    "traindf.shape"
   ]
  },
  {
   "cell_type": "code",
   "execution_count": null,
   "metadata": {
    "collapsed": true
   },
   "outputs": [],
   "source": [
    "traindf.to_csv(\"/Users/morganfbreitmeyer/Desktop/traindf.csv\")"
   ]
  },
  {
   "cell_type": "code",
   "execution_count": 67,
   "metadata": {
    "collapsed": false
   },
   "outputs": [],
   "source": [
    "## we had to manually input the dates for the testdata\n",
    "preakness_dates = {1998:datetime.datetime(1998, 5, 16), 1999:datetime.datetime(1999, 5, 15),  \n",
    "                   2000:datetime.datetime(2000, 5, 20), 2001:datetime.datetime(2001, 5, 19), \n",
    "                   2002:datetime.datetime(2002, 5, 18), 2003:datetime.datetime(2003, 5, 17),\n",
    "                   2004:datetime.datetime(2004, 5, 15), 2005:datetime.datetime(2005, 5, 21),\n",
    "                   2006:datetime.datetime(2006, 5, 20), 2007:datetime.datetime(2007, 5, 19),\n",
    "                   2008:datetime.datetime(2008, 5, 17), 2009:datetime.datetime(2009, 5, 16),\n",
    "                   2010:datetime.datetime(2010, 5, 15), 2011:datetime.datetime(2011, 5, 21),\n",
    "                   2012:datetime.datetime(2012, 5, 19), 2013:datetime.datetime(2013, 5, 18),\n",
    "                   2014:datetime.datetime(2014, 5, 17), 2015:datetime.datetime(2015, 5, 16)}\n",
    "\n",
    "belmont_dates = {2006:datetime.datetime(2006, 6, 10), 2007:datetime.datetime(2007, 6, 9), \n",
    "                 2008:datetime.datetime(2008, 6, 7), 2009:datetime.datetime(2009, 6, 6), \n",
    "                 2010:datetime.datetime(2010, 6, 5), 2011:datetime.datetime(2011, 6, 1),\n",
    "                 2012:datetime.datetime(2012, 6, 9), 2013:datetime.datetime(2013, 6, 8),\n",
    "                 2014:datetime.datetime(2014, 6, 7), 2015:datetime.datetime(2015, 6, 6)}\n",
    "\n",
    "kentucky_dates = {1998: datetime.datetime(1998, 5, 2), 1999:datetime.datetime(1999, 5, 1),  \n",
    "                   2000:datetime.datetime(2000, 5, 6), 2001:datetime.datetime(2001, 5, 5), \n",
    "                   2002:datetime.datetime(2002, 5, 4), 2003:datetime.datetime(2003, 5, 3),\n",
    "                   2004:datetime.datetime(2004, 5, 1), 2005:datetime.datetime(2005, 5, 7),\n",
    "                   2006:datetime.datetime(2006, 5, 6), 2007:datetime.datetime(2007, 5, 5),\n",
    "                   2008:datetime.datetime(2008, 5, 3), 2009:datetime.datetime(2009, 5, 2),\n",
    "                   2010:datetime.datetime(2010, 5, 1), 2011:datetime.datetime(2011, 5, 7),\n",
    "                   2012:datetime.datetime(2012, 5, 5), 2013:datetime.datetime(2013, 5, 4),\n",
    "                   2014:datetime.datetime(2014, 5, 3), 2015:datetime.datetime(2015, 5, 2)}"
   ]
  },
  {
   "cell_type": "code",
   "execution_count": 95,
   "metadata": {
    "collapsed": false
   },
   "outputs": [],
   "source": [
    "## matching up all the dates for the test data with the data set and merging with weather to \n",
    "## create our final test data set \n",
    "final_df = pd.read_csv('tempdata/result_testdf.csv', index_col=0);\n",
    "final_df.rename(columns = {'Finish':'fin_pos', 'Horse':'name', 'Post':'post', 'Win':'win', 'Place':'place', 'Show':'show'}, inplace = True)\n",
    "datelist = [] \n",
    "tracklist = [] \n",
    "\n",
    "for row in final_df.index: \n",
    "    if final_df.iloc[row].Track == \"_Preakness_Stakes\":  \n",
    "        datelist.append(preakness_dates[final_df.iloc[row].Year])\n",
    "        tracklist.append(\"PIM\")\n",
    "    elif final_df.iloc[row].Track == \"_Belmont_Stakes\": \n",
    "        datelist.append(belmont_dates[final_df.iloc[row].Year])\n",
    "        tracklist.append(\"BEL\")\n",
    "    elif final_df.iloc[row].Track == \"_Kentucky_Derby\": \n",
    "        datelist.append(kentucky_dates[final_df.iloc[row].Year])\n",
    "        tracklist.append(\"CHU\")\n",
    "\n",
    "final_df[\"date\"] = datelist\n",
    "final_df[\"track\"] = tracklist \n",
    "\n",
    "final_df.drop([\"Year\", \"Track\"], inplace = True, axis = 1); \n",
    "final_df\n",
    "\n",
    "## now merging with the Weather data \n",
    "testdf = pd.merge(final_df, weather_df, on = [\"track\", \"date\"], how = \"left\")\n",
    "testdf\n",
    "testdf.to_csv(\"tempdata/testdf.csv\")"
   ]
  },
  {
   "cell_type": "code",
   "execution_count": 96,
   "metadata": {
    "collapsed": false
   },
   "outputs": [
    {
     "data": {
      "text/plain": [
       "(631, 25)"
      ]
     },
     "execution_count": 96,
     "metadata": {},
     "output_type": "execute_result"
    }
   ],
   "source": [
    "testdf.shape"
   ]
  },
  {
   "cell_type": "code",
   "execution_count": 49,
   "metadata": {
    "collapsed": false
   },
   "outputs": [],
   "source": [
    "#############################################################################\n",
    "## READ IN THE CSVs WITH ALL THE DATA AND REDO THE DATETYPE TRANSFORMATION ## \n",
    "#############################################################################\n",
    "traindf = pd.read_csv('/Users/George/DropBox/CS 109/traindf.csv', index_col=0);\n",
    "traindf.date = pd.to_datetime(traindf.date)\n",
    "traindf['name'] = traindf['name'].astype(str)\n",
    "traindf['name'] = map(lambda x: x.upper(), traindf['name'])\n",
    "traindf.loc[traindf['win']=='NaN'] = 0.0\n",
    "traindf.loc[traindf['place']=='NaN'] = 0.0\n",
    "traindf.loc[traindf['show']=='NaN'] = 0.0\n",
    "traindf['win'].fillna(0, inplace=True)\n",
    "\n",
    "testdf = pd.read_csv('tempdata/testdf.csv', index_col=0);\n",
    "testdf.date = pd.to_datetime(testdf.date)\n",
    "testdf['name'] = testdf['name'].astype(str)\n",
    "testdf['name'] = map(lambda x: x.upper(), testdf['name'])\n",
    "testdf[['win', 'place', 'show']].fillna(0, inplace=True)"
   ]
  },
  {
   "cell_type": "code",
   "execution_count": 50,
   "metadata": {
    "collapsed": false
   },
   "outputs": [],
   "source": [
    "traindf = traindf[traindf.name != 'NAN']\n",
    "traindf.reset_index().drop('index', axis=1, inplace=True);"
   ]
  },
  {
   "cell_type": "code",
   "execution_count": 49,
   "metadata": {
    "collapsed": false
   },
   "outputs": [],
   "source": [
    "# Just checking for newlines since we thought we saw one\n",
    "for i in range(len(traindf)):\n",
    "    if '\\n' in traindf.iloc[i]['name']:\n",
    "        print 'newline'"
   ]
  },
  {
   "cell_type": "code",
   "execution_count": 51,
   "metadata": {
    "collapsed": false
   },
   "outputs": [
    {
     "data": {
      "text/html": [
       "<div>\n",
       "<table border=\"1\" class=\"dataframe\">\n",
       "  <thead>\n",
       "    <tr style=\"text-align: right;\">\n",
       "      <th></th>\n",
       "      <th>post</th>\n",
       "      <th>name</th>\n",
       "      <th>win</th>\n",
       "      <th>place</th>\n",
       "      <th>show</th>\n",
       "      <th>fin_pos</th>\n",
       "      <th>Odds</th>\n",
       "      <th>date</th>\n",
       "      <th>track</th>\n",
       "      <th>fog</th>\n",
       "      <th>hail</th>\n",
       "      <th>maxhumidity</th>\n",
       "      <th>meandewptm</th>\n",
       "      <th>meanpressurem</th>\n",
       "      <th>meantempm</th>\n",
       "      <th>meanvism</th>\n",
       "      <th>meanwdird</th>\n",
       "      <th>meanwindspdm</th>\n",
       "      <th>minhumidity</th>\n",
       "      <th>precipm</th>\n",
       "      <th>rain</th>\n",
       "      <th>snow</th>\n",
       "      <th>snowdepthm</th>\n",
       "      <th>snowfallm</th>\n",
       "      <th>thunder</th>\n",
       "    </tr>\n",
       "  </thead>\n",
       "  <tbody>\n",
       "    <tr>\n",
       "      <th>0</th>\n",
       "      <td>11</td>\n",
       "      <td>REAL QUIET</td>\n",
       "      <td>7.0</td>\n",
       "      <td>3.6</td>\n",
       "      <td>3.0</td>\n",
       "      <td>1</td>\n",
       "      <td>2.5</td>\n",
       "      <td>1998-05-16</td>\n",
       "      <td>PIM</td>\n",
       "      <td>NaN</td>\n",
       "      <td>NaN</td>\n",
       "      <td>NaN</td>\n",
       "      <td>NaN</td>\n",
       "      <td>NaN</td>\n",
       "      <td>NaN</td>\n",
       "      <td>NaN</td>\n",
       "      <td>NaN</td>\n",
       "      <td>NaN</td>\n",
       "      <td>NaN</td>\n",
       "      <td>NaN</td>\n",
       "      <td>NaN</td>\n",
       "      <td>NaN</td>\n",
       "      <td>NaN</td>\n",
       "      <td>NaN</td>\n",
       "      <td>NaN</td>\n",
       "    </tr>\n",
       "    <tr>\n",
       "      <th>1</th>\n",
       "      <td>10</td>\n",
       "      <td>VICTORY GALLOP</td>\n",
       "      <td>NaN</td>\n",
       "      <td>3.2</td>\n",
       "      <td>2.8</td>\n",
       "      <td>2</td>\n",
       "      <td>2.0</td>\n",
       "      <td>1998-05-16</td>\n",
       "      <td>PIM</td>\n",
       "      <td>NaN</td>\n",
       "      <td>NaN</td>\n",
       "      <td>NaN</td>\n",
       "      <td>NaN</td>\n",
       "      <td>NaN</td>\n",
       "      <td>NaN</td>\n",
       "      <td>NaN</td>\n",
       "      <td>NaN</td>\n",
       "      <td>NaN</td>\n",
       "      <td>NaN</td>\n",
       "      <td>NaN</td>\n",
       "      <td>NaN</td>\n",
       "      <td>NaN</td>\n",
       "      <td>NaN</td>\n",
       "      <td>NaN</td>\n",
       "      <td>NaN</td>\n",
       "    </tr>\n",
       "    <tr>\n",
       "      <th>2</th>\n",
       "      <td>3</td>\n",
       "      <td>CLASSIC CAT</td>\n",
       "      <td>NaN</td>\n",
       "      <td>NaN</td>\n",
       "      <td>4.8</td>\n",
       "      <td>3</td>\n",
       "      <td>12.3</td>\n",
       "      <td>1998-05-16</td>\n",
       "      <td>PIM</td>\n",
       "      <td>NaN</td>\n",
       "      <td>NaN</td>\n",
       "      <td>NaN</td>\n",
       "      <td>NaN</td>\n",
       "      <td>NaN</td>\n",
       "      <td>NaN</td>\n",
       "      <td>NaN</td>\n",
       "      <td>NaN</td>\n",
       "      <td>NaN</td>\n",
       "      <td>NaN</td>\n",
       "      <td>NaN</td>\n",
       "      <td>NaN</td>\n",
       "      <td>NaN</td>\n",
       "      <td>NaN</td>\n",
       "      <td>NaN</td>\n",
       "      <td>NaN</td>\n",
       "    </tr>\n",
       "    <tr>\n",
       "      <th>3</th>\n",
       "      <td>6</td>\n",
       "      <td>CHARISMATIC</td>\n",
       "      <td>18.8</td>\n",
       "      <td>7.6</td>\n",
       "      <td>5.8</td>\n",
       "      <td>1</td>\n",
       "      <td>8.4</td>\n",
       "      <td>1999-05-15</td>\n",
       "      <td>PIM</td>\n",
       "      <td>0</td>\n",
       "      <td>0</td>\n",
       "      <td>64</td>\n",
       "      <td>2</td>\n",
       "      <td>1025</td>\n",
       "      <td>16</td>\n",
       "      <td>16</td>\n",
       "      <td>75</td>\n",
       "      <td>14</td>\n",
       "      <td>24</td>\n",
       "      <td>0</td>\n",
       "      <td>0</td>\n",
       "      <td>0</td>\n",
       "      <td>NaN</td>\n",
       "      <td>0</td>\n",
       "      <td>0</td>\n",
       "    </tr>\n",
       "    <tr>\n",
       "      <th>4</th>\n",
       "      <td>5</td>\n",
       "      <td>MENIFEE</td>\n",
       "      <td>NaN</td>\n",
       "      <td>3.6</td>\n",
       "      <td>3.2</td>\n",
       "      <td>2</td>\n",
       "      <td>2.0</td>\n",
       "      <td>1999-05-15</td>\n",
       "      <td>PIM</td>\n",
       "      <td>0</td>\n",
       "      <td>0</td>\n",
       "      <td>64</td>\n",
       "      <td>2</td>\n",
       "      <td>1025</td>\n",
       "      <td>16</td>\n",
       "      <td>16</td>\n",
       "      <td>75</td>\n",
       "      <td>14</td>\n",
       "      <td>24</td>\n",
       "      <td>0</td>\n",
       "      <td>0</td>\n",
       "      <td>0</td>\n",
       "      <td>NaN</td>\n",
       "      <td>0</td>\n",
       "      <td>0</td>\n",
       "    </tr>\n",
       "  </tbody>\n",
       "</table>\n",
       "</div>"
      ],
      "text/plain": [
       "   post            name   win  place  show  fin_pos  Odds       date track  fog  hail  maxhumidity  meandewptm  meanpressurem  meantempm  meanvism  meanwdird  meanwindspdm  minhumidity  precipm  rain  snow  snowdepthm  snowfallm  thunder\n",
       "0    11      REAL QUIET   7.0    3.6   3.0        1   2.5 1998-05-16   PIM  NaN   NaN          NaN         NaN            NaN        NaN       NaN        NaN           NaN          NaN      NaN   NaN   NaN         NaN        NaN      NaN\n",
       "1    10  VICTORY GALLOP   NaN    3.2   2.8        2   2.0 1998-05-16   PIM  NaN   NaN          NaN         NaN            NaN        NaN       NaN        NaN           NaN          NaN      NaN   NaN   NaN         NaN        NaN      NaN\n",
       "2     3     CLASSIC CAT   NaN    NaN   4.8        3  12.3 1998-05-16   PIM  NaN   NaN          NaN         NaN            NaN        NaN       NaN        NaN           NaN          NaN      NaN   NaN   NaN         NaN        NaN      NaN\n",
       "3     6     CHARISMATIC  18.8    7.6   5.8        1   8.4 1999-05-15   PIM    0     0           64           2           1025         16        16         75            14           24        0     0     0         NaN          0        0\n",
       "4     5         MENIFEE   NaN    3.6   3.2        2   2.0 1999-05-15   PIM    0     0           64           2           1025         16        16         75            14           24        0     0     0         NaN          0        0"
      ]
     },
     "execution_count": 51,
     "metadata": {},
     "output_type": "execute_result"
    }
   ],
   "source": [
    "testdf.head()"
   ]
  },
  {
   "cell_type": "markdown",
   "metadata": {
    "collapsed": true
   },
   "source": [
    "# Working on a Baseline"
   ]
  },
  {
   "cell_type": "code",
   "execution_count": 6,
   "metadata": {
    "collapsed": false
   },
   "outputs": [
    {
     "data": {
      "text/plain": [
       "{'place': nan, 'show': nan, 'win': nan}"
      ]
     },
     "execution_count": 6,
     "metadata": {},
     "output_type": "execute_result"
    }
   ],
   "source": [
    "def find_races(horses_name, traindf=traindf):\n",
    "    return traindf[traindf['name']==horses_name]\n",
    "\n",
    "def find_avg_payouts(df, race_date=datetime.date.today()):\n",
    "    out = {}\n",
    "    df = df[df.date < race_date]\n",
    "    out['win'] = np.mean(df.win[df.win != 0.0])\n",
    "    out['place'] = np.mean(df.place[df.place != 0.0])\n",
    "    out['show'] = np.mean(df.show[df.show != 0.0])\n",
    "    return out\n",
    "\n",
    "find_avg_payouts(find_races('SMARTY JONES', traindf=testdf), race_date=datetime.datetime(1998, 12, 12))"
   ]
  },
  {
   "cell_type": "markdown",
   "metadata": {
    "collapsed": true
   },
   "source": [
    "The payouts are already standardized to $2 bets, so we luckily don't have to deal with that problem"
   ]
  },
  {
   "cell_type": "code",
   "execution_count": 34,
   "metadata": {
    "collapsed": false
   },
   "outputs": [],
   "source": [
    "unique_test_dates = testdf['date'].unique()\n",
    "\n",
    "def find_horses(date):\n",
    "    return testdf['name'].loc[testdf['date'] == date]\n",
    "\n",
    "def find_track(date):\n",
    "    return testdf['track'].loc[testdf['date'] == date][0]\n",
    "\n",
    "#find_horses(datetime.datetime(1998, 5, 15))\n",
    "#type(testdf['date'][0])"
   ]
  },
  {
   "cell_type": "markdown",
   "metadata": {},
   "source": [
    "We run a simple regression (aka Average) to get a dict where the keys are a tuple `(date, track, horse)` and the values are themselves dictionaries with keys `win`, `place`, `show` and values as the corresponding averages leading into raceday (excluding information we couldn't have on raceday). "
   ]
  },
  {
   "cell_type": "code",
   "execution_count": 11,
   "metadata": {
    "collapsed": false
   },
   "outputs": [],
   "source": [
    "avg_payouts = {}\n",
    "for i in testdf['date'].unique():\n",
    "    race = testdf.loc[testdf.date == i]\n",
    "    for j in range(len(race)):\n",
    "        date = race.date.iloc[j]\n",
    "        track = race.track.iloc[j]\n",
    "        horse = race.name.iloc[j]\n",
    "        avg_payouts[(date, track, horse)] = find_avg_payouts(\n",
    "            find_races(race['name'].iloc[j], traindf=traindf), race_date=date)"
   ]
  },
  {
   "cell_type": "code",
   "execution_count": null,
   "metadata": {
    "collapsed": true
   },
   "outputs": [],
   "source": [
    "## this function takes a payout and returns the first odds digit, assuming a comparison to 1, i.e. x-1 \n",
    "## of that horse to win when betting occured assuming original bet of $2 and assumed take by race track of 15% \n",
    "def payoff_to_odds(payoff, bet_amount=2.0, take = .15):\n",
    "    return round(((payoff/(1-take) - bet_amount)/bet_amount),4)\n",
    "\n",
    "def odds_to_percent(odds): \n",
    "    return (float(str(odds)[2]))/(float(str(odds)[0])+float((str(odds)[2])))\n",
    "\n",
    "def normalize_odds(odds): \n",
    "    x = odds.split(\"-\")\n",
    "    if len(x) > 1: \n",
    "        return float(x[0])/float(x[1])\n",
    "    else: \n",
    "        return float(x[0])\n",
    "    \n",
    "def make_favorite(string): \n",
    "    if \"favorite\" in string: \n",
    "        return True \n",
    "    else:\n",
    "        return False "
   ]
  },
  {
   "cell_type": "code",
   "execution_count": 33,
   "metadata": {
    "collapsed": false
   },
   "outputs": [
    {
     "data": {
      "text/plain": [
       "(-320.20000000000005, 625.79999999999995, 946)"
      ]
     },
     "execution_count": 33,
     "metadata": {},
     "output_type": "execute_result"
    }
   ],
   "source": [
    "def baseline(indict):\n",
    "    profit = []\n",
    "    cost = []\n",
    "    count = []\n",
    "    count2 = []\n",
    "    for key in indict.keys():\n",
    "        count2.append(1)\n",
    "        date = key[0]\n",
    "        track = key[1]\n",
    "        horse = key[2]\n",
    "        \n",
    "        exp_win = indict[key]['win']\n",
    "        exp_place = indict[key]['place']\n",
    "        exp_show = indict[key]['show']\n",
    "        \n",
    "        # get the morning line odds for that day to compare\n",
    "        odds = testdf.loc[(testdf.name == horse) & (testdf.track == track) & (testdf.date == date)]['Odds'].iloc[0]\n",
    "\n",
    "        if odds > payoff_to_odds(exp_win):\n",
    "            cost.append(2)\n",
    "            \n",
    "            if math.isnan(testdf.loc[(testdf.name == horse) & \n",
    "                                     (testdf.track == track) & \n",
    "                                     (testdf.date == date)]['win'].iloc[0]):\n",
    "                count.append(1)\n",
    "                pass\n",
    "            \n",
    "            else:\n",
    "                profit.append(testdf.loc[(testdf.name == horse) & \n",
    "                                     (testdf.track == track) & \n",
    "                                     (testdf.date == date)]['win'].iloc[0])\n",
    "        else:\n",
    "            count.append(1)\n",
    "            pass\n",
    "        \n",
    "    return ['baseline', no_bets_placed, race, year, profit_wins, profit_places, profit_shows, total_profit, cost]\n",
    "            \n",
    "baseline(avg_payouts)"
   ]
  },
  {
   "cell_type": "markdown",
   "metadata": {
    "collapsed": true
   },
   "source": [
    "Dataframe of race, year, profit/loss on win baseline, profit/loss on place baseline, profit/loss on show baseline"
   ]
  },
  {
   "cell_type": "code",
   "execution_count": 46,
   "metadata": {
    "collapsed": false
   },
   "outputs": [
    {
     "name": "stdout",
     "output_type": "stream",
     "text": [
      "[('HOT WELLS', nan), ('REAL QUIET', nan), (\"CORONADO'S QUEST\", nan)]\n",
      "[('WORLDLY MANNER', nan), ('ADONIS', nan), ('BADGE', 55.0)]\n",
      "[('HUGH HEFNER', 45.111800000000002), ('RED BULLET', nan), (\"HAL'S HOPE\", 18.805900000000001)]\n",
      "[('BAY EAGLE', 87.182400000000001), ('GRIFFINITE', 51.217600000000004), ('PERCY HOPE', 48.600000000000001)]\n",
      "[('MENACING DENNIS', 50.0824), ('MAGIC WEISNER', 40.135300000000001), ('EQUALITY', 24.441199999999998)]\n",
      "[(\"FOUFA'S WARRIOR\", 18.929399999999998), ('MIDWAY ROAD', 13.823499999999999), ('NEW YORK HERO', 11.188200000000002)]\n",
      "[('SONG OF THE SWORD', 48.274500000000003), ('WATER CANNON', 36.4529), ('SIR SHACKLETON', 35.088200000000001)]\n",
      "[('GALLOPING GROCER', 26.4314), ('GOING WILD', 22.911799999999999), ('SUN KING', 19.707800000000002)]\n",
      "[(\"GREELEY'S GALAXY\", 32.645099999999999), (\"HEMINGWAY'S KEY\", 25.694099999999999), ('DIABOLICAL', 25.147100000000002)]\n",
      "[('MINT SLEWLEP', 39.100000000000001), ('C P WEST', 21.076499999999999), ('XCHANGER', 18.666699999999999)]\n",
      "[('STEVIL', 39.764699999999998), ('MACHO AGAIN', 35.862700000000004), ('RILEY TUCKER', 34.529400000000003)]\n",
      "[('TONE IT DOWN', 49.0), ('LUV GOV', 43.352899999999998), ('FLYING PRIVATE', 40.411799999999999)]\n",
      "[('NORTHERN GIANT', 27.352899999999998), ('YAWANNA TWIST', 26.852899999999998), ('FIRST DUDE', 16.647100000000002)]\n",
      "[(\"ISN'T HE PERFECT\", 19.441200000000002), ('MR. COMMONS', 15.470600000000001), ('ASTROLOGY', 11.1412)]\n",
      "[('COZZETTI', 29.0), ('TIGER WALK', 25.941200000000002), ('PRETENSION', 23.784300000000002)]\n",
      "[('TITLETOWN FIVE', 28.2941), ('OXBOW', 11.117599999999999), ('ITSMYLUCKYDAY', 6.5293999999999999)]\n",
      "[('PABLO DEL MONTE', 18.647100000000002), ('KID CRUZ', 15.0784), ('BAYERN', 9.0)]\n",
      "[('TALE OF VERVE', 29.117599999999999), ('MR. Z', 14.6471), ('BODHISATTVA', 12.9412)]\n",
      "[('HANUMAN HIGHWAY', nan), ('CAPE TOWN', nan), ('HALORY HUNTER', nan)]\n",
      "[('ADONIS', nan), ('VALHOL', nan), ('GENERAL CHALLENGE', nan)]\n",
      "[('APTITUDE', nan), ('CHINA VISIT', nan), ('COMMENDABLE', nan)]\n",
      "[('STARTAC', 96.419600000000003), ('KEATS', 83.823499999999996), ('INVISIBLE INK', 53.019599999999997)]\n",
      "[(\"IT'SALLINTHECHASE\", 91.852900000000005), ('WILD HORSES', 54.7941), ('REQUEST FOR PAROLE', 24.800000000000001)]\n",
      "[('LONE STAR SKY', 46.276499999999999), ('EYE OF THE TIGER', 38.323500000000003), ('OUTTA HERE', 38.1706)]\n",
      "[('SONG OF THE SWORD', 53.174500000000002), ('PRO PRADO', 48.931399999999996), ('QUINTONS GOLD RUSH', 46.023500000000006)]\n",
      "[('CLOSING ARGUMENT', 66.011799999999994), ('GOING WILD', 55.911799999999999), (\"BUZZARD'S BAY\", nan)]\n",
      "[('DEPUTY GLITTERS', 52.305900000000001), ('STORM TREASURE', 47.370599999999996), ('FLASHY BULL', 40.411799999999999)]\n",
      "[('SEDGEFIELD', 55.776499999999999), ('BWANA BULL', 48.594099999999997), ('TEUFLESBERG', 42.517600000000002)]\n",
      "[('ANAK NAKAL', nan), ('Z HUMOR', 61.529400000000003), ('COOL COAL MAN', 40.529400000000003)]\n",
      "[('MUSKET MAN', 14.800000000000001), ('PAPA CLEM', 7.7881999999999989), ('CHOCOLATE CANDY', 6.5)]\n",
      "[('BACKTALK', 47.735300000000002), (\"DEAN'S KITTEN\", 45.039200000000001), ('HOMEBOYKRIS', 43.470599999999997)]\n",
      "[('WATCH ME GO', 34.264699999999998), ('COMMA TO THE TOP', 28.019600000000001), ('ANIMAL KINGDOM', 27.647100000000002)]\n",
      "[('LIAISON', 47.078400000000002), ('ROUSING SERMON', 43.882399999999997), ('DONE TALKING', 43.039200000000001)]\n",
      "[('LINES OF BATTLE', nan), ('GOLDEN SOUL', 49.117600000000003), ('FRAC DADDY', 48.411799999999999)]\n",
      "[(\"HARRY'S HOLIDAY\", 47.352899999999998), ('COMMANDING CURVE', 46.2941), ('WE MISS ARTIE', 44.039200000000001)]\n",
      "[('OCHO OCHO OCHO', 46.8431), ('FRAMMENTO', 46.529400000000003), ('ITSAKNOCKOUT', nan)]\n",
      "[('IMAWILDANDCRAZYGUY', 9.6471), ('C P WEST', 8.1765000000000008), ('HARD SPUN', 1.0059)]\n",
      "[(\"READY'S ECHO\", 26.588200000000001), ('ICABAD CRANE', 12.0), ('ANAK NAKAL', nan)]\n",
      "[('LUV GOV', 21.352899999999998), ('CHARITABLE MAN', 14.196099999999999), ('SUMMER BIRD', 7.3529)]\n",
      "[('SPANGLED STAR', nan), ('STAY PUT', 19.117599999999999), ('DROSSELMEYER', 10.764699999999999)]\n",
      "[('MASTER OF HOUNDS', nan), ('MONZON', 25.392199999999999), (\"ISN'T HE PERFECT\", 19.441200000000002)]\n",
      "[('GUYANA STAR DWEEJ', 43.352899999999998), ('FIVE SIXTEEN', 43.235300000000002), (\"RAVELO'S BOY\", 39.470599999999997)]\n",
      "[('MIDNIGHT TABOO', 28.7059), ('FRAC DADDY', 28.411799999999999), ('GIANT FINISH', 27.735299999999999)]\n",
      "[('MATUSZAK', 26.411799999999999), ('SAMRAAT', 18.058800000000002), ('MEDAL COUNT', 17.313700000000001)]\n",
      "[('MUBTAAHIJ', nan), ('FRAMMENTO', 26.529399999999999), ('KEEN ICE', 17.588200000000001)]\n",
      "[('OH SO AWESOME', nan), ('PLATINUM COUPLE', 27.441200000000002), (\"HEMINGWAY'S KEY\", 11.2941)]\n"
     ]
    }
   ],
   "source": [
    "def make_bets_baseline(indict, unique_test_dates=unique_test_dates): \n",
    "    outdict = {}\n",
    "    outdict['method'] = []\n",
    "    outdict['no_bets_placed'] = []\n",
    "    outdict['race'] = []\n",
    "    outdict['year'] = []\n",
    "    outdict['profit_wins'] = []\n",
    "    outdict['profit_places'] = []\n",
    "    outdict['profit_shows'] = []\n",
    "    outdict['total_profit'] = []\n",
    "    outdict['cost'] = []\n",
    "    for unique_date in unique_test_dates:\n",
    "        newdict = {}\n",
    "        for key in indict.keys():\n",
    "            date = key[0]\n",
    "            track = key[1]\n",
    "            horse = key[2]\n",
    "            \n",
    "            \n",
    "            if date == unique_date:\n",
    "                newdict[key] = indict[key]\n",
    "                  \n",
    "        # now we have newdict, subsetting based on race (by unique date)\n",
    "        \n",
    "        spread_tup = []\n",
    "        for key in newdict.keys():\n",
    "            date = key[0]\n",
    "            track = key[1]\n",
    "            horse = key[2]\n",
    "\n",
    "            exp_win = newdict[key]['win']\n",
    "            exp_place = newdict[key]['place']\n",
    "            exp_show = newdict[key]['show']\n",
    "\n",
    "            # get the morning line odds for that day to compare\n",
    "            odds = testdf.loc[(testdf.name == horse) & \n",
    "                              (testdf.track == track) & \n",
    "                              (testdf.date == date)]['Odds'].iloc[0]\n",
    "            \n",
    "            spread = odds - payoff_to_odds(exp_win)\n",
    "            spread_tup.append((horse, spread))\n",
    "            \n",
    "        sorted_list = sorted(spread_tup,key=lambda x: x[1], reverse=True)\n",
    "        \n",
    "        print sorted_list[0:3]\n",
    "            \n",
    "#         outdict['method'] = []\n",
    "#         outdict['no_bets_placed'] = []\n",
    "#         outdict['race'] = []\n",
    "#         outdict['year'] = []\n",
    "#         outdict['profit_wins'] = []\n",
    "#         outdict['profit_places'] = []\n",
    "#         outdict['profit_shows'] = []\n",
    "#         outdict['total_profit'] = []\n",
    "#         outdict['cost'] = []\n",
    "\n",
    "make_bets_baseline(avg_payouts)"
   ]
  },
  {
   "cell_type": "code",
   "execution_count": null,
   "metadata": {
    "collapsed": true
   },
   "outputs": [],
   "source": []
  },
  {
   "cell_type": "code",
   "execution_count": null,
   "metadata": {
    "collapsed": true
   },
   "outputs": [],
   "source": []
  },
  {
   "cell_type": "code",
   "execution_count": null,
   "metadata": {
    "collapsed": true
   },
   "outputs": [],
   "source": []
  },
  {
   "cell_type": "code",
   "execution_count": null,
   "metadata": {
    "collapsed": true
   },
   "outputs": [],
   "source": []
  },
  {
   "cell_type": "code",
   "execution_count": 17,
   "metadata": {
    "collapsed": false
   },
   "outputs": [],
   "source": []
  },
  {
   "cell_type": "code",
   "execution_count": null,
   "metadata": {
    "collapsed": true
   },
   "outputs": [],
   "source": []
  }
 ],
 "metadata": {
  "kernelspec": {
   "display_name": "Python 2",
   "language": "python",
   "name": "python2"
  },
  "language_info": {
   "codemirror_mode": {
    "name": "ipython",
    "version": 2
   },
   "file_extension": ".py",
   "mimetype": "text/x-python",
   "name": "python",
   "nbconvert_exporter": "python",
   "pygments_lexer": "ipython2",
   "version": "2.7.10"
  }
 },
 "nbformat": 4,
 "nbformat_minor": 0
}
